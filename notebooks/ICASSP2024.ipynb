{
 "cells": [
  {
   "cell_type": "code",
   "execution_count": 79,
   "metadata": {},
   "outputs": [],
   "source": [
    "from whisperweranalysis.structure import LJSpeech, Predicted_MOS, LenRTF\n",
    "from whisperweranalysis.groundtruth import lj_valid, rtf_list_gpt2\n",
    "from whisperweranalysis.wer import compute"
   ]
  },
  {
   "cell_type": "code",
   "execution_count": 80,
   "metadata": {},
   "outputs": [],
   "source": [
    "from whisperweranalysis.mel_utilities import audio2mel"
   ]
  },
  {
   "cell_type": "code",
   "execution_count": 81,
   "metadata": {},
   "outputs": [],
   "source": [
    "# audio2mel()"
   ]
  },
  {
   "cell_type": "code",
   "execution_count": 82,
   "metadata": {},
   "outputs": [
    {
     "name": "stdout",
     "output_type": "stream",
     "text": [
      "The autoreload extension is already loaded. To reload it, use:\n",
      "  %reload_ext autoreload\n"
     ]
    }
   ],
   "source": [
    "%load_ext autoreload\n",
    "%autoreload 2"
   ]
  },
  {
   "cell_type": "code",
   "execution_count": 83,
   "metadata": {},
   "outputs": [],
   "source": [
    "import seaborn as sns\n",
    "import numpy as np"
   ]
  },
  {
   "cell_type": "code",
   "execution_count": 84,
   "metadata": {},
   "outputs": [
    {
     "data": {
      "text/plain": [
       "(273, 5, 110.61111111111111, 67.75850818973781)"
      ]
     },
     "execution_count": 84,
     "metadata": {},
     "output_type": "execute_result"
    }
   ],
   "source": [
    "lens = np.array([len(x.split()) for x in rtf_list_gpt2])\n",
    "np.max(lens), np.min(lens), np.mean(lens), np.std(lens)"
   ]
  },
  {
   "cell_type": "code",
   "execution_count": 85,
   "metadata": {},
   "outputs": [
    {
     "data": {
      "text/plain": [
       "<seaborn.axisgrid.FacetGrid at 0x7fddd7988af0>"
      ]
     },
     "execution_count": 85,
     "metadata": {},
     "output_type": "execute_result"
    },
    {
     "data": {
      "image/png": "[encoded data removed]",
      "text/plain": [
       "<Figure size 500x500 with 1 Axes>"
      ]
     },
     "metadata": {},
     "output_type": "display_data"
    }
   ],
   "source": [
    "sns.displot(lens, bins=100, kde=True, color=\"red\", )"
   ]
  },
  {
   "cell_type": "code",
   "execution_count": 8,
   "metadata": {},
   "outputs": [],
   "source": [
    "GT_Mel = LJSpeech.load_from_dir('../whisperweranalysis/transcription/VOC/2')"
   ]
  },
  {
   "cell_type": "code",
   "execution_count": 9,
   "metadata": {},
   "outputs": [
    {
     "data": {
      "text/plain": [
       "2.272727272727273"
      ]
     },
     "execution_count": 9,
     "metadata": {},
     "output_type": "execute_result"
    }
   ],
   "source": [
    "compute(lj_valid, GT_Mel.transcriptions)"
   ]
  },
  {
   "cell_type": "markdown",
   "metadata": {},
   "source": [
    "## Plotting time"
   ]
  },
  {
   "cell_type": "code",
   "execution_count": 10,
   "metadata": {},
   "outputs": [],
   "source": [
    "from collections import defaultdict\n",
    "from pathlib import Path\n",
    "from whisperweranalysis.checkpoint_mover import get_list_iter"
   ]
  },
  {
   "cell_type": "code",
   "execution_count": 11,
   "metadata": {},
   "outputs": [],
   "source": [
    "TRANS_DIR = Path('../whisperweranalysis/transcription')"
   ]
  },
  {
   "cell_type": "code",
   "execution_count": 12,
   "metadata": {},
   "outputs": [],
   "source": [
    "all_systems = defaultdict(lambda: defaultdict(int))\n",
    "for system in TRANS_DIR.glob('*'):\n",
    "    for iter_ in sorted(list(system.glob('*')), key=lambda x: int(x.name)):\n",
    "        lj_struct = LJSpeech.load_from_dir(iter_)\n",
    "        lj_struct.compute_wer(lj_valid)\n",
    "        all_systems[system.name][int(iter_.name)] = lj_struct.wer\n",
    "        # if int(iter_.name) > 50000:\n",
    "        #     break\n",
    "        \n",
    "# all_systems['VOC_500'] = { x: list(all_systems['VOC'].values())[0] for x in all_systems['Tacotron2_500']}"
   ]
  },
  {
   "cell_type": "code",
   "execution_count": 13,
   "metadata": {},
   "outputs": [
    {
     "data": {
      "text/plain": [
       "dict_keys(['VOC', 'FS2', 'GRAD', 'MATCHA', 'VITS'])"
      ]
     },
     "execution_count": 13,
     "metadata": {},
     "output_type": "execute_result"
    }
   ],
   "source": [
    "all_systems.keys()"
   ]
  },
  {
   "cell_type": "code",
   "execution_count": 14,
   "metadata": {},
   "outputs": [],
   "source": [
    "\n",
    "systems = {\n",
    "    'MATCHA': all_systems['MATCHA'],\n",
    "    'GRAD': all_systems['GRAD'],\n",
    "    'VOC': all_systems['VOC'],\n",
    "    'VITS': all_systems['VITS'],\n",
    "    'FS2': all_systems['FS2'],\n",
    "}\n",
    "\n",
    "y_values, legend_labels = [], []\n",
    "for model in systems:\n",
    "    y_values.append([v for k, v in systems[model].items() if k <= 100000])\n",
    "    legend_labels.append(model)\n",
    "    \n"
   ]
  },
  {
   "cell_type": "code",
   "execution_count": 15,
   "metadata": {},
   "outputs": [
    {
     "data": {
      "text/plain": [
       "dict_keys(['VOC', 'FS2', 'GRAD', 'MATCHA', 'VITS'])"
      ]
     },
     "execution_count": 15,
     "metadata": {},
     "output_type": "execute_result"
    }
   ],
   "source": [
    "all_systems.keys()"
   ]
  },
  {
   "cell_type": "code",
   "execution_count": 16,
   "metadata": {},
   "outputs": [
    {
     "data": {
      "text/plain": [
       "defaultdict(<function __main__.<lambda>()>,\n",
       "            {'VOC': defaultdict(int,\n",
       "                         {1: 2.272727272727273,\n",
       "                          2: 2.272727272727273,\n",
       "                          3: 2.272727272727273,\n",
       "                          4: 2.272727272727273,\n",
       "                          5: 2.272727272727273,\n",
       "                          10: 2.272727272727273,\n",
       "                          25: 2.272727272727273,\n",
       "                          50: 2.272727272727273,\n",
       "                          100: 2.272727272727273}),\n",
       "             'FS2': defaultdict(int,\n",
       "                         {1: 4.238329238329238,\n",
       "                          2: 4.238329238329238,\n",
       "                          3: 4.238329238329238,\n",
       "                          4: 4.238329238329238,\n",
       "                          5: 4.238329238329238,\n",
       "                          10: 4.238329238329238,\n",
       "                          25: 4.238329238329238,\n",
       "                          50: 4.238329238329238,\n",
       "                          100: 4.238329238329238}),\n",
       "             'GRAD': defaultdict(int,\n",
       "                         {1: 3.6240786240786242,\n",
       "                          2: 3.86977886977887,\n",
       "                          3: 3.501228501228501,\n",
       "                          4: 3.746928746928747,\n",
       "                          5: 3.501228501228501,\n",
       "                          10: 3.501228501228501,\n",
       "                          25: 3.562653562653563,\n",
       "                          50: 3.8083538083538087,\n",
       "                          100: 3.746928746928747}),\n",
       "             'MATCHA': defaultdict(int,\n",
       "                         {1: 2.8255528255528257,\n",
       "                          2: 2.886977886977887,\n",
       "                          3: 2.7027027027027026,\n",
       "                          4: 2.5798525798525795,\n",
       "                          5: 2.764127764127764,\n",
       "                          10: 2.5798525798525795,\n",
       "                          25: 3.0712530712530715,\n",
       "                          50: 2.5798525798525795,\n",
       "                          100: 2.457002457002457}),\n",
       "             'VITS': defaultdict(int,\n",
       "                         {1: 2.5798525798525795,\n",
       "                          2: 2.5798525798525795,\n",
       "                          3: 2.5798525798525795,\n",
       "                          4: 2.5798525798525795,\n",
       "                          5: 2.5798525798525795,\n",
       "                          10: 2.5798525798525795,\n",
       "                          25: 2.5798525798525795,\n",
       "                          50: 2.5798525798525795,\n",
       "                          100: 2.5798525798525795})})"
      ]
     },
     "execution_count": 16,
     "metadata": {},
     "output_type": "execute_result"
    }
   ],
   "source": [
    "all_systems"
   ]
  },
  {
   "cell_type": "code",
   "execution_count": 17,
   "metadata": {},
   "outputs": [
    {
     "data": {
      "text/plain": [
       "(5,\n",
       " 9,\n",
       " [[2.8255528255528257,\n",
       "   2.886977886977887,\n",
       "   2.7027027027027026,\n",
       "   2.5798525798525795,\n",
       "   2.764127764127764,\n",
       "   2.5798525798525795,\n",
       "   3.0712530712530715,\n",
       "   2.5798525798525795,\n",
       "   2.457002457002457],\n",
       "  [3.6240786240786242,\n",
       "   3.86977886977887,\n",
       "   3.501228501228501,\n",
       "   3.746928746928747,\n",
       "   3.501228501228501,\n",
       "   3.501228501228501,\n",
       "   3.562653562653563,\n",
       "   3.8083538083538087,\n",
       "   3.746928746928747],\n",
       "  [2.272727272727273,\n",
       "   2.272727272727273,\n",
       "   2.272727272727273,\n",
       "   2.272727272727273,\n",
       "   2.272727272727273,\n",
       "   2.272727272727273,\n",
       "   2.272727272727273,\n",
       "   2.272727272727273,\n",
       "   2.272727272727273],\n",
       "  [2.5798525798525795,\n",
       "   2.5798525798525795,\n",
       "   2.5798525798525795,\n",
       "   2.5798525798525795,\n",
       "   2.5798525798525795,\n",
       "   2.5798525798525795,\n",
       "   2.5798525798525795,\n",
       "   2.5798525798525795,\n",
       "   2.5798525798525795],\n",
       "  [4.238329238329238,\n",
       "   4.238329238329238,\n",
       "   4.238329238329238,\n",
       "   4.238329238329238,\n",
       "   4.238329238329238,\n",
       "   4.238329238329238,\n",
       "   4.238329238329238,\n",
       "   4.238329238329238,\n",
       "   4.238329238329238]])"
      ]
     },
     "execution_count": 17,
     "metadata": {},
     "output_type": "execute_result"
    }
   ],
   "source": [
    "len(y_values), len(y_values[0]), y_values"
   ]
  },
  {
   "cell_type": "code",
   "execution_count": 18,
   "metadata": {},
   "outputs": [
    {
     "name": "stderr",
     "output_type": "stream",
     "text": [
      "/home/smehta/Projects/whisper-analysis-plots/whisperweranalysis/plotting/line.py:241: UserWarning: Attempt to set non-positive xlim on a log-scaled axis will be ignored.\n",
      "  ax.set_xlim(xlim)\n",
      "/home/smehta/Projects/whisper-analysis-plots/whisperweranalysis/plotting/line.py:242: UserWarning: Attempt to set non-positive ylim on a log-scaled axis will be ignored.\n",
      "  ax.set_ylim(ylim)\n"
     ]
    },
    {
     "data": {
      "image/png": "[encoded data removed]",
      "text/plain": [
       "<Figure size 640x480 with 1 Axes>"
      ]
     },
     "metadata": {},
     "output_type": "display_data"
    }
   ],
   "source": [
    "from whisperweranalysis.plotting.line import plot_lines\n",
    "import matplotlib.pyplot as plt\n",
    "\n",
    "x = sorted([1, 2, 3, 4, 5, 10, 25, 50, 100])\n",
    "\n",
    "x_ticks = [1, 2, 3, 4, 5, 10, 25, 50, 100] \n",
    "x_tick_labels = ['1', '2', '3', '4', '5', '10', '25', '50', '100']\n",
    "y_ticks = [1, 2, 3, 4, 5, 6, 10] #, 25, 50, 100]\n",
    "y_tick_labels = ['1', '2', '3', '4', '5', '6', '10'] #, '25', '50', '100']\n",
    "plot_colors = ['#d62728', '#0047AB','#9467bd', '#2ca02c', '#8b0000', '#8c564b', '#17becf'] #, '#d62728', '#0047AB', '#2ca02c', ]\n",
    "line_format = ['-', '-', ':', ':', ':', '-', '-'] # '--', '--', '--']\n",
    "aspect_ratio = (2, 1)\n",
    "output_filename = 'asr_nfe.pdf'\n",
    "plot_log_x = True\n",
    "plot_log_y = True\n",
    "xlim = (0, 100)\n",
    "# with plt.xkcd():\n",
    "plot_lines([x], y_values, \n",
    "            x_label='NFE',\n",
    "            y_label='ASR WER (%)', \n",
    "            legend_label=legend_labels,\n",
    "            line_format=line_format,\n",
    "            plot_colors=plot_colors,\n",
    "            aspect_ratio=aspect_ratio,\n",
    "            x_ticks=x_ticks,\n",
    "            x_tick_labels=x_tick_labels,\n",
    "            y_ticks=y_ticks,\n",
    "            y_tick_labels=y_tick_labels,\n",
    "            file_name=output_filename,\n",
    "            plot_log_x=plot_log_x,\n",
    "            plot_log_y=plot_log_y,\n",
    "            xlim=xlim,\n",
    "\n",
    "    )"
   ]
  },
  {
   "cell_type": "markdown",
   "metadata": {},
   "source": [
    "## Predicted MOS plot"
   ]
  },
  {
   "cell_type": "code",
   "execution_count": 19,
   "metadata": {},
   "outputs": [],
   "source": [
    "WAVEFORM_PATH = Path('../whisperweranalysis/waveforms_ICASSP24')"
   ]
  },
  {
   "cell_type": "code",
   "execution_count": 20,
   "metadata": {},
   "outputs": [],
   "source": [
    "all_systems = defaultdict(lambda: defaultdict(int))\n",
    "for system in WAVEFORM_PATH.glob('*'):\n",
    "    for iter_ in sorted(list(system.glob('*')), key=lambda x: int(x.name)):\n",
    "        predicted_mos = Predicted_MOS.load_from_dir(iter_)\n",
    "        all_systems[system.name][int(iter_.name)] = predicted_mos "
   ]
  },
  {
   "cell_type": "code",
   "execution_count": 21,
   "metadata": {},
   "outputs": [
    {
     "data": {
      "text/plain": [
       "dict_values([Predicted_MOS(model_name=VOC, iterations=1, mean=4.540, std=0.138, min=4.161, max=4.760, median=4.557, mode=4.352, count=98), Predicted_MOS(model_name=VOC, iterations=2, mean=4.540, std=0.138, min=4.161, max=4.760, median=4.557, mode=4.352, count=98), Predicted_MOS(model_name=VOC, iterations=3, mean=4.540, std=0.138, min=4.161, max=4.760, median=4.557, mode=4.352, count=98), Predicted_MOS(model_name=VOC, iterations=4, mean=4.540, std=0.138, min=4.161, max=4.760, median=4.557, mode=4.352, count=98), Predicted_MOS(model_name=VOC, iterations=5, mean=4.540, std=0.138, min=4.161, max=4.760, median=4.557, mode=4.352, count=98), Predicted_MOS(model_name=VOC, iterations=10, mean=4.540, std=0.138, min=4.161, max=4.760, median=4.557, mode=4.352, count=98), Predicted_MOS(model_name=VOC, iterations=25, mean=4.540, std=0.138, min=4.161, max=4.760, median=4.557, mode=4.352, count=98), Predicted_MOS(model_name=VOC, iterations=50, mean=4.540, std=0.138, min=4.161, max=4.760, median=4.557, mode=4.352, count=98), Predicted_MOS(model_name=VOC, iterations=100, mean=4.540, std=0.138, min=4.161, max=4.760, median=4.557, mode=4.352, count=98)])"
      ]
     },
     "execution_count": 21,
     "metadata": {},
     "output_type": "execute_result"
    }
   ],
   "source": [
    "all_systems['VOC'].values()"
   ]
  },
  {
   "cell_type": "code",
   "execution_count": 22,
   "metadata": {},
   "outputs": [],
   "source": [
    "\n",
    "systems = {\n",
    "    'MATCHA': all_systems['MATCHA'],\n",
    "    'GRAD': all_systems['GRAD'],\n",
    "    'VOC': all_systems['VOC'],\n",
    "    'VITS': all_systems['VITS'],\n",
    "    'FS2': all_systems['FS2'],\n",
    "}\n",
    "\n",
    "y_values, legend_labels = [], []\n",
    "for model in systems:\n",
    "    per_nfe = []\n",
    "    for k, v in systems[model].items():\n",
    "        per_nfe.append(list(v.predicted_mos.values()))\n",
    "    y_values.append(per_nfe)\n",
    "    legend_labels.append(model)\n",
    "    \n"
   ]
  },
  {
   "cell_type": "code",
   "execution_count": 23,
   "metadata": {},
   "outputs": [
    {
     "data": {
      "text/plain": [
       "{'MATCHA': defaultdict(int,\n",
       "             {1: Predicted_MOS(model_name=MATCHA, iterations=1, mean=4.376, std=0.251, min=3.247, max=4.711, median=4.417, mode=4.619, count=98),\n",
       "              2: Predicted_MOS(model_name=MATCHA, iterations=2, mean=4.645, std=0.108, min=4.175, max=4.808, median=4.665, mode=4.777, count=98),\n",
       "              3: Predicted_MOS(model_name=MATCHA, iterations=3, mean=4.668, std=0.094, min=4.224, max=4.832, median=4.679, mode=4.824, count=98),\n",
       "              4: Predicted_MOS(model_name=MATCHA, iterations=4, mean=4.674, std=0.095, min=4.230, max=4.848, median=4.680, mode=4.781, count=98),\n",
       "              5: Predicted_MOS(model_name=MATCHA, iterations=5, mean=4.670, std=0.105, min=4.151, max=4.848, median=4.688, mode=4.779, count=98),\n",
       "              10: Predicted_MOS(model_name=MATCHA, iterations=10, mean=4.669, std=0.090, min=4.312, max=4.823, median=4.680, mode=4.791, count=98),\n",
       "              25: Predicted_MOS(model_name=MATCHA, iterations=25, mean=4.659, std=0.097, min=4.361, max=4.867, median=4.665, mode=4.742, count=98),\n",
       "              50: Predicted_MOS(model_name=MATCHA, iterations=50, mean=4.660, std=0.091, min=4.380, max=4.842, median=4.668, mode=4.795, count=98),\n",
       "              100: Predicted_MOS(model_name=MATCHA, iterations=100, mean=4.651, std=0.102, min=4.186, max=4.833, median=4.664, mode=4.763, count=98)}),\n",
       " 'GRAD': defaultdict(int,\n",
       "             {1: Predicted_MOS(model_name=GRAD, iterations=1, mean=3.314, std=0.353, min=2.594, max=4.296, median=3.318, mode=3.556, count=98),\n",
       "              2: Predicted_MOS(model_name=GRAD, iterations=2, mean=3.621, std=0.312, min=2.890, max=4.389, median=3.637, mode=3.758, count=98),\n",
       "              3: Predicted_MOS(model_name=GRAD, iterations=3, mean=4.093, std=0.234, min=3.431, max=4.610, median=4.099, mode=4.174, count=98),\n",
       "              4: Predicted_MOS(model_name=GRAD, iterations=4, mean=4.319, std=0.207, min=3.827, max=4.666, median=4.357, mode=4.434, count=98),\n",
       "              5: Predicted_MOS(model_name=GRAD, iterations=5, mean=4.422, std=0.179, min=3.856, max=4.910, median=4.441, mode=4.492, count=98),\n",
       "              10: Predicted_MOS(model_name=GRAD, iterations=10, mean=4.551, std=0.137, min=4.082, max=4.820, median=4.565, mode=4.601, count=98),\n",
       "              25: Predicted_MOS(model_name=GRAD, iterations=25, mean=4.572, std=0.119, min=4.098, max=4.794, median=4.592, mode=4.607, count=98),\n",
       "              50: Predicted_MOS(model_name=GRAD, iterations=50, mean=4.584, std=0.120, min=4.224, max=4.803, median=4.613, mode=4.596, count=98),\n",
       "              100: Predicted_MOS(model_name=GRAD, iterations=100, mean=4.577, std=0.122, min=4.261, max=4.803, median=4.589, mode=4.653, count=98)}),\n",
       " 'VOC': defaultdict(int,\n",
       "             {1: Predicted_MOS(model_name=VOC, iterations=1, mean=4.540, std=0.138, min=4.161, max=4.760, median=4.557, mode=4.352, count=98),\n",
       "              2: Predicted_MOS(model_name=VOC, iterations=2, mean=4.540, std=0.138, min=4.161, max=4.760, median=4.557, mode=4.352, count=98),\n",
       "              3: Predicted_MOS(model_name=VOC, iterations=3, mean=4.540, std=0.138, min=4.161, max=4.760, median=4.557, mode=4.352, count=98),\n",
       "              4: Predicted_MOS(model_name=VOC, iterations=4, mean=4.540, std=0.138, min=4.161, max=4.760, median=4.557, mode=4.352, count=98),\n",
       "              5: Predicted_MOS(model_name=VOC, iterations=5, mean=4.540, std=0.138, min=4.161, max=4.760, median=4.557, mode=4.352, count=98),\n",
       "              10: Predicted_MOS(model_name=VOC, iterations=10, mean=4.540, std=0.138, min=4.161, max=4.760, median=4.557, mode=4.352, count=98),\n",
       "              25: Predicted_MOS(model_name=VOC, iterations=25, mean=4.540, std=0.138, min=4.161, max=4.760, median=4.557, mode=4.352, count=98),\n",
       "              50: Predicted_MOS(model_name=VOC, iterations=50, mean=4.540, std=0.138, min=4.161, max=4.760, median=4.557, mode=4.352, count=98),\n",
       "              100: Predicted_MOS(model_name=VOC, iterations=100, mean=4.540, std=0.138, min=4.161, max=4.760, median=4.557, mode=4.352, count=98)}),\n",
       " 'VITS': defaultdict(int,\n",
       "             {1: Predicted_MOS(model_name=VITS, iterations=1, mean=4.662, std=0.091, min=4.402, max=4.879, median=4.677, mode=4.604, count=98),\n",
       "              2: Predicted_MOS(model_name=VITS, iterations=2, mean=4.662, std=0.091, min=4.402, max=4.879, median=4.677, mode=4.604, count=98),\n",
       "              3: Predicted_MOS(model_name=VITS, iterations=3, mean=4.662, std=0.091, min=4.402, max=4.879, median=4.677, mode=4.604, count=98),\n",
       "              4: Predicted_MOS(model_name=VITS, iterations=4, mean=4.662, std=0.091, min=4.402, max=4.879, median=4.677, mode=4.604, count=98),\n",
       "              5: Predicted_MOS(model_name=VITS, iterations=5, mean=4.662, std=0.091, min=4.402, max=4.879, median=4.677, mode=4.604, count=98),\n",
       "              10: Predicted_MOS(model_name=VITS, iterations=10, mean=4.662, std=0.091, min=4.402, max=4.879, median=4.677, mode=4.604, count=98),\n",
       "              25: Predicted_MOS(model_name=VITS, iterations=25, mean=4.662, std=0.091, min=4.402, max=4.879, median=4.677, mode=4.604, count=98),\n",
       "              50: Predicted_MOS(model_name=VITS, iterations=50, mean=4.662, std=0.091, min=4.402, max=4.879, median=4.677, mode=4.604, count=98),\n",
       "              100: Predicted_MOS(model_name=VITS, iterations=100, mean=4.662, std=0.091, min=4.402, max=4.879, median=4.677, mode=4.604, count=98)}),\n",
       " 'FS2': defaultdict(int,\n",
       "             {1: Predicted_MOS(model_name=FS2, iterations=1, mean=4.647, std=0.107, min=4.310, max=4.845, median=4.669, mode=4.578, count=98),\n",
       "              2: Predicted_MOS(model_name=FS2, iterations=2, mean=4.647, std=0.107, min=4.310, max=4.845, median=4.669, mode=4.578, count=98),\n",
       "              3: Predicted_MOS(model_name=FS2, iterations=3, mean=4.647, std=0.107, min=4.310, max=4.845, median=4.669, mode=4.578, count=98),\n",
       "              4: Predicted_MOS(model_name=FS2, iterations=4, mean=4.647, std=0.107, min=4.310, max=4.845, median=4.669, mode=4.578, count=98),\n",
       "              5: Predicted_MOS(model_name=FS2, iterations=5, mean=4.647, std=0.107, min=4.310, max=4.845, median=4.669, mode=4.578, count=98),\n",
       "              10: Predicted_MOS(model_name=FS2, iterations=10, mean=4.647, std=0.107, min=4.310, max=4.845, median=4.669, mode=4.578, count=98),\n",
       "              25: Predicted_MOS(model_name=FS2, iterations=25, mean=4.647, std=0.107, min=4.310, max=4.845, median=4.669, mode=4.578, count=98),\n",
       "              50: Predicted_MOS(model_name=FS2, iterations=50, mean=4.647, std=0.107, min=4.310, max=4.845, median=4.669, mode=4.578, count=98),\n",
       "              100: Predicted_MOS(model_name=FS2, iterations=100, mean=4.647, std=0.107, min=4.310, max=4.845, median=4.669, mode=4.578, count=98)})}"
      ]
     },
     "execution_count": 23,
     "metadata": {},
     "output_type": "execute_result"
    }
   ],
   "source": [
    "systems"
   ]
  },
  {
   "cell_type": "code",
   "execution_count": 24,
   "metadata": {},
   "outputs": [
    {
     "name": "stderr",
     "output_type": "stream",
     "text": [
      "/home/smehta/Projects/whisper-analysis-plots/whisperweranalysis/plotting/line.py:374: UserWarning: Attempt to set non-positive xlim on a log-scaled axis will be ignored.\n",
      "  ax.set_xlim(xlim)\n",
      "/home/smehta/Projects/whisper-analysis-plots/whisperweranalysis/plotting/line.py:375: UserWarning: Attempt to set non-positive ylim on a log-scaled axis will be ignored.\n",
      "  ax.set_ylim(ylim)\n"
     ]
    },
    {
     "data": {
      "image/png": "[encoded data removed]",
      "text/plain": [
       "<Figure size 640x480 with 1 Axes>"
      ]
     },
     "metadata": {},
     "output_type": "display_data"
    }
   ],
   "source": [
    "from whisperweranalysis.plotting.line import plot_lines_with_confidence_intervals\n",
    "import matplotlib.pyplot as plt\n",
    "x = sorted([1, 2, 3, 4, 5, 10, 25, 50, 100])\n",
    "x_ticks = [1, 2, 3, 4, 5, 10, 25, 50, 100] \n",
    "x_tick_labels = ['1', '2', '3', '4', '5', '10', '25', '50', '100']\n",
    "y_ticks = [3.5, 4, 4.5, 5] #, 25, 50, 100]\n",
    "y_tick_labels = ['3.5', '4', '4.5', '5'] #, '25', '50', '100']\n",
    "plot_colors = ['#d62728', '#0047AB','#9467bd', '#2ca02c', '#8b0000', '#8c564b', '#17becf'] #, '#d62728', '#0047AB', '#2ca02c', ]\n",
    "line_format = ['-', '-', '-', '-', ':', '-', '-'] # '--', '--', '--']\n",
    "aspect_ratio = (2, 1)\n",
    "output_filename = 'mos_nfe.pdf'\n",
    "plot_log_x = True\n",
    "plot_log_y = True\n",
    "xlim = (0, 100)\n",
    "# with plt.xkcd():\n",
    "plot_lines_with_confidence_intervals([x], y_values, \n",
    "            x_label='NFE',\n",
    "            y_label='Predicted MOS', \n",
    "            legend_label=legend_labels,\n",
    "            line_format=line_format,\n",
    "            plot_colors=plot_colors,\n",
    "            aspect_ratio=aspect_ratio,\n",
    "            x_ticks=x_ticks,\n",
    "            x_tick_labels=x_tick_labels,\n",
    "            y_ticks=y_ticks,\n",
    "            y_tick_labels=y_tick_labels,\n",
    "            file_name=output_filename,\n",
    "            plot_log_x=plot_log_x,\n",
    "            plot_log_y=plot_log_y,\n",
    "            xlim=xlim,\n",
    "            plot_confidence=False,\n",
    "    )"
   ]
  },
  {
   "cell_type": "markdown",
   "metadata": {},
   "source": [
    "# Speed comparison plots"
   ]
  },
  {
   "cell_type": "code",
   "execution_count": 160,
   "metadata": {},
   "outputs": [],
   "source": [
    "SPEED_COMPARISON_DIR=Path('../whisperweranalysis/speed_comparison')\n",
    "\n",
    "models = [\n",
    "    'FS2',\n",
    "    'VITS',\n",
    "    # 'GRAD_1',\n",
    "    'GRAD_4',\n",
    "    'GRAD_10',\n",
    "    'GRAD_50',\n",
    "    # 'MATCHA_1',\n",
    "    'MATCHA_4',\n",
    "    'MATCHA_10',\n",
    "    'MATCHA_50',\n",
    "]\n",
    "\n",
    "len_rtfs= []\n",
    "for model in models:\n",
    "    len_rtfs.append(LenRTF.from_json(SPEED_COMPARISON_DIR/f'{model}.json'))"
   ]
  },
  {
   "cell_type": "code",
   "execution_count": 161,
   "metadata": {},
   "outputs": [
    {
     "data": {
      "text/plain": [
       "[LenRTF(FS2: len=167, mean±std=0.156±0.075, min:0.026, max=0.335),\n",
       " LenRTF(VITS: len=167, mean±std=0.346±0.243, min:0.149, max=3.347),\n",
       " LenRTF(GRAD_4: len=167, mean±std=0.533±0.286, min:0.081, max=1.268),\n",
       " LenRTF(GRAD_10: len=167, mean±std=1.081±0.611, min:0.168, max=2.576),\n",
       " LenRTF(GRAD_50: len=167, mean±std=4.968±2.832, min:0.704, max=11.930),\n",
       " LenRTF(MATCHA_4: len=167, mean±std=0.242±0.101, min:0.092, max=0.766),\n",
       " LenRTF(MATCHA_10: len=167, mean±std=0.355±0.145, min:0.180, max=1.328),\n",
       " LenRTF(MATCHA_50: len=167, mean±std=1.138±0.365, min:0.720, max=3.306)]"
      ]
     },
     "execution_count": 161,
     "metadata": {},
     "output_type": "execute_result"
    }
   ],
   "source": [
    "len_rtfs"
   ]
  },
  {
   "cell_type": "code",
   "execution_count": 162,
   "metadata": {},
   "outputs": [],
   "source": [
    "xs = []\n",
    "ys = []\n",
    "for x in len_rtfs:\n",
    "    x_per_file = []\n",
    "    y_per_file = []\n",
    "    for key, value in x.data.items():\n",
    "        for v in value:\n",
    "            x_per_file.append(int(key))\n",
    "            y_per_file.append(v)\n",
    "    xs.append(x_per_file)\n",
    "    ys.append(y_per_file)\n"
   ]
  },
  {
   "cell_type": "code",
   "execution_count": 163,
   "metadata": {},
   "outputs": [
    {
     "data": {
      "text/plain": [
       "(8, 180, 520)"
      ]
     },
     "execution_count": 163,
     "metadata": {},
     "output_type": "execute_result"
    }
   ],
   "source": [
    "len(xs), len(xs[0]), xs[0][0]"
   ]
  },
  {
   "cell_type": "code",
   "execution_count": 165,
   "metadata": {},
   "outputs": [
    {
     "ename": "ValueError",
     "evalue": "too many values to unpack (expected 2)",
     "output_type": "error",
     "traceback": [
      "\u001b[0;31m---------------------------------------------------------------------------\u001b[0m",
      "\u001b[0;31mValueError\u001b[0m                                Traceback (most recent call last)",
      "Cell \u001b[0;32mIn[165], line 22\u001b[0m\n\u001b[1;32m     19\u001b[0m radius\u001b[39m=\u001b[39m\u001b[39m12\u001b[39m\n\u001b[1;32m     20\u001b[0m \u001b[39m# with plt.xkcd():\u001b[39;00m\n\u001b[0;32m---> 22\u001b[0m plot_scatter_from_list_of_dict(\n\u001b[1;32m     23\u001b[0m         xs, ys, \n\u001b[1;32m     24\u001b[0m         x_label\u001b[39m=\u001b[39;49m\u001b[39m'\u001b[39;49m\u001b[39mText length (characters)\u001b[39;49m\u001b[39m'\u001b[39;49m,\n\u001b[1;32m     25\u001b[0m         y_label\u001b[39m=\u001b[39;49m\u001b[39m'\u001b[39;49m\u001b[39mSynthesis time (s)\u001b[39;49m\u001b[39m'\u001b[39;49m,\n\u001b[1;32m     26\u001b[0m         legend_label\u001b[39m=\u001b[39;49mmodels,\n\u001b[1;32m     27\u001b[0m         markers\u001b[39m=\u001b[39;49mmarkers,\n\u001b[1;32m     28\u001b[0m         plot_colors\u001b[39m=\u001b[39;49mplot_colors,\n\u001b[1;32m     29\u001b[0m         aspect_ratio\u001b[39m=\u001b[39;49maspect_ratio,\n\u001b[1;32m     30\u001b[0m         x_ticks\u001b[39m=\u001b[39;49mx_ticks,\n\u001b[1;32m     31\u001b[0m         x_tick_labels\u001b[39m=\u001b[39;49mx_tick_labels,\n\u001b[1;32m     32\u001b[0m         y_ticks\u001b[39m=\u001b[39;49my_ticks,\n\u001b[1;32m     33\u001b[0m         y_tick_labels\u001b[39m=\u001b[39;49my_tick_labels,\n\u001b[1;32m     34\u001b[0m         file_name\u001b[39m=\u001b[39;49moutput_filename,\n\u001b[1;32m     35\u001b[0m         plot_log_x\u001b[39m=\u001b[39;49mplot_log_x,\n\u001b[1;32m     36\u001b[0m         plot_log_y\u001b[39m=\u001b[39;49mplot_log_y,\n\u001b[1;32m     37\u001b[0m         xlim\u001b[39m=\u001b[39;49mxlim,\n\u001b[1;32m     38\u001b[0m         ylim\u001b[39m=\u001b[39;49mylim,\n\u001b[1;32m     39\u001b[0m         plot_confidence\u001b[39m=\u001b[39;49m\u001b[39mFalse\u001b[39;49;00m,\n\u001b[1;32m     40\u001b[0m         radius\u001b[39m=\u001b[39;49mradius,\n\u001b[1;32m     41\u001b[0m )\n",
      "File \u001b[0;32m~/Projects/whisper-analysis-plots/whisperweranalysis/plotting/scatter.py:198\u001b[0m, in \u001b[0;36mplot_scatter_from_list_of_dict\u001b[0;34m(xs, ys, x_label, y_label, legend_label, title, x_ticks, x_tick_labels, y_ticks, y_tick_labels, markers, plot_colors, file_name, xlim, ylim, aspect_ratio, plot_log_x, plot_log_y, radius, **kwargs)\u001b[0m\n\u001b[1;32m    188\u001b[0m     color \u001b[39m=\u001b[39m \u001b[39mnext\u001b[39m(color_iterator)\n\u001b[1;32m    189\u001b[0m     ax\u001b[39m.\u001b[39mscatter(\n\u001b[1;32m    190\u001b[0m                 x,\n\u001b[1;32m    191\u001b[0m                 y,\n\u001b[0;32m   (...)\u001b[0m\n\u001b[1;32m    195\u001b[0m                 s\u001b[39m=\u001b[39mradius,\n\u001b[1;32m    196\u001b[0m             )\n\u001b[0;32m--> 198\u001b[0m \u001b[39mif\u001b[39;00m plot_log_x:\n\u001b[1;32m    199\u001b[0m     ax\u001b[39m.\u001b[39mset_xscale(\u001b[39m\"\u001b[39m\u001b[39mlog\u001b[39m\u001b[39m\"\u001b[39m)\n\u001b[1;32m    200\u001b[0m \u001b[39mif\u001b[39;00m plot_log_y:\n",
      "\u001b[0;31mValueError\u001b[0m: too many values to unpack (expected 2)"
     ]
    },
    {
     "data": {
      "image/png": "[encoded data removed]",
      "text/plain": [
       "<Figure size 640x480 with 1 Axes>"
      ]
     },
     "metadata": {},
     "output_type": "display_data"
    }
   ],
   "source": [
    "from whisperweranalysis.plotting.scatter import plot_scatter_from_list_of_dict\n",
    "import matplotlib.pyplot as plt\n",
    "\n",
    "\n",
    "x_ticks = [10, 20, 50, 100, 200, 500, 1000, 1500]\n",
    "x_tick_labels = list(map(str, x_ticks))\n",
    "y_ticks = [0.1, 0.5, 1,  5, 15]\n",
    "y_tick_labels = list(map(str, y_ticks))\n",
    "plot_colors = ['#d62728', '#0047AB','#9467bd', '#2ca02c', '#8b0000', '#8c564b',  '#7f7f7f', '#bcbd22','#e377c2', '#17becf']\n",
    "# ('.', 'o', 'v', '^', '<', '>', '8', 's', 'p', '*', 'h', 'H', 'D', 'd', 'P', 'X')\n",
    "markers = ['x'] * 10\n",
    "\n",
    "aspect_ratio = (10, 5)\n",
    "output_filename = 'time_vs_txtlength.pdf'\n",
    "plot_log_x = True\n",
    "plot_log_y = True\n",
    "xlim = (35, 1500)\n",
    "ylim = (0, 15)\n",
    "radius=12\n",
    "# with plt.xkcd():\n",
    "\n",
    "plot_scatter_from_list_of_dict(\n",
    "        xs, ys, \n",
    "        x_label='Text length (characters)',\n",
    "        y_label='Synthesis time (s)',\n",
    "        legend_label=models,\n",
    "        markers=markers,\n",
    "        plot_colors=plot_colors,\n",
    "        aspect_ratio=aspect_ratio,\n",
    "        x_ticks=x_ticks,\n",
    "        x_tick_labels=x_tick_labels,\n",
    "        y_ticks=y_ticks,\n",
    "        y_tick_labels=y_tick_labels,\n",
    "        file_name=output_filename,\n",
    "        plot_log_x=plot_log_x,\n",
    "        plot_log_y=plot_log_y,\n",
    "        xlim=xlim,\n",
    "        ylim=ylim,\n",
    "        plot_confidence=False,\n",
    "        radius=radius,\n",
    ")"
   ]
  },
  {
   "cell_type": "code",
   "execution_count": 152,
   "metadata": {},
   "outputs": [],
   "source": [
    "# from whisperweranalysis.plotting.scatter import plot_scatter_from_list_of_dict\n",
    "# import matplotlib.pyplot as plt\n",
    "\n",
    "\n",
    "# x_ticks = [10, 20, 50, 100, 200, 500, 1000, 1500]\n",
    "# x_tick_labels = list(map(str, x_ticks))\n",
    "# y_ticks = [0.1, 0.5, 1,  5, 15]\n",
    "# y_tick_labels = list(map(str, y_ticks))\n",
    "# plot_colors = ['#d62728', '#0047AB','#9467bd', '#2ca02c', '#8b0000', '#8c564b', '#17becf', '#bcbd22', '#7f7f7f', '#e377c2']\n",
    "# # ('.', 'o', 'v', '^', '<', '>', '8', 's', 'p', '*', 'h', 'H', 'D', 'd', 'P', 'X')\n",
    "# # markers = ['o'] * 10\n",
    "# line_format = ['-', '-', '-', '-', '-', '-', '-', '-', '-', '-']\n",
    "# aspect_ratio = (10, 5)\n",
    "# output_filename = 'time_vs_txtlength.pdf'\n",
    "# plot_log_x = False \n",
    "# plot_log_y = False \n",
    "# xlim = (25, 1500)\n",
    "# ylim = (0, 15)\n",
    "# radius=10\n",
    "# # with plt.xkcd():\n",
    "\n",
    "# plot_lines(xs, ys, \n",
    "#             x_label='NFE',\n",
    "#             y_label='ASR WER (%)', \n",
    "#             legend_label=models,\n",
    "#             line_format=line_format,\n",
    "#             plot_colors=plot_colors,\n",
    "#             aspect_ratio=aspect_ratio,\n",
    "#             x_ticks=x_ticks,\n",
    "#             x_tick_labels=x_tick_labels,\n",
    "#             y_ticks=y_ticks,\n",
    "#             y_tick_labels=y_tick_labels,\n",
    "#             file_name=output_filename,\n",
    "#             plot_log_x=plot_log_x,\n",
    "#             plot_log_y=plot_log_y,\n",
    "#             xlim=xlim,\n",
    "#         #     smoothing=0\n",
    "\n",
    "#     )"
   ]
  },
  {
   "cell_type": "code",
   "execution_count": null,
   "metadata": {},
   "outputs": [],
   "source": []
  }
 ],
 "metadata": {
  "kernelspec": {
   "display_name": "Python 3 (ipykernel)",
   "language": "python",
   "name": "python3"
  },
  "language_info": {
   "codemirror_mode": {
    "name": "ipython",
    "version": 3
   },
   "file_extension": ".py",
   "mimetype": "text/x-python",
   "name": "python",
   "nbconvert_exporter": "python",
   "pygments_lexer": "ipython3",
   "version": "3.9.13"
  },
  "vscode": {
   "interpreter": {
    "hash": "5345d537206f398b8fc5eb7643a812daa51a248d7da41ce7a80c38f8bb268669"
   }
  }
 },
 "nbformat": 4,
 "nbformat_minor": 2
}
