{
 "cells": [
  {
   "cell_type": "code",
   "execution_count": 2,
   "metadata": {},
   "outputs": [],
   "source": [
    "from whisperweranalysis.structure import LJSpeech, Predicted_MOS\n",
    "from whisperweranalysis.groundtruth import lj_valid\n",
    "from whisperweranalysis.wer import compute"
   ]
  },
  {
   "cell_type": "code",
   "execution_count": 3,
   "metadata": {},
   "outputs": [],
   "source": [
    "from whisperweranalysis.mel_utilities import audio2mel"
   ]
  },
  {
   "cell_type": "code",
   "execution_count": 4,
   "metadata": {},
   "outputs": [],
   "source": [
    "# audio2mel()"
   ]
  },
  {
   "cell_type": "code",
   "execution_count": 5,
   "metadata": {},
   "outputs": [],
   "source": [
    "%load_ext autoreload\n",
    "%autoreload 2"
   ]
  },
  {
   "cell_type": "code",
   "execution_count": 6,
   "metadata": {},
   "outputs": [],
   "source": [
    "GT_Mel = LJSpeech.load_from_dir('../whisperweranalysis/transcription/VOC/2')"
   ]
  },
  {
   "cell_type": "code",
   "execution_count": 48,
   "metadata": {},
   "outputs": [
    {
     "data": {
      "text/plain": [
       "2.2451456310679614"
      ]
     },
     "execution_count": 48,
     "metadata": {},
     "output_type": "execute_result"
    }
   ],
   "source": [
    "compute(lj_valid, GT_Mel.transcriptions)"
   ]
  },
  {
   "cell_type": "markdown",
   "metadata": {},
   "source": [
    "## Plotting time"
   ]
  },
  {
   "cell_type": "code",
   "execution_count": 68,
   "metadata": {},
   "outputs": [],
   "source": [
    "from collections import defaultdict\n",
    "from pathlib import Path\n",
    "from whisperweranalysis.checkpoint_mover import get_list_iter"
   ]
  },
  {
   "cell_type": "code",
   "execution_count": 69,
   "metadata": {},
   "outputs": [],
   "source": [
    "TRANS_DIR = Path('../whisperweranalysis/transcription')"
   ]
  },
  {
   "cell_type": "code",
   "execution_count": 70,
   "metadata": {},
   "outputs": [],
   "source": [
    "all_systems = defaultdict(lambda: defaultdict(int))\n",
    "for system in TRANS_DIR.glob('*'):\n",
    "    for iter_ in sorted(list(system.glob('*')), key=lambda x: int(x.name)):\n",
    "        lj_struct = LJSpeech.load_from_dir(iter_)\n",
    "        lj_struct.compute_wer(lj_valid)\n",
    "        all_systems[system.name][int(iter_.name)] = lj_struct.wer\n",
    "        # if int(iter_.name) > 50000:\n",
    "        #     break\n",
    "        \n",
    "# all_systems['VOC_500'] = { x: list(all_systems['VOC'].values())[0] for x in all_systems['Tacotron2_500']}"
   ]
  },
  {
   "cell_type": "code",
   "execution_count": 71,
   "metadata": {},
   "outputs": [
    {
     "data": {
      "text/plain": [
       "dict_keys(['VOC', 'GRAD', 'MATCHA'])"
      ]
     },
     "execution_count": 71,
     "metadata": {},
     "output_type": "execute_result"
    }
   ],
   "source": [
    "all_systems.keys()"
   ]
  },
  {
   "cell_type": "code",
   "execution_count": 72,
   "metadata": {},
   "outputs": [],
   "source": [
    "\n",
    "systems = {\n",
    "    'MATCHA': all_systems['MATCHA'],\n",
    "    'GRAD': all_systems['GRAD'],\n",
    "    'VOC': all_systems['VOC'],\n",
    "}\n",
    "\n",
    "y_values, legend_labels = [], []\n",
    "for model in systems:\n",
    "    y_values.append([v for k, v in systems[model].items() if k <= 100000])\n",
    "    legend_labels.append(model)\n",
    "    \n",
    "x = sorted([2, 3, 4, 5, 10, 25, 50])\n"
   ]
  },
  {
   "cell_type": "code",
   "execution_count": 73,
   "metadata": {},
   "outputs": [
    {
     "data": {
      "text/plain": [
       "dict_keys(['VOC', 'GRAD', 'MATCHA'])"
      ]
     },
     "execution_count": 73,
     "metadata": {},
     "output_type": "execute_result"
    }
   ],
   "source": [
    "all_systems.keys()"
   ]
  },
  {
   "cell_type": "code",
   "execution_count": 74,
   "metadata": {},
   "outputs": [
    {
     "data": {
      "text/plain": [
       "defaultdict(<function __main__.<lambda>()>,\n",
       "            {'VOC': defaultdict(int,\n",
       "                         {2: 2.2451456310679614,\n",
       "                          3: 2.2451456310679614,\n",
       "                          4: 2.2451456310679614,\n",
       "                          5: 2.2451456310679614,\n",
       "                          10: 2.2451456310679614,\n",
       "                          25: 2.2451456310679614,\n",
       "                          50: 2.2451456310679614}),\n",
       "             'GRAD': defaultdict(int,\n",
       "                         {2: 3.4587378640776696,\n",
       "                          3: 3.2766990291262137,\n",
       "                          4: 4.065533980582525,\n",
       "                          5: 3.4587378640776696,\n",
       "                          10: 3.8834951456310676,\n",
       "                          25: 3.5800970873786406,\n",
       "                          50: 4.12621359223301}),\n",
       "             'MATCHA': defaultdict(int,\n",
       "                         {2: 2.669902912621359,\n",
       "                          3: 2.7305825242718447,\n",
       "                          4: 2.8519417475728157,\n",
       "                          5: 2.7305825242718447,\n",
       "                          10: 2.7305825242718447,\n",
       "                          25: 2.487864077669903,\n",
       "                          50: 2.366504854368932})})"
      ]
     },
     "execution_count": 74,
     "metadata": {},
     "output_type": "execute_result"
    }
   ],
   "source": [
    "all_systems"
   ]
  },
  {
   "cell_type": "code",
   "execution_count": 81,
   "metadata": {},
   "outputs": [
    {
     "data": {
      "text/plain": [
       "(3,\n",
       " 7,\n",
       " [[2.669902912621359,\n",
       "   2.7305825242718447,\n",
       "   2.8519417475728157,\n",
       "   2.7305825242718447,\n",
       "   2.7305825242718447,\n",
       "   2.487864077669903,\n",
       "   2.366504854368932],\n",
       "  [3.4587378640776696,\n",
       "   3.2766990291262137,\n",
       "   4.065533980582525,\n",
       "   3.4587378640776696,\n",
       "   3.8834951456310676,\n",
       "   3.5800970873786406,\n",
       "   4.12621359223301],\n",
       "  [2.2451456310679614,\n",
       "   2.2451456310679614,\n",
       "   2.2451456310679614,\n",
       "   2.2451456310679614,\n",
       "   2.2451456310679614,\n",
       "   2.2451456310679614,\n",
       "   2.2451456310679614]])"
      ]
     },
     "execution_count": 81,
     "metadata": {},
     "output_type": "execute_result"
    }
   ],
   "source": [
    "len(y_values), len(y_values[0]), y_values"
   ]
  },
  {
   "cell_type": "code",
   "execution_count": 57,
   "metadata": {},
   "outputs": [],
   "source": [
    "x = x[:19]"
   ]
  },
  {
   "cell_type": "code",
   "execution_count": 58,
   "metadata": {},
   "outputs": [
    {
     "name": "stderr",
     "output_type": "stream",
     "text": [
      "/home/smehta/Projects/whisper-analysis-plots/whisperweranalysis/plotting/line.py:191: UserWarning: Attempt to set non-positive xlim on a log-scaled axis will be ignored.\n",
      "  ax.set_xlim(xlim)\n",
      "/home/smehta/Projects/whisper-analysis-plots/whisperweranalysis/plotting/line.py:192: UserWarning: Attempt to set non-positive ylim on a log-scaled axis will be ignored.\n",
      "  ax.set_ylim(ylim)\n"
     ]
    },
    {
     "data": {
      "image/png": "[encoded data removed]",
      "text/plain": [
       "<Figure size 640x480 with 1 Axes>"
      ]
     },
     "metadata": {},
     "output_type": "display_data"
    }
   ],
   "source": [
    "from whisperweranalysis.plotting.line import plot_lines\n",
    "import matplotlib.pyplot as plt\n",
    "\n",
    "x_ticks = [2, 3, 4, 5, 10, 25, 50] \n",
    "x_tick_labels = ['2', '3', '4', '5', '10', '25', '50']\n",
    "y_ticks = [1, 2, 3, 4, 5, 6, 10] #, 25, 50, 100]\n",
    "y_tick_labels = ['1', '2', '3', '4', '5', '6', '10'] #, '25', '50', '100']\n",
    "plot_colors = ['#d62728', '#0047AB','#9467bd', '#2ca02c', '#8b0000', '#8c564b', '#17becf'] #, '#d62728', '#0047AB', '#2ca02c', ]\n",
    "line_format = ['-', '-', '-', '-', ':', '-', '-'] # '--', '--', '--']\n",
    "aspect_ratio = (2, 1)\n",
    "output_filename = 'asr_nfe.pdf'\n",
    "plot_log_x = True\n",
    "plot_log_y = True\n",
    "xlim = (0, 50)\n",
    "# with plt.xkcd():\n",
    "plot_lines([x], y_values, \n",
    "            x_label='NFE',\n",
    "            y_label='ASR WER (%)', \n",
    "            legend_label=legend_labels,\n",
    "            line_format=line_format,\n",
    "            plot_colors=plot_colors,\n",
    "            aspect_ratio=aspect_ratio,\n",
    "            x_ticks=x_ticks,\n",
    "            x_tick_labels=x_tick_labels,\n",
    "            y_ticks=y_ticks,\n",
    "            y_tick_labels=y_tick_labels,\n",
    "            file_name=output_filename,\n",
    "            plot_log_x=plot_log_x,\n",
    "            plot_log_y=plot_log_y,\n",
    "            xlim=xlim,\n",
    "\n",
    "    )"
   ]
  },
  {
   "cell_type": "markdown",
   "metadata": {},
   "source": [
    "## Predicted MOS plot"
   ]
  },
  {
   "cell_type": "code",
   "execution_count": 84,
   "metadata": {},
   "outputs": [],
   "source": [
    "WAVEFORM_PATH = Path('../whisperweranalysis/waveforms_ICASSP24')"
   ]
  },
  {
   "cell_type": "code",
   "execution_count": 85,
   "metadata": {},
   "outputs": [],
   "source": [
    "all_systems = defaultdict(lambda: defaultdict(int))\n",
    "for system in WAVEFORM_PATH.glob('*'):\n",
    "    for iter_ in sorted(list(system.glob('*')), key=lambda x: int(x.name)):\n",
    "        predicted_mos = Predicted_MOS.load_from_dir(iter_)\n",
    "        all_systems[system.name][int(iter_.name)] = predicted_mos "
   ]
  },
  {
   "cell_type": "code",
   "execution_count": 86,
   "metadata": {},
   "outputs": [
    {
     "data": {
      "text/plain": [
       "dict_values([Predicted_MOS(model_name=VOC, iterations=2, mean=4.540, std=0.137, min=4.161, max=4.759, median=4.555, mode=4.477, count=99), Predicted_MOS(model_name=VOC, iterations=3, mean=4.540, std=0.137, min=4.161, max=4.759, median=4.555, mode=4.477, count=99), Predicted_MOS(model_name=VOC, iterations=4, mean=4.540, std=0.137, min=4.161, max=4.759, median=4.555, mode=4.477, count=99), Predicted_MOS(model_name=VOC, iterations=5, mean=4.540, std=0.137, min=4.161, max=4.759, median=4.555, mode=4.477, count=99), Predicted_MOS(model_name=VOC, iterations=10, mean=4.540, std=0.137, min=4.161, max=4.759, median=4.555, mode=4.477, count=99), Predicted_MOS(model_name=VOC, iterations=25, mean=4.540, std=0.137, min=4.161, max=4.759, median=4.555, mode=4.477, count=99), Predicted_MOS(model_name=VOC, iterations=50, mean=4.540, std=0.137, min=4.161, max=4.759, median=4.555, mode=4.477, count=99), Predicted_MOS(model_name=VOC, iterations=100, mean=4.540, std=0.137, min=4.161, max=4.759, median=4.555, mode=4.477, count=99)])"
      ]
     },
     "execution_count": 86,
     "metadata": {},
     "output_type": "execute_result"
    }
   ],
   "source": [
    "all_systems['VOC'].values()"
   ]
  },
  {
   "cell_type": "code",
   "execution_count": 87,
   "metadata": {},
   "outputs": [],
   "source": [
    "\n",
    "systems = {\n",
    "    'MATCHA': all_systems['MATCHA'],\n",
    "    'GRAD': all_systems['GRAD'],\n",
    "    'VOC': all_systems['VOC'],\n",
    "}\n",
    "\n",
    "y_values, legend_labels = [], []\n",
    "for model in systems:\n",
    "    per_nfe = []\n",
    "    for k, v in systems[model].items():\n",
    "        per_nfe.append(list(v.predicted_mos.values()))\n",
    "    y_values.append(per_nfe)\n",
    "    legend_labels.append(model)\n",
    "    \n",
    "x = sorted([2, 3, 4, 5, 10, 25, 50, 100])\n"
   ]
  },
  {
   "cell_type": "code",
   "execution_count": 95,
   "metadata": {},
   "outputs": [
    {
     "name": "stdout",
     "output_type": "stream",
     "text": [
      "(8, 99)\n",
      "(8, 99)\n",
      "(8, 99)\n"
     ]
    },
    {
     "name": "stderr",
     "output_type": "stream",
     "text": [
      "/home/smehta/Projects/whisper-analysis-plots/whisperweranalysis/plotting/line.py:318: UserWarning: Attempt to set non-positive xlim on a log-scaled axis will be ignored.\n",
      "  ax.set_xlabel(x_label)\n",
      "/home/smehta/Projects/whisper-analysis-plots/whisperweranalysis/plotting/line.py:319: UserWarning: Attempt to set non-positive ylim on a log-scaled axis will be ignored.\n",
      "  ax.set_ylabel(y_label)\n"
     ]
    },
    {
     "data": {
      "image/png": "[encoded data removed]",
      "text/plain": [
       "<Figure size 640x480 with 1 Axes>"
      ]
     },
     "metadata": {},
     "output_type": "display_data"
    }
   ],
   "source": [
    "from whisperweranalysis.plotting.line import plot_lines_with_confidence_intervals\n",
    "import matplotlib.pyplot as plt\n",
    "\n",
    "x_ticks = [2, 3, 4, 5, 10, 25, 50, 100] \n",
    "x_tick_labels = ['2', '3', '4', '5', '10', '25', '50', '100']\n",
    "y_ticks = [0, 1, 2, 3, 4, 5] #, 25, 50, 100]\n",
    "y_tick_labels = ['0', '1', '2', '3', '4', '5'] #, '25', '50', '100']\n",
    "plot_colors = ['#d62728', '#0047AB','#9467bd', '#2ca02c', '#8b0000', '#8c564b', '#17becf'] #, '#d62728', '#0047AB', '#2ca02c', ]\n",
    "line_format = ['-', '-', '-', '-', ':', '-', '-'] # '--', '--', '--']\n",
    "aspect_ratio = (2, 1)\n",
    "output_filename = 'mos_nfe.pdf'\n",
    "plot_log_x = True\n",
    "plot_log_y = True\n",
    "xlim = (0, 50)\n",
    "# with plt.xkcd():\n",
    "plot_lines_with_confidence_intervals([x], y_values, \n",
    "            x_label='NFE',\n",
    "            y_label='Predicted MOS', \n",
    "            legend_label=legend_labels,\n",
    "            line_format=line_format,\n",
    "            plot_colors=plot_colors,\n",
    "            aspect_ratio=aspect_ratio,\n",
    "            x_ticks=x_ticks,\n",
    "            x_tick_labels=x_tick_labels,\n",
    "            y_ticks=y_ticks,\n",
    "            y_tick_labels=y_tick_labels,\n",
    "            file_name=output_filename,\n",
    "            plot_log_x=plot_log_x,\n",
    "            plot_log_y=plot_log_y,\n",
    "            xlim=xlim,\n",
    "            plot_confidence=False,\n",
    "    )"
   ]
  },
  {
   "cell_type": "code",
   "execution_count": null,
   "metadata": {},
   "outputs": [],
   "source": []
  }
 ],
 "metadata": {
  "kernelspec": {
   "display_name": "Python 3 (ipykernel)",
   "language": "python",
   "name": "python3"
  },
  "language_info": {
   "codemirror_mode": {
    "name": "ipython",
    "version": 3
   },
   "file_extension": ".py",
   "mimetype": "text/x-python",
   "name": "python",
   "nbconvert_exporter": "python",
   "pygments_lexer": "ipython3",
   "version": "3.9.13"
  },
  "vscode": {
   "interpreter": {
    "hash": "5345d537206f398b8fc5eb7643a812daa51a248d7da41ce7a80c38f8bb268669"
   }
  }
 },
 "nbformat": 4,
 "nbformat_minor": 2
}
