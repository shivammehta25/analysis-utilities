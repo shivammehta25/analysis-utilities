{
 "cells": [
  {
   "cell_type": "code",
   "execution_count": 136,
   "metadata": {},
   "outputs": [],
   "source": [
    "from whisperweranalysis.structure import LJSpeech\n",
    "from whisperweranalysis.groundtruth import lj_valid\n",
    "from whisperweranalysis.wer import compute"
   ]
  },
  {
   "cell_type": "code",
   "execution_count": 137,
   "metadata": {},
   "outputs": [],
   "source": [
    "from whisperweranalysis.mel_utilities import audio2mel"
   ]
  },
  {
   "cell_type": "code",
   "execution_count": 138,
   "metadata": {},
   "outputs": [],
   "source": [
    "# audio2mel()"
   ]
  },
  {
   "cell_type": "code",
   "execution_count": 139,
   "metadata": {},
   "outputs": [
    {
     "name": "stdout",
     "output_type": "stream",
     "text": [
      "The autoreload extension is already loaded. To reload it, use:\n",
      "  %reload_ext autoreload\n"
     ]
    }
   ],
   "source": [
    "%load_ext autoreload\n",
    "%autoreload 2"
   ]
  },
  {
   "cell_type": "markdown",
   "metadata": {},
   "source": [
    "## Natural Speech"
   ]
  },
  {
   "cell_type": "code",
   "execution_count": 140,
   "metadata": {},
   "outputs": [],
   "source": [
    "GT = LJSpeech.load_from_dir('../whisperweranalysis/LJ_Valid_transcription/NS/0')"
   ]
  },
  {
   "cell_type": "code",
   "execution_count": 141,
   "metadata": {},
   "outputs": [
    {
     "data": {
      "text/plain": [
       "(2.1778584392014517, 2.1778584392014517)"
      ]
     },
     "execution_count": 141,
     "metadata": {},
     "output_type": "execute_result"
    }
   ],
   "source": [
    "compute(lj_valid, GT.transcriptions), GT.compute_wer(lj_valid)"
   ]
  },
  {
   "cell_type": "markdown",
   "metadata": {},
   "source": [
    "## Vocoded Speech"
   ]
  },
  {
   "cell_type": "code",
   "execution_count": 16,
   "metadata": {},
   "outputs": [],
   "source": [
    "GT_Mel = LJSpeech.load_from_dir('../whisperweranalysis/LJ_Valid_transcription/GT/GT_MEL')"
   ]
  },
  {
   "cell_type": "code",
   "execution_count": 17,
   "metadata": {},
   "outputs": [
    {
     "data": {
      "text/plain": [
       "1.9963702359346642"
      ]
     },
     "execution_count": 17,
     "metadata": {},
     "output_type": "execute_result"
    }
   ],
   "source": [
    "compute(lj_valid, GT_Mel.transcriptions)"
   ]
  },
  {
   "cell_type": "code",
   "execution_count": 18,
   "metadata": {},
   "outputs": [],
   "source": [
    "with open('temp_NS.txt', 'w') as f:\n",
    "    f.writelines([f'{x}\\n' for x in GT.transcriptions])\n",
    "    \n",
    "with open('temp_NS_Vocoded.txt', 'w') as f:\n",
    "    f.writelines([f'{x}\\n' for x in GT_Mel.transcriptions])\n",
    "    "
   ]
  },
  {
   "cell_type": "markdown",
   "metadata": {},
   "source": [
    "## Plotting time"
   ]
  },
  {
   "cell_type": "code",
   "execution_count": 142,
   "metadata": {},
   "outputs": [],
   "source": [
    "from collections import defaultdict\n",
    "from pathlib import Path\n",
    "from whisperweranalysis.checkpoint_mover import get_list_iter"
   ]
  },
  {
   "cell_type": "code",
   "execution_count": 143,
   "metadata": {},
   "outputs": [],
   "source": [
    "TRANS_DIR = Path('../whisperweranalysis/LJ_Valid_transcription')"
   ]
  },
  {
   "cell_type": "code",
   "execution_count": 190,
   "metadata": {},
   "outputs": [],
   "source": [
    "all_systems = defaultdict(lambda: defaultdict(int))\n",
    "for system in TRANS_DIR.glob('*'):\n",
    "    for iter_ in sorted(list(system.glob('*')), key=lambda x: int(x.name)):\n",
    "        lj_struct = LJSpeech.load_from_dir(iter_)\n",
    "        lj_struct.compute_wer(lj_valid)\n",
    "        all_systems[system.name][int(iter_.name)] = min(100, lj_struct.wer)\n",
    "        # if int(iter_.name) > 50000:\n",
    "        #     break\n",
    "        \n",
    "all_systems['VOC_500'] = { x: list(all_systems['VOC'].values())[0] for x in all_systems['Tacotron2_500']}"
   ]
  },
  {
   "cell_type": "code",
   "execution_count": 191,
   "metadata": {},
   "outputs": [
    {
     "data": {
      "text/plain": [
       "dict_keys(['VOC', 'Tacotron2', 'Tacotron2_500', 'OverFlow', 'OverFlow_500', 'Glow_500', 'Glow', 'NS', 'VOC_500'])"
      ]
     },
     "execution_count": 191,
     "metadata": {},
     "output_type": "execute_result"
    }
   ],
   "source": [
    "all_systems.keys()"
   ]
  },
  {
   "cell_type": "code",
   "execution_count": 200,
   "metadata": {},
   "outputs": [],
   "source": [
    "\n",
    "systems = {\n",
    "    'T2': all_systems['Tacotron2'],\n",
    "    'GTTS': all_systems['Glow'],\n",
    "    'OF': all_systems['OverFlow'],\n",
    "    'VOC': all_systems['VOC'],\n",
    "}\n",
    "\n",
    "systems_500 = {\n",
    "    'T2 (500)': all_systems['Tacotron2_500'],\n",
    "    'GTTS (500)': all_systems['Glow_500'],\n",
    "    'OF (500)': all_systems['OverFlow_500'],\n",
    "    'VOC_500': all_systems['VOC_500']\n",
    "}\n",
    "\n",
    "y_values, legend_labels = [], []\n",
    "for model in systems:\n",
    "    y_values.append([v for k, v in systems[model].items()])\n",
    "    legend_labels.append(model)\n",
    "    \n",
    "x = sorted(list(get_list_iter()))\n",
    "\n",
    "\n",
    "y_values_500, legend_labels_500 = [], []\n",
    "for model in systems_500:\n",
    "    y_values_500.append([v for k, v in systems_500[model].items()])\n",
    "    legend_labels_500.append(model)\n",
    "\n",
    "x_500 = [0, 500, 1000, 1500, 2000, 2500, 3000, 3500, 4000, 4500, 5000, 6000, 7000, 8000, 9000, 10000]"
   ]
  },
  {
   "cell_type": "code",
   "execution_count": 194,
   "metadata": {},
   "outputs": [
    {
     "data": {
      "text/plain": [
       "dict_keys(['T2', 'GTTS', 'OF', 'VOC'])"
      ]
     },
     "execution_count": 194,
     "metadata": {},
     "output_type": "execute_result"
    }
   ],
   "source": [
    "systems.keys()"
   ]
  },
  {
   "cell_type": "code",
   "execution_count": 195,
   "metadata": {},
   "outputs": [
    {
     "name": "stdout",
     "output_type": "stream",
     "text": [
      "[0, 500, 1000, 1500, 2000, 2500, 5000, 10000, 15000, 20000, 25000, 30000, 40000, 50000, 60000, 70000, 80000, 90000, 100000]\n"
     ]
    }
   ],
   "source": [
    "print(x)"
   ]
  },
  {
   "cell_type": "code",
   "execution_count": 196,
   "metadata": {},
   "outputs": [
    {
     "name": "stderr",
     "output_type": "stream",
     "text": [
      "/home/smehta/Projects/whisper-analysis-plots/whisperweranalysis/plotting/line.py:191: UserWarning: Attempt to set non-positive xlim on a log-scaled axis will be ignored.\n",
      "  ax.set_xlim(xlim)\n",
      "/home/smehta/Projects/whisper-analysis-plots/whisperweranalysis/plotting/line.py:192: UserWarning: Attempt to set non-positive ylim on a log-scaled axis will be ignored.\n",
      "  ax.set_ylim(ylim)\n",
      "findfont: Generic family 'sans-serif' not found because none of the following families were found: CMU Sans Serif\n",
      "findfont: Generic family 'sans-serif' not found because none of the following families were found: CMU Sans Serif\n",
      "findfont: Generic family 'sans-serif' not found because none of the following families were found: CMU Sans Serif\n",
      "findfont: Generic family 'sans-serif' not found because none of the following families were found: CMU Sans Serif\n",
      "findfont: Generic family 'sans-serif' not found because none of the following families were found: CMU Sans Serif\n",
      "findfont: Generic family 'sans-serif' not found because none of the following families were found: CMU Sans Serif\n",
      "findfont: Generic family 'sans-serif' not found because none of the following families were found: CMU Sans Serif\n",
      "findfont: Generic family 'sans-serif' not found because none of the following families were found: CMU Sans Serif\n",
      "findfont: Generic family 'sans-serif' not found because none of the following families were found: CMU Sans Serif\n",
      "findfont: Generic family 'sans-serif' not found because none of the following families were found: CMU Sans Serif\n",
      "findfont: Generic family 'sans-serif' not found because none of the following families were found: CMU Sans Serif\n",
      "findfont: Generic family 'sans-serif' not found because none of the following families were found: CMU Sans Serif\n",
      "findfont: Generic family 'sans-serif' not found because none of the following families were found: CMU Sans Serif\n",
      "findfont: Generic family 'sans-serif' not found because none of the following families were found: CMU Sans Serif\n",
      "findfont: Generic family 'sans-serif' not found because none of the following families were found: CMU Sans Serif\n",
      "findfont: Generic family 'sans-serif' not found because none of the following families were found: CMU Sans Serif\n",
      "findfont: Generic family 'sans-serif' not found because none of the following families were found: CMU Sans Serif\n",
      "findfont: Generic family 'sans-serif' not found because none of the following families were found: CMU Sans Serif\n",
      "findfont: Generic family 'sans-serif' not found because none of the following families were found: CMU Sans Serif\n",
      "findfont: Generic family 'sans-serif' not found because none of the following families were found: CMU Sans Serif\n",
      "findfont: Generic family 'sans-serif' not found because none of the following families were found: CMU Sans Serif\n",
      "findfont: Generic family 'sans-serif' not found because none of the following families were found: CMU Sans Serif\n",
      "findfont: Generic family 'sans-serif' not found because none of the following families were found: CMU Sans Serif\n",
      "findfont: Generic family 'sans-serif' not found because none of the following families were found: CMU Sans Serif\n",
      "findfont: Generic family 'sans-serif' not found because none of the following families were found: CMU Sans Serif\n",
      "findfont: Generic family 'sans-serif' not found because none of the following families were found: CMU Sans Serif\n",
      "findfont: Generic family 'sans-serif' not found because none of the following families were found: CMU Sans Serif\n",
      "findfont: Generic family 'sans-serif' not found because none of the following families were found: CMU Sans Serif\n",
      "findfont: Generic family 'sans-serif' not found because none of the following families were found: CMU Sans Serif\n",
      "findfont: Generic family 'sans-serif' not found because none of the following families were found: CMU Sans Serif\n",
      "findfont: Generic family 'sans-serif' not found because none of the following families were found: CMU Sans Serif\n",
      "findfont: Generic family 'sans-serif' not found because none of the following families were found: CMU Sans Serif\n",
      "findfont: Generic family 'sans-serif' not found because none of the following families were found: CMU Sans Serif\n",
      "findfont: Generic family 'sans-serif' not found because none of the following families were found: CMU Sans Serif\n",
      "findfont: Generic family 'sans-serif' not found because none of the following families were found: CMU Sans Serif\n",
      "findfont: Generic family 'sans-serif' not found because none of the following families were found: CMU Sans Serif\n",
      "findfont: Generic family 'sans-serif' not found because none of the following families were found: CMU Sans Serif\n",
      "findfont: Generic family 'sans-serif' not found because none of the following families were found: CMU Sans Serif\n",
      "findfont: Generic family 'sans-serif' not found because none of the following families were found: CMU Sans Serif\n",
      "findfont: Generic family 'sans-serif' not found because none of the following families were found: CMU Sans Serif\n",
      "findfont: Generic family 'sans-serif' not found because none of the following families were found: CMU Sans Serif\n",
      "findfont: Generic family 'sans-serif' not found because none of the following families were found: CMU Sans Serif\n",
      "findfont: Generic family 'sans-serif' not found because none of the following families were found: CMU Sans Serif\n",
      "findfont: Generic family 'sans-serif' not found because none of the following families were found: CMU Sans Serif\n",
      "findfont: Generic family 'sans-serif' not found because none of the following families were found: CMU Sans Serif\n",
      "findfont: Generic family 'sans-serif' not found because none of the following families were found: CMU Sans Serif\n",
      "findfont: Generic family 'sans-serif' not found because none of the following families were found: CMU Sans Serif\n",
      "findfont: Generic family 'sans-serif' not found because none of the following families were found: CMU Sans Serif\n",
      "findfont: Generic family 'sans-serif' not found because none of the following families were found: CMU Sans Serif\n",
      "findfont: Generic family 'sans-serif' not found because none of the following families were found: CMU Sans Serif\n",
      "findfont: Generic family 'sans-serif' not found because none of the following families were found: CMU Sans Serif\n",
      "findfont: Generic family 'sans-serif' not found because none of the following families were found: CMU Sans Serif\n",
      "findfont: Generic family 'sans-serif' not found because none of the following families were found: CMU Sans Serif\n",
      "findfont: Generic family 'sans-serif' not found because none of the following families were found: CMU Sans Serif\n",
      "findfont: Generic family 'sans-serif' not found because none of the following families were found: CMU Sans Serif\n",
      "findfont: Generic family 'sans-serif' not found because none of the following families were found: CMU Sans Serif\n",
      "findfont: Generic family 'sans-serif' not found because none of the following families were found: CMU Sans Serif\n",
      "findfont: Generic family 'sans-serif' not found because none of the following families were found: CMU Sans Serif\n",
      "findfont: Generic family 'sans-serif' not found because none of the following families were found: CMU Sans Serif\n",
      "findfont: Generic family 'sans-serif' not found because none of the following families were found: CMU Sans Serif\n",
      "findfont: Generic family 'sans-serif' not found because none of the following families were found: CMU Sans Serif\n",
      "findfont: Generic family 'sans-serif' not found because none of the following families were found: CMU Sans Serif\n",
      "findfont: Generic family 'sans-serif' not found because none of the following families were found: CMU Sans Serif\n",
      "findfont: Generic family 'sans-serif' not found because none of the following families were found: CMU Sans Serif\n",
      "findfont: Generic family 'sans-serif' not found because none of the following families were found: CMU Sans Serif\n",
      "findfont: Generic family 'sans-serif' not found because none of the following families were found: CMU Sans Serif\n",
      "findfont: Generic family 'sans-serif' not found because none of the following families were found: CMU Sans Serif\n",
      "findfont: Generic family 'sans-serif' not found because none of the following families were found: CMU Sans Serif\n",
      "findfont: Generic family 'sans-serif' not found because none of the following families were found: CMU Sans Serif\n",
      "findfont: Generic family 'sans-serif' not found because none of the following families were found: CMU Sans Serif\n",
      "findfont: Generic family 'sans-serif' not found because none of the following families were found: CMU Sans Serif\n",
      "findfont: Generic family 'sans-serif' not found because none of the following families were found: CMU Sans Serif\n",
      "findfont: Generic family 'sans-serif' not found because none of the following families were found: CMU Sans Serif\n",
      "findfont: Generic family 'sans-serif' not found because none of the following families were found: CMU Sans Serif\n",
      "findfont: Generic family 'sans-serif' not found because none of the following families were found: CMU Sans Serif\n",
      "findfont: Generic family 'sans-serif' not found because none of the following families were found: CMU Sans Serif\n",
      "findfont: Generic family 'sans-serif' not found because none of the following families were found: CMU Sans Serif\n",
      "findfont: Generic family 'sans-serif' not found because none of the following families were found: CMU Sans Serif\n",
      "findfont: Generic family 'sans-serif' not found because none of the following families were found: CMU Sans Serif\n",
      "findfont: Generic family 'sans-serif' not found because none of the following families were found: CMU Sans Serif\n",
      "findfont: Generic family 'sans-serif' not found because none of the following families were found: CMU Sans Serif\n",
      "findfont: Generic family 'sans-serif' not found because none of the following families were found: CMU Sans Serif\n",
      "findfont: Generic family 'sans-serif' not found because none of the following families were found: CMU Sans Serif\n",
      "findfont: Generic family 'sans-serif' not found because none of the following families were found: CMU Sans Serif\n",
      "findfont: Generic family 'sans-serif' not found because none of the following families were found: CMU Sans Serif\n",
      "findfont: Generic family 'sans-serif' not found because none of the following families were found: CMU Sans Serif\n",
      "findfont: Generic family 'sans-serif' not found because none of the following families were found: CMU Sans Serif\n",
      "findfont: Generic family 'sans-serif' not found because none of the following families were found: CMU Sans Serif\n",
      "findfont: Generic family 'sans-serif' not found because none of the following families were found: CMU Sans Serif\n",
      "findfont: Generic family 'sans-serif' not found because none of the following families were found: CMU Sans Serif\n",
      "findfont: Generic family 'sans-serif' not found because none of the following families were found: CMU Sans Serif\n",
      "findfont: Generic family 'sans-serif' not found because none of the following families were found: CMU Sans Serif\n",
      "findfont: Generic family 'sans-serif' not found because none of the following families were found: CMU Sans Serif\n",
      "findfont: Generic family 'sans-serif' not found because none of the following families were found: CMU Sans Serif\n",
      "findfont: Generic family 'sans-serif' not found because none of the following families were found: CMU Sans Serif\n",
      "findfont: Generic family 'sans-serif' not found because none of the following families were found: CMU Sans Serif\n",
      "findfont: Generic family 'sans-serif' not found because none of the following families were found: CMU Sans Serif\n",
      "findfont: Generic family 'sans-serif' not found because none of the following families were found: CMU Sans Serif\n",
      "findfont: Generic family 'sans-serif' not found because none of the following families were found: CMU Sans Serif\n",
      "findfont: Generic family 'sans-serif' not found because none of the following families were found: CMU Sans Serif\n",
      "findfont: Generic family 'sans-serif' not found because none of the following families were found: CMU Sans Serif\n",
      "findfont: Generic family 'sans-serif' not found because none of the following families were found: CMU Sans Serif\n",
      "findfont: Generic family 'sans-serif' not found because none of the following families were found: CMU Sans Serif\n",
      "findfont: Generic family 'sans-serif' not found because none of the following families were found: CMU Sans Serif\n",
      "findfont: Generic family 'sans-serif' not found because none of the following families were found: CMU Sans Serif\n",
      "findfont: Generic family 'sans-serif' not found because none of the following families were found: CMU Sans Serif\n",
      "findfont: Generic family 'sans-serif' not found because none of the following families were found: CMU Sans Serif\n",
      "findfont: Generic family 'sans-serif' not found because none of the following families were found: CMU Sans Serif\n",
      "findfont: Generic family 'sans-serif' not found because none of the following families were found: CMU Sans Serif\n",
      "findfont: Generic family 'sans-serif' not found because none of the following families were found: CMU Sans Serif\n",
      "findfont: Generic family 'sans-serif' not found because none of the following families were found: CMU Sans Serif\n",
      "findfont: Generic family 'sans-serif' not found because none of the following families were found: CMU Sans Serif\n",
      "findfont: Generic family 'sans-serif' not found because none of the following families were found: CMU Sans Serif\n",
      "findfont: Generic family 'sans-serif' not found because none of the following families were found: CMU Sans Serif\n",
      "findfont: Generic family 'sans-serif' not found because none of the following families were found: CMU Sans Serif\n",
      "findfont: Generic family 'sans-serif' not found because none of the following families were found: CMU Sans Serif\n",
      "findfont: Generic family 'sans-serif' not found because none of the following families were found: CMU Sans Serif\n",
      "findfont: Generic family 'sans-serif' not found because none of the following families were found: CMU Sans Serif\n",
      "findfont: Generic family 'sans-serif' not found because none of the following families were found: CMU Sans Serif\n",
      "findfont: Generic family 'sans-serif' not found because none of the following families were found: CMU Sans Serif\n",
      "findfont: Generic family 'sans-serif' not found because none of the following families were found: CMU Sans Serif\n",
      "findfont: Generic family 'sans-serif' not found because none of the following families were found: CMU Sans Serif\n",
      "findfont: Generic family 'sans-serif' not found because none of the following families were found: CMU Sans Serif\n",
      "findfont: Generic family 'sans-serif' not found because none of the following families were found: CMU Sans Serif\n",
      "findfont: Generic family 'sans-serif' not found because none of the following families were found: CMU Sans Serif\n",
      "findfont: Generic family 'sans-serif' not found because none of the following families were found: CMU Sans Serif\n",
      "findfont: Generic family 'sans-serif' not found because none of the following families were found: CMU Sans Serif\n",
      "findfont: Generic family 'sans-serif' not found because none of the following families were found: CMU Sans Serif\n",
      "findfont: Generic family 'sans-serif' not found because none of the following families were found: CMU Sans Serif\n",
      "findfont: Generic family 'sans-serif' not found because none of the following families were found: CMU Sans Serif\n",
      "findfont: Generic family 'sans-serif' not found because none of the following families were found: CMU Sans Serif\n",
      "findfont: Generic family 'sans-serif' not found because none of the following families were found: CMU Sans Serif\n",
      "findfont: Generic family 'sans-serif' not found because none of the following families were found: CMU Sans Serif\n",
      "findfont: Generic family 'sans-serif' not found because none of the following families were found: CMU Sans Serif\n",
      "findfont: Generic family 'sans-serif' not found because none of the following families were found: CMU Sans Serif\n",
      "findfont: Generic family 'sans-serif' not found because none of the following families were found: CMU Sans Serif\n",
      "findfont: Generic family 'sans-serif' not found because none of the following families were found: CMU Sans Serif\n",
      "findfont: Generic family 'sans-serif' not found because none of the following families were found: CMU Sans Serif\n",
      "findfont: Generic family 'sans-serif' not found because none of the following families were found: CMU Sans Serif\n",
      "findfont: Generic family 'sans-serif' not found because none of the following families were found: CMU Sans Serif\n",
      "findfont: Generic family 'sans-serif' not found because none of the following families were found: CMU Sans Serif\n",
      "findfont: Generic family 'sans-serif' not found because none of the following families were found: CMU Sans Serif\n",
      "findfont: Generic family 'sans-serif' not found because none of the following families were found: CMU Sans Serif\n",
      "findfont: Generic family 'sans-serif' not found because none of the following families were found: CMU Sans Serif\n",
      "findfont: Generic family 'sans-serif' not found because none of the following families were found: CMU Sans Serif\n",
      "findfont: Generic family 'sans-serif' not found because none of the following families were found: CMU Sans Serif\n",
      "findfont: Generic family 'sans-serif' not found because none of the following families were found: CMU Sans Serif\n",
      "findfont: Generic family 'sans-serif' not found because none of the following families were found: CMU Sans Serif\n",
      "findfont: Generic family 'sans-serif' not found because none of the following families were found: CMU Sans Serif\n",
      "findfont: Generic family 'sans-serif' not found because none of the following families were found: CMU Sans Serif\n",
      "findfont: Generic family 'sans-serif' not found because none of the following families were found: CMU Sans Serif\n",
      "findfont: Generic family 'sans-serif' not found because none of the following families were found: CMU Sans Serif\n",
      "findfont: Generic family 'sans-serif' not found because none of the following families were found: CMU Sans Serif\n",
      "findfont: Generic family 'sans-serif' not found because none of the following families were found: CMU Sans Serif\n",
      "findfont: Generic family 'sans-serif' not found because none of the following families were found: CMU Sans Serif\n",
      "findfont: Generic family 'sans-serif' not found because none of the following families were found: CMU Sans Serif\n",
      "findfont: Generic family 'sans-serif' not found because none of the following families were found: CMU Sans Serif\n",
      "findfont: Generic family 'sans-serif' not found because none of the following families were found: CMU Sans Serif\n",
      "findfont: Generic family 'sans-serif' not found because none of the following families were found: CMU Sans Serif\n",
      "findfont: Generic family 'sans-serif' not found because none of the following families were found: CMU Sans Serif\n",
      "findfont: Generic family 'sans-serif' not found because none of the following families were found: CMU Sans Serif\n",
      "findfont: Generic family 'sans-serif' not found because none of the following families were found: CMU Sans Serif\n",
      "findfont: Generic family 'sans-serif' not found because none of the following families were found: CMU Sans Serif\n",
      "findfont: Generic family 'sans-serif' not found because none of the following families were found: CMU Sans Serif\n",
      "findfont: Generic family 'sans-serif' not found because none of the following families were found: CMU Sans Serif\n",
      "findfont: Generic family 'sans-serif' not found because none of the following families were found: CMU Sans Serif\n",
      "findfont: Generic family 'sans-serif' not found because none of the following families were found: CMU Sans Serif\n",
      "findfont: Generic family 'sans-serif' not found because none of the following families were found: CMU Sans Serif\n",
      "findfont: Generic family 'sans-serif' not found because none of the following families were found: CMU Sans Serif\n",
      "findfont: Generic family 'sans-serif' not found because none of the following families were found: CMU Sans Serif\n",
      "findfont: Generic family 'sans-serif' not found because none of the following families were found: CMU Sans Serif\n",
      "findfont: Generic family 'sans-serif' not found because none of the following families were found: CMU Sans Serif\n",
      "findfont: Generic family 'sans-serif' not found because none of the following families were found: CMU Sans Serif\n",
      "findfont: Generic family 'sans-serif' not found because none of the following families were found: CMU Sans Serif\n",
      "findfont: Generic family 'sans-serif' not found because none of the following families were found: CMU Sans Serif\n",
      "findfont: Generic family 'sans-serif' not found because none of the following families were found: CMU Sans Serif\n",
      "findfont: Generic family 'sans-serif' not found because none of the following families were found: CMU Sans Serif\n",
      "findfont: Generic family 'sans-serif' not found because none of the following families were found: CMU Sans Serif\n",
      "findfont: Generic family 'sans-serif' not found because none of the following families were found: CMU Sans Serif\n",
      "findfont: Generic family 'sans-serif' not found because none of the following families were found: CMU Sans Serif\n",
      "findfont: Generic family 'sans-serif' not found because none of the following families were found: CMU Sans Serif\n",
      "findfont: Generic family 'sans-serif' not found because none of the following families were found: CMU Sans Serif\n",
      "findfont: Generic family 'sans-serif' not found because none of the following families were found: CMU Sans Serif\n",
      "findfont: Generic family 'sans-serif' not found because none of the following families were found: CMU Sans Serif\n",
      "findfont: Generic family 'sans-serif' not found because none of the following families were found: CMU Sans Serif\n",
      "findfont: Generic family 'sans-serif' not found because none of the following families were found: CMU Sans Serif\n",
      "findfont: Generic family 'sans-serif' not found because none of the following families were found: CMU Sans Serif\n",
      "findfont: Generic family 'sans-serif' not found because none of the following families were found: CMU Sans Serif\n",
      "findfont: Generic family 'sans-serif' not found because none of the following families were found: CMU Sans Serif\n",
      "findfont: Generic family 'sans-serif' not found because none of the following families were found: CMU Sans Serif\n",
      "findfont: Generic family 'sans-serif' not found because none of the following families were found: CMU Sans Serif\n",
      "findfont: Generic family 'sans-serif' not found because none of the following families were found: CMU Sans Serif\n",
      "findfont: Generic family 'sans-serif' not found because none of the following families were found: CMU Sans Serif\n",
      "findfont: Generic family 'sans-serif' not found because none of the following families were found: CMU Sans Serif\n",
      "findfont: Generic family 'sans-serif' not found because none of the following families were found: CMU Sans Serif\n",
      "findfont: Generic family 'sans-serif' not found because none of the following families were found: CMU Sans Serif\n",
      "findfont: Generic family 'sans-serif' not found because none of the following families were found: CMU Sans Serif\n",
      "findfont: Generic family 'sans-serif' not found because none of the following families were found: CMU Sans Serif\n",
      "findfont: Generic family 'sans-serif' not found because none of the following families were found: CMU Sans Serif\n",
      "findfont: Generic family 'sans-serif' not found because none of the following families were found: CMU Sans Serif\n",
      "findfont: Generic family 'sans-serif' not found because none of the following families were found: CMU Sans Serif\n",
      "findfont: Generic family 'sans-serif' not found because none of the following families were found: CMU Sans Serif\n",
      "findfont: Generic family 'sans-serif' not found because none of the following families were found: CMU Sans Serif\n",
      "findfont: Generic family 'sans-serif' not found because none of the following families were found: CMU Sans Serif\n",
      "findfont: Generic family 'sans-serif' not found because none of the following families were found: CMU Sans Serif\n",
      "findfont: Generic family 'sans-serif' not found because none of the following families were found: CMU Sans Serif\n",
      "findfont: Generic family 'sans-serif' not found because none of the following families were found: CMU Sans Serif\n",
      "findfont: Generic family 'sans-serif' not found because none of the following families were found: CMU Sans Serif\n",
      "findfont: Generic family 'sans-serif' not found because none of the following families were found: CMU Sans Serif\n",
      "findfont: Generic family 'sans-serif' not found because none of the following families were found: CMU Sans Serif\n",
      "findfont: Generic family 'sans-serif' not found because none of the following families were found: CMU Sans Serif\n",
      "findfont: Generic family 'sans-serif' not found because none of the following families were found: CMU Sans Serif\n",
      "findfont: Generic family 'sans-serif' not found because none of the following families were found: CMU Sans Serif\n",
      "findfont: Generic family 'sans-serif' not found because none of the following families were found: CMU Sans Serif\n",
      "findfont: Generic family 'sans-serif' not found because none of the following families were found: CMU Sans Serif\n",
      "findfont: Generic family 'sans-serif' not found because none of the following families were found: CMU Sans Serif\n",
      "findfont: Generic family 'sans-serif' not found because none of the following families were found: CMU Sans Serif\n",
      "findfont: Generic family 'sans-serif' not found because none of the following families were found: CMU Sans Serif\n",
      "findfont: Generic family 'sans-serif' not found because none of the following families were found: CMU Sans Serif\n",
      "findfont: Generic family 'sans-serif' not found because none of the following families were found: CMU Sans Serif\n",
      "findfont: Generic family 'sans-serif' not found because none of the following families were found: CMU Sans Serif\n",
      "findfont: Generic family 'sans-serif' not found because none of the following families were found: CMU Sans Serif\n",
      "findfont: Generic family 'sans-serif' not found because none of the following families were found: CMU Sans Serif\n",
      "findfont: Generic family 'sans-serif' not found because none of the following families were found: CMU Sans Serif\n",
      "findfont: Generic family 'sans-serif' not found because none of the following families were found: CMU Sans Serif\n",
      "findfont: Generic family 'sans-serif' not found because none of the following families were found: CMU Sans Serif\n",
      "findfont: Generic family 'sans-serif' not found because none of the following families were found: CMU Sans Serif\n",
      "findfont: Generic family 'sans-serif' not found because none of the following families were found: CMU Sans Serif\n",
      "findfont: Generic family 'sans-serif' not found because none of the following families were found: CMU Sans Serif\n",
      "findfont: Generic family 'sans-serif' not found because none of the following families were found: CMU Sans Serif\n",
      "findfont: Generic family 'sans-serif' not found because none of the following families were found: CMU Sans Serif\n",
      "findfont: Generic family 'sans-serif' not found because none of the following families were found: CMU Sans Serif\n",
      "findfont: Generic family 'sans-serif' not found because none of the following families were found: CMU Sans Serif\n",
      "findfont: Generic family 'sans-serif' not found because none of the following families were found: CMU Sans Serif\n",
      "findfont: Generic family 'sans-serif' not found because none of the following families were found: CMU Sans Serif\n",
      "findfont: Generic family 'sans-serif' not found because none of the following families were found: CMU Sans Serif\n",
      "findfont: Generic family 'sans-serif' not found because none of the following families were found: CMU Sans Serif\n",
      "findfont: Generic family 'sans-serif' not found because none of the following families were found: CMU Sans Serif\n",
      "findfont: Generic family 'sans-serif' not found because none of the following families were found: CMU Sans Serif\n",
      "findfont: Generic family 'sans-serif' not found because none of the following families were found: CMU Sans Serif\n",
      "findfont: Generic family 'sans-serif' not found because none of the following families were found: CMU Sans Serif\n",
      "findfont: Generic family 'sans-serif' not found because none of the following families were found: CMU Sans Serif\n",
      "findfont: Generic family 'sans-serif' not found because none of the following families were found: CMU Sans Serif\n",
      "findfont: Generic family 'sans-serif' not found because none of the following families were found: CMU Sans Serif\n",
      "findfont: Generic family 'sans-serif' not found because none of the following families were found: CMU Sans Serif\n",
      "findfont: Generic family 'sans-serif' not found because none of the following families were found: CMU Sans Serif\n",
      "findfont: Generic family 'sans-serif' not found because none of the following families were found: CMU Sans Serif\n",
      "findfont: Generic family 'sans-serif' not found because none of the following families were found: CMU Sans Serif\n",
      "findfont: Generic family 'sans-serif' not found because none of the following families were found: CMU Sans Serif\n",
      "findfont: Generic family 'sans-serif' not found because none of the following families were found: CMU Sans Serif\n",
      "findfont: Generic family 'sans-serif' not found because none of the following families were found: CMU Sans Serif\n",
      "findfont: Generic family 'sans-serif' not found because none of the following families were found: CMU Sans Serif\n",
      "findfont: Generic family 'sans-serif' not found because none of the following families were found: CMU Sans Serif\n",
      "findfont: Generic family 'sans-serif' not found because none of the following families were found: CMU Sans Serif\n",
      "findfont: Generic family 'sans-serif' not found because none of the following families were found: CMU Sans Serif\n",
      "findfont: Generic family 'sans-serif' not found because none of the following families were found: CMU Sans Serif\n",
      "findfont: Generic family 'sans-serif' not found because none of the following families were found: CMU Sans Serif\n",
      "findfont: Generic family 'sans-serif' not found because none of the following families were found: CMU Sans Serif\n"
     ]
    },
    {
     "data": {
      "image/png": "[encoded data removed]",
      "text/plain": [
       "<Figure size 640x480 with 1 Axes>"
      ]
     },
     "metadata": {},
     "output_type": "display_data"
    }
   ],
   "source": [
    "from whisperweranalysis.plotting.line import plot_lines\n",
    "x_ticks = [0, 1000, 2500, 5000, 10000, 25000, 50000, 100000]\n",
    "x_tick_labels = ['0', '1k', '2.5k', '5k', '10k', '25k', '50k', '100k']\n",
    "y_ticks = [5, 10, 25, 50, 100]\n",
    "y_tick_labels = ['5', '10', '25', '50', '100']\n",
    "plot_colors = ['#d62728', '#0047AB', '#2ca02c', '#8b0000'] #, '#d62728', '#0047AB', '#2ca02c', ]\n",
    "line_format = ['-', '-', '-', ':'] # '--', '--', '--']\n",
    "aspect_ratio = (2, 1)\n",
    "output_filename = 'asr_wer.pdf'\n",
    "plot_log_x = True\n",
    "plot_log_y = True\n",
    "xlim = (0, 100000)\n",
    "\n",
    "plot_lines([x], y_values, \n",
    "           x_label='Number of updates',\n",
    "           y_label='ASR WER (%)', \n",
    "           legend_label=legend_labels,\n",
    "           line_format=line_format,\n",
    "           plot_colors=plot_colors,\n",
    "           aspect_ratio=aspect_ratio,\n",
    "           x_ticks=x_ticks,\n",
    "           x_tick_labels=x_tick_labels,\n",
    "           y_ticks=y_ticks,\n",
    "           y_tick_labels=y_tick_labels,\n",
    "           file_name=output_filename,\n",
    "           plot_log_x=plot_log_x,\n",
    "           plot_log_y=plot_log_y,\n",
    "           xlim=xlim,\n",
    "           \n",
    ")"
   ]
  },
  {
   "cell_type": "code",
   "execution_count": 201,
   "metadata": {},
   "outputs": [
    {
     "ename": "ValueError",
     "evalue": "x and y must have same first dimension, but have shapes (16,) and (8,)",
     "output_type": "error",
     "traceback": [
      "\u001b[0;31m---------------------------------------------------------------------------\u001b[0m",
      "\u001b[0;31mValueError\u001b[0m                                Traceback (most recent call last)",
      "Cell \u001b[0;32mIn [201], line 14\u001b[0m\n\u001b[1;32m     11\u001b[0m plot_log_y \u001b[39m=\u001b[39m \u001b[39mTrue\u001b[39;00m\n\u001b[1;32m     12\u001b[0m xlim \u001b[39m=\u001b[39m (\u001b[39m0\u001b[39m, \u001b[39m100000\u001b[39m)\n\u001b[0;32m---> 14\u001b[0m plot_lines([x_500], y_values_500, \n\u001b[1;32m     15\u001b[0m            x_label\u001b[39m=\u001b[39;49m\u001b[39m'\u001b[39;49m\u001b[39mNumber of updates\u001b[39;49m\u001b[39m'\u001b[39;49m,\n\u001b[1;32m     16\u001b[0m            y_label\u001b[39m=\u001b[39;49m\u001b[39m'\u001b[39;49m\u001b[39mASR WER (\u001b[39;49m\u001b[39m%\u001b[39;49m\u001b[39m)\u001b[39;49m\u001b[39m'\u001b[39;49m, \n\u001b[1;32m     17\u001b[0m            legend_label\u001b[39m=\u001b[39;49mlegend_labels_500,\n\u001b[1;32m     18\u001b[0m            line_format\u001b[39m=\u001b[39;49mline_format,\n\u001b[1;32m     19\u001b[0m            plot_colors\u001b[39m=\u001b[39;49mplot_colors,\n\u001b[1;32m     20\u001b[0m            aspect_ratio\u001b[39m=\u001b[39;49maspect_ratio,\n\u001b[1;32m     21\u001b[0m            x_ticks\u001b[39m=\u001b[39;49mx_ticks,\n\u001b[1;32m     22\u001b[0m            x_tick_labels\u001b[39m=\u001b[39;49mx_tick_labels,\n\u001b[1;32m     23\u001b[0m            y_ticks\u001b[39m=\u001b[39;49my_ticks,\n\u001b[1;32m     24\u001b[0m            y_tick_labels\u001b[39m=\u001b[39;49my_tick_labels,\n\u001b[1;32m     25\u001b[0m            file_name\u001b[39m=\u001b[39;49moutput_filename,\n\u001b[1;32m     26\u001b[0m            plot_log_x\u001b[39m=\u001b[39;49mplot_log_x,\n\u001b[1;32m     27\u001b[0m            plot_log_y\u001b[39m=\u001b[39;49mplot_log_y,\n\u001b[1;32m     28\u001b[0m            xlim\u001b[39m=\u001b[39;49mxlim,\n\u001b[1;32m     29\u001b[0m            \n\u001b[1;32m     30\u001b[0m )\n",
      "File \u001b[0;32m~/Projects/whisper-analysis-plots/whisperweranalysis/plotting/line.py:167\u001b[0m, in \u001b[0;36mplot_lines\u001b[0;34m(x, y, x_label, y_label, legend_label, title, x_ticks, x_tick_labels, y_ticks, y_tick_labels, line_format, plot_colors, file_name, xlim, ylim, aspect_ratio, plot_log_x, plot_log_y, **kwargs)\u001b[0m\n\u001b[1;32m    163\u001b[0m plt\u001b[39m.\u001b[39mrcParams[\u001b[39m'\u001b[39m\u001b[39mmathtext.fontset\u001b[39m\u001b[39m'\u001b[39m] \u001b[39m=\u001b[39m \u001b[39m'\u001b[39m\u001b[39mcm\u001b[39m\u001b[39m'\u001b[39m\n\u001b[1;32m    166\u001b[0m \u001b[39mfor\u001b[39;00m i \u001b[39min\u001b[39;00m \u001b[39mrange\u001b[39m(\u001b[39mlen\u001b[39m(y)):\n\u001b[0;32m--> 167\u001b[0m     ax\u001b[39m.\u001b[39;49mplot(x[i], y[i], line_format[i],\n\u001b[1;32m    168\u001b[0m             label\u001b[39m=\u001b[39;49mlegend_label[i], color\u001b[39m=\u001b[39;49m\u001b[39mnext\u001b[39;49m(color_iterator))\n\u001b[1;32m    170\u001b[0m \u001b[39mif\u001b[39;00m plot_log_x:\n\u001b[1;32m    171\u001b[0m     ax\u001b[39m.\u001b[39mset_xscale(\u001b[39m'\u001b[39m\u001b[39mlog\u001b[39m\u001b[39m'\u001b[39m)\n",
      "File \u001b[0;32m~/anaconda3/envs/whisper/lib/python3.9/site-packages/matplotlib/axes/_axes.py:1662\u001b[0m, in \u001b[0;36mAxes.plot\u001b[0;34m(self, scalex, scaley, data, *args, **kwargs)\u001b[0m\n\u001b[1;32m   1419\u001b[0m \u001b[39m\"\"\"\u001b[39;00m\n\u001b[1;32m   1420\u001b[0m \u001b[39mPlot y versus x as lines and/or markers.\u001b[39;00m\n\u001b[1;32m   1421\u001b[0m \n\u001b[0;32m   (...)\u001b[0m\n\u001b[1;32m   1659\u001b[0m \u001b[39m(``'green'``) or hex strings (``'#008000'``).\u001b[39;00m\n\u001b[1;32m   1660\u001b[0m \u001b[39m\"\"\"\u001b[39;00m\n\u001b[1;32m   1661\u001b[0m kwargs \u001b[39m=\u001b[39m cbook\u001b[39m.\u001b[39mnormalize_kwargs(kwargs, mlines\u001b[39m.\u001b[39mLine2D)\n\u001b[0;32m-> 1662\u001b[0m lines \u001b[39m=\u001b[39m [\u001b[39m*\u001b[39m\u001b[39mself\u001b[39m\u001b[39m.\u001b[39m_get_lines(\u001b[39m*\u001b[39margs, data\u001b[39m=\u001b[39mdata, \u001b[39m*\u001b[39m\u001b[39m*\u001b[39mkwargs)]\n\u001b[1;32m   1663\u001b[0m \u001b[39mfor\u001b[39;00m line \u001b[39min\u001b[39;00m lines:\n\u001b[1;32m   1664\u001b[0m     \u001b[39mself\u001b[39m\u001b[39m.\u001b[39madd_line(line)\n",
      "File \u001b[0;32m~/anaconda3/envs/whisper/lib/python3.9/site-packages/matplotlib/axes/_base.py:311\u001b[0m, in \u001b[0;36m_process_plot_var_args.__call__\u001b[0;34m(self, data, *args, **kwargs)\u001b[0m\n\u001b[1;32m    309\u001b[0m     this \u001b[39m+\u001b[39m\u001b[39m=\u001b[39m args[\u001b[39m0\u001b[39m],\n\u001b[1;32m    310\u001b[0m     args \u001b[39m=\u001b[39m args[\u001b[39m1\u001b[39m:]\n\u001b[0;32m--> 311\u001b[0m \u001b[39myield from\u001b[39;00m \u001b[39mself\u001b[39;49m\u001b[39m.\u001b[39;49m_plot_args(\n\u001b[1;32m    312\u001b[0m     this, kwargs, ambiguous_fmt_datakey\u001b[39m=\u001b[39;49mambiguous_fmt_datakey)\n",
      "File \u001b[0;32m~/anaconda3/envs/whisper/lib/python3.9/site-packages/matplotlib/axes/_base.py:504\u001b[0m, in \u001b[0;36m_process_plot_var_args._plot_args\u001b[0;34m(self, tup, kwargs, return_kwargs, ambiguous_fmt_datakey)\u001b[0m\n\u001b[1;32m    501\u001b[0m     \u001b[39mself\u001b[39m\u001b[39m.\u001b[39maxes\u001b[39m.\u001b[39myaxis\u001b[39m.\u001b[39mupdate_units(y)\n\u001b[1;32m    503\u001b[0m \u001b[39mif\u001b[39;00m x\u001b[39m.\u001b[39mshape[\u001b[39m0\u001b[39m] \u001b[39m!=\u001b[39m y\u001b[39m.\u001b[39mshape[\u001b[39m0\u001b[39m]:\n\u001b[0;32m--> 504\u001b[0m     \u001b[39mraise\u001b[39;00m \u001b[39mValueError\u001b[39;00m(\u001b[39mf\u001b[39m\u001b[39m\"\u001b[39m\u001b[39mx and y must have same first dimension, but \u001b[39m\u001b[39m\"\u001b[39m\n\u001b[1;32m    505\u001b[0m                      \u001b[39mf\u001b[39m\u001b[39m\"\u001b[39m\u001b[39mhave shapes \u001b[39m\u001b[39m{\u001b[39;00mx\u001b[39m.\u001b[39mshape\u001b[39m}\u001b[39;00m\u001b[39m and \u001b[39m\u001b[39m{\u001b[39;00my\u001b[39m.\u001b[39mshape\u001b[39m}\u001b[39;00m\u001b[39m\"\u001b[39m)\n\u001b[1;32m    506\u001b[0m \u001b[39mif\u001b[39;00m x\u001b[39m.\u001b[39mndim \u001b[39m>\u001b[39m \u001b[39m2\u001b[39m \u001b[39mor\u001b[39;00m y\u001b[39m.\u001b[39mndim \u001b[39m>\u001b[39m \u001b[39m2\u001b[39m:\n\u001b[1;32m    507\u001b[0m     \u001b[39mraise\u001b[39;00m \u001b[39mValueError\u001b[39;00m(\u001b[39mf\u001b[39m\u001b[39m\"\u001b[39m\u001b[39mx and y can be no greater than 2D, but have \u001b[39m\u001b[39m\"\u001b[39m\n\u001b[1;32m    508\u001b[0m                      \u001b[39mf\u001b[39m\u001b[39m\"\u001b[39m\u001b[39mshapes \u001b[39m\u001b[39m{\u001b[39;00mx\u001b[39m.\u001b[39mshape\u001b[39m}\u001b[39;00m\u001b[39m and \u001b[39m\u001b[39m{\u001b[39;00my\u001b[39m.\u001b[39mshape\u001b[39m}\u001b[39;00m\u001b[39m\"\u001b[39m)\n",
      "\u001b[0;31mValueError\u001b[0m: x and y must have same first dimension, but have shapes (16,) and (8,)"
     ]
    },
    {
     "name": "stderr",
     "output_type": "stream",
     "text": [
      "findfont: Generic family 'sans-serif' not found because none of the following families were found: CMU Sans Serif\n",
      "findfont: Generic family 'sans-serif' not found because none of the following families were found: CMU Sans Serif\n",
      "findfont: Generic family 'sans-serif' not found because none of the following families were found: CMU Sans Serif\n",
      "findfont: Generic family 'sans-serif' not found because none of the following families were found: CMU Sans Serif\n",
      "findfont: Generic family 'sans-serif' not found because none of the following families were found: CMU Sans Serif\n",
      "findfont: Generic family 'sans-serif' not found because none of the following families were found: CMU Sans Serif\n",
      "findfont: Generic family 'sans-serif' not found because none of the following families were found: CMU Sans Serif\n",
      "findfont: Generic family 'sans-serif' not found because none of the following families were found: CMU Sans Serif\n",
      "findfont: Generic family 'sans-serif' not found because none of the following families were found: CMU Sans Serif\n",
      "findfont: Generic family 'sans-serif' not found because none of the following families were found: CMU Sans Serif\n",
      "findfont: Generic family 'sans-serif' not found because none of the following families were found: CMU Sans Serif\n",
      "findfont: Generic family 'sans-serif' not found because none of the following families were found: CMU Sans Serif\n",
      "findfont: Generic family 'sans-serif' not found because none of the following families were found: CMU Sans Serif\n",
      "findfont: Generic family 'sans-serif' not found because none of the following families were found: CMU Sans Serif\n",
      "findfont: Generic family 'sans-serif' not found because none of the following families were found: CMU Sans Serif\n",
      "findfont: Generic family 'sans-serif' not found because none of the following families were found: CMU Sans Serif\n",
      "findfont: Generic family 'sans-serif' not found because none of the following families were found: CMU Sans Serif\n",
      "findfont: Generic family 'sans-serif' not found because none of the following families were found: CMU Sans Serif\n",
      "findfont: Generic family 'sans-serif' not found because none of the following families were found: CMU Sans Serif\n",
      "findfont: Generic family 'sans-serif' not found because none of the following families were found: CMU Sans Serif\n",
      "findfont: Generic family 'sans-serif' not found because none of the following families were found: CMU Sans Serif\n",
      "findfont: Generic family 'sans-serif' not found because none of the following families were found: CMU Sans Serif\n",
      "findfont: Generic family 'sans-serif' not found because none of the following families were found: CMU Sans Serif\n",
      "findfont: Generic family 'sans-serif' not found because none of the following families were found: CMU Sans Serif\n",
      "findfont: Generic family 'sans-serif' not found because none of the following families were found: CMU Sans Serif\n",
      "findfont: Generic family 'sans-serif' not found because none of the following families were found: CMU Sans Serif\n",
      "findfont: Generic family 'sans-serif' not found because none of the following families were found: CMU Sans Serif\n",
      "findfont: Generic family 'sans-serif' not found because none of the following families were found: CMU Sans Serif\n",
      "findfont: Generic family 'sans-serif' not found because none of the following families were found: CMU Sans Serif\n",
      "findfont: Generic family 'sans-serif' not found because none of the following families were found: CMU Sans Serif\n",
      "findfont: Generic family 'sans-serif' not found because none of the following families were found: CMU Sans Serif\n",
      "findfont: Generic family 'sans-serif' not found because none of the following families were found: CMU Sans Serif\n",
      "findfont: Generic family 'sans-serif' not found because none of the following families were found: CMU Sans Serif\n",
      "findfont: Generic family 'sans-serif' not found because none of the following families were found: CMU Sans Serif\n",
      "findfont: Generic family 'sans-serif' not found because none of the following families were found: CMU Sans Serif\n",
      "findfont: Generic family 'sans-serif' not found because none of the following families were found: CMU Sans Serif\n",
      "findfont: Generic family 'sans-serif' not found because none of the following families were found: CMU Sans Serif\n",
      "findfont: Generic family 'sans-serif' not found because none of the following families were found: CMU Sans Serif\n",
      "findfont: Generic family 'sans-serif' not found because none of the following families were found: CMU Sans Serif\n",
      "findfont: Generic family 'sans-serif' not found because none of the following families were found: CMU Sans Serif\n",
      "findfont: Generic family 'sans-serif' not found because none of the following families were found: CMU Sans Serif\n",
      "findfont: Generic family 'sans-serif' not found because none of the following families were found: CMU Sans Serif\n",
      "findfont: Generic family 'sans-serif' not found because none of the following families were found: CMU Sans Serif\n",
      "findfont: Generic family 'sans-serif' not found because none of the following families were found: CMU Sans Serif\n",
      "findfont: Generic family 'sans-serif' not found because none of the following families were found: CMU Sans Serif\n",
      "findfont: Generic family 'sans-serif' not found because none of the following families were found: CMU Sans Serif\n",
      "findfont: Generic family 'sans-serif' not found because none of the following families were found: CMU Sans Serif\n",
      "findfont: Generic family 'sans-serif' not found because none of the following families were found: CMU Sans Serif\n",
      "findfont: Generic family 'sans-serif' not found because none of the following families were found: CMU Sans Serif\n",
      "findfont: Generic family 'sans-serif' not found because none of the following families were found: CMU Sans Serif\n",
      "findfont: Generic family 'sans-serif' not found because none of the following families were found: CMU Sans Serif\n",
      "findfont: Generic family 'sans-serif' not found because none of the following families were found: CMU Sans Serif\n",
      "findfont: Generic family 'sans-serif' not found because none of the following families were found: CMU Sans Serif\n",
      "findfont: Generic family 'sans-serif' not found because none of the following families were found: CMU Sans Serif\n"
     ]
    },
    {
     "data": {
      "image/png": "[encoded data removed]",
      "text/plain": [
       "<Figure size 640x480 with 1 Axes>"
      ]
     },
     "metadata": {},
     "output_type": "display_data"
    }
   ],
   "source": [
    "from whisperweranalysis.plotting.line import plot_lines\n",
    "x_ticks = [0, 1000, 2500, 5000, 8000, 10000]\n",
    "x_tick_labels = ['0', '1k', '2.5k', '5k', '8k', '10k']\n",
    "y_ticks = [5, 10, 25, 50, 100]\n",
    "y_tick_labels = ['5', '10', '25', '50', '100']\n",
    "plot_colors = ['#d62728', '#0047AB', '#2ca02c', '#8b0000'] #, '#d62728', '#0047AB', '#2ca02c', ]\n",
    "line_format = ['-', '-', '-', ':'] # '--', '--', '--']\n",
    "aspect_ratio = (2, 1)\n",
    "output_filename = 'asr_wer.pdf'\n",
    "plot_log_x = True\n",
    "plot_log_y = True\n",
    "xlim = (0, 100000)\n",
    "\n",
    "plot_lines([x_500], y_values_500, \n",
    "           x_label='Number of updates',\n",
    "           y_label='ASR WER (%)', \n",
    "           legend_label=legend_labels_500,\n",
    "           line_format=line_format,\n",
    "           plot_colors=plot_colors,\n",
    "           aspect_ratio=aspect_ratio,\n",
    "           x_ticks=x_ticks,\n",
    "           x_tick_labels=x_tick_labels,\n",
    "           y_ticks=y_ticks,\n",
    "           y_tick_labels=y_tick_labels,\n",
    "           file_name=output_filename,\n",
    "           plot_log_x=plot_log_x,\n",
    "           plot_log_y=plot_log_y,\n",
    "           xlim=xlim,\n",
    "           \n",
    ")"
   ]
  },
  {
   "cell_type": "code",
   "execution_count": null,
   "metadata": {},
   "outputs": [],
   "source": []
  },
  {
   "cell_type": "code",
   "execution_count": null,
   "metadata": {},
   "outputs": [],
   "source": []
  }
 ],
 "metadata": {
  "kernelspec": {
   "display_name": "Python 3.9.13 ('whisper')",
   "language": "python",
   "name": "python3"
  },
  "language_info": {
   "codemirror_mode": {
    "name": "ipython",
    "version": 3
   },
   "file_extension": ".py",
   "mimetype": "text/x-python",
   "name": "python",
   "nbconvert_exporter": "python",
   "pygments_lexer": "ipython3",
   "version": "3.9.13"
  },
  "orig_nbformat": 4,
  "vscode": {
   "interpreter": {
    "hash": "5345d537206f398b8fc5eb7643a812daa51a248d7da41ce7a80c38f8bb268669"
   }
  }
 },
 "nbformat": 4,
 "nbformat_minor": 2
}
