{
 "cells": [
  {
   "cell_type": "code",
   "execution_count": 136,
   "metadata": {},
   "outputs": [],
   "source": [
    "from whisperweranalysis.structure import LJSpeech\n",
    "from whisperweranalysis.groundtruth import lj_valid\n",
    "from whisperweranalysis.wer import compute"
   ]
  },
  {
   "cell_type": "code",
   "execution_count": 137,
   "metadata": {},
   "outputs": [],
   "source": [
    "from whisperweranalysis.mel_utilities import audio2mel"
   ]
  },
  {
   "cell_type": "code",
   "execution_count": 138,
   "metadata": {},
   "outputs": [],
   "source": [
    "# audio2mel()"
   ]
  },
  {
   "cell_type": "code",
   "execution_count": 139,
   "metadata": {},
   "outputs": [
    {
     "name": "stdout",
     "output_type": "stream",
     "text": [
      "The autoreload extension is already loaded. To reload it, use:\n",
      "  %reload_ext autoreload\n"
     ]
    }
   ],
   "source": [
    "%load_ext autoreload\n",
    "%autoreload 2"
   ]
  },
  {
   "cell_type": "markdown",
   "metadata": {},
   "source": [
    "## Natural Speech"
   ]
  },
  {
   "cell_type": "code",
   "execution_count": 140,
   "metadata": {},
   "outputs": [],
   "source": [
    "GT = LJSpeech.load_from_dir('../whisperweranalysis/LJ_Valid_transcription/NS/0')"
   ]
  },
  {
   "cell_type": "code",
   "execution_count": 141,
   "metadata": {},
   "outputs": [
    {
     "data": {
      "text/plain": [
       "(2.1778584392014517, 2.1778584392014517)"
      ]
     },
     "execution_count": 141,
     "metadata": {},
     "output_type": "execute_result"
    }
   ],
   "source": [
    "compute(lj_valid, GT.transcriptions), GT.compute_wer(lj_valid)"
   ]
  },
  {
   "cell_type": "markdown",
   "metadata": {},
   "source": [
    "## Vocoded Speech"
   ]
  },
  {
   "cell_type": "code",
   "execution_count": 16,
   "metadata": {},
   "outputs": [],
   "source": [
    "GT_Mel = LJSpeech.load_from_dir('../whisperweranalysis/LJ_Valid_transcription/GT/GT_MEL')"
   ]
  },
  {
   "cell_type": "code",
   "execution_count": 17,
   "metadata": {},
   "outputs": [
    {
     "data": {
      "text/plain": [
       "1.9963702359346642"
      ]
     },
     "execution_count": 17,
     "metadata": {},
     "output_type": "execute_result"
    }
   ],
   "source": [
    "compute(lj_valid, GT_Mel.transcriptions)"
   ]
  },
  {
   "cell_type": "code",
   "execution_count": 18,
   "metadata": {},
   "outputs": [],
   "source": [
    "with open('temp_NS.txt', 'w') as f:\n",
    "    f.writelines([f'{x}\\n' for x in GT.transcriptions])\n",
    "    \n",
    "with open('temp_NS_Vocoded.txt', 'w') as f:\n",
    "    f.writelines([f'{x}\\n' for x in GT_Mel.transcriptions])\n",
    "    "
   ]
  },
  {
   "cell_type": "markdown",
   "metadata": {},
   "source": [
    "## Plotting time"
   ]
  },
  {
   "cell_type": "code",
   "execution_count": 204,
   "metadata": {},
   "outputs": [],
   "source": [
    "from collections import defaultdict\n",
    "from pathlib import Path\n",
    "from whisperweranalysis.checkpoint_mover import get_list_iter"
   ]
  },
  {
   "cell_type": "code",
   "execution_count": 205,
   "metadata": {},
   "outputs": [],
   "source": [
    "TRANS_DIR = Path('../whisperweranalysis/LJ_Valid_transcription')"
   ]
  },
  {
   "cell_type": "code",
   "execution_count": 238,
   "metadata": {},
   "outputs": [],
   "source": [
    "all_systems = defaultdict(lambda: defaultdict(int))\n",
    "for system in TRANS_DIR.glob('*'):\n",
    "    for iter_ in sorted(list(system.glob('*')), key=lambda x: int(x.name)):\n",
    "        lj_struct = LJSpeech.load_from_dir(iter_)\n",
    "        lj_struct.compute_wer(lj_valid)\n",
    "        all_systems[system.name][int(iter_.name)] = lj_struct.wer\n",
    "        # if int(iter_.name) > 50000:\n",
    "        #     break\n",
    "        \n",
    "all_systems['VOC_500'] = { x: list(all_systems['VOC'].values())[0] for x in all_systems['Tacotron2_500']}"
   ]
  },
  {
   "cell_type": "code",
   "execution_count": 239,
   "metadata": {},
   "outputs": [
    {
     "data": {
      "text/plain": [
       "dict_keys(['VOC', 'Tacotron2', 'Tacotron2_500', 'OverFlow', 'OverFlow_500', 'NH2', 'Glow_500', 'Glow', 'NS', 'VOC_500'])"
      ]
     },
     "execution_count": 239,
     "metadata": {},
     "output_type": "execute_result"
    }
   ],
   "source": [
    "all_systems.keys()"
   ]
  },
  {
   "cell_type": "code",
   "execution_count": 240,
   "metadata": {},
   "outputs": [],
   "source": [
    "\n",
    "systems = {\n",
    "    'T2': all_systems['Tacotron2'],\n",
    "    'GTTS': all_systems['Glow'],\n",
    "    'NHMM': all_systems['NH2'],\n",
    "    'OF': all_systems['OverFlow'],\n",
    "    'VOC': all_systems['VOC'],\n",
    "}\n",
    "\n",
    "systems_500 = {\n",
    "    'T2 (500)': all_systems['Tacotron2_500'],\n",
    "    'GTTS (500)': all_systems['Glow_500'],\n",
    "    'OF (500)': all_systems['OverFlow_500'],\n",
    "    'VOC_500': all_systems['VOC_500']\n",
    "}\n",
    "\n",
    "y_values, legend_labels = [], []\n",
    "for model in systems:\n",
    "    y_values.append([v for k, v in systems[model].items()])\n",
    "    legend_labels.append(model)\n",
    "    \n",
    "x = sorted(list(get_list_iter()))\n",
    "\n",
    "\n",
    "y_values_500, legend_labels_500 = [], []\n",
    "for model in systems_500:\n",
    "    y_values_500.append([v for k, v in systems_500[model].items()])\n",
    "    legend_labels_500.append(model)\n",
    "\n",
    "x_500 = [0, 500, 1000, 1500, 2000, 2500, 3000, 3500, 4000, 4500, 5000, 6000, 7000, 8000, 9000, 10000]"
   ]
  },
  {
   "cell_type": "code",
   "execution_count": 241,
   "metadata": {},
   "outputs": [
    {
     "data": {
      "text/plain": [
       "dict_keys(['VOC', 'Tacotron2', 'Tacotron2_500', 'OverFlow', 'OverFlow_500', 'NH2', 'Glow_500', 'Glow', 'NS', 'VOC_500'])"
      ]
     },
     "execution_count": 241,
     "metadata": {},
     "output_type": "execute_result"
    }
   ],
   "source": [
    "all_systems.keys()"
   ]
  },
  {
   "cell_type": "code",
   "execution_count": 242,
   "metadata": {},
   "outputs": [
    {
     "name": "stdout",
     "output_type": "stream",
     "text": [
      "[0, 500, 1000, 1500, 2000, 2500, 5000, 10000, 15000, 20000, 25000, 30000, 40000, 50000, 60000, 70000, 80000, 90000, 100000]\n"
     ]
    }
   ],
   "source": [
    "print(x)"
   ]
  },
  {
   "cell_type": "code",
   "execution_count": 243,
   "metadata": {},
   "outputs": [
    {
     "name": "stderr",
     "output_type": "stream",
     "text": [
      "/home/smehta/Projects/whisper-analysis-plots/whisperweranalysis/plotting/line.py:191: UserWarning: Attempt to set non-positive xlim on a log-scaled axis will be ignored.\n",
      "  ax.set_xlim(xlim)\n",
      "/home/smehta/Projects/whisper-analysis-plots/whisperweranalysis/plotting/line.py:192: UserWarning: Attempt to set non-positive ylim on a log-scaled axis will be ignored.\n",
      "  ax.set_ylim(ylim)\n",
      "findfont: Generic family 'sans-serif' not found because none of the following families were found: CMU Sans Serif\n",
      "findfont: Generic family 'sans-serif' not found because none of the following families were found: CMU Sans Serif\n",
      "findfont: Generic family 'sans-serif' not found because none of the following families were found: CMU Sans Serif\n",
      "findfont: Generic family 'sans-serif' not found because none of the following families were found: CMU Sans Serif\n",
      "findfont: Generic family 'sans-serif' not found because none of the following families were found: CMU Sans Serif\n",
      "findfont: Generic family 'sans-serif' not found because none of the following families were found: CMU Sans Serif\n",
      "findfont: Generic family 'sans-serif' not found because none of the following families were found: CMU Sans Serif\n",
      "findfont: Generic family 'sans-serif' not found because none of the following families were found: CMU Sans Serif\n",
      "findfont: Generic family 'sans-serif' not found because none of the following families were found: CMU Sans Serif\n",
      "findfont: Generic family 'sans-serif' not found because none of the following families were found: CMU Sans Serif\n",
      "findfont: Generic family 'sans-serif' not found because none of the following families were found: CMU Sans Serif\n",
      "findfont: Generic family 'sans-serif' not found because none of the following families were found: CMU Sans Serif\n",
      "findfont: Generic family 'sans-serif' not found because none of the following families were found: CMU Sans Serif\n",
      "findfont: Generic family 'sans-serif' not found because none of the following families were found: CMU Sans Serif\n",
      "findfont: Generic family 'sans-serif' not found because none of the following families were found: CMU Sans Serif\n",
      "findfont: Generic family 'sans-serif' not found because none of the following families were found: CMU Sans Serif\n",
      "findfont: Generic family 'sans-serif' not found because none of the following families were found: CMU Sans Serif\n",
      "findfont: Generic family 'sans-serif' not found because none of the following families were found: CMU Sans Serif\n",
      "findfont: Generic family 'sans-serif' not found because none of the following families were found: CMU Sans Serif\n",
      "findfont: Generic family 'sans-serif' not found because none of the following families were found: CMU Sans Serif\n",
      "findfont: Generic family 'sans-serif' not found because none of the following families were found: CMU Sans Serif\n",
      "findfont: Generic family 'sans-serif' not found because none of the following families were found: CMU Sans Serif\n",
      "findfont: Generic family 'sans-serif' not found because none of the following families were found: CMU Sans Serif\n",
      "findfont: Generic family 'sans-serif' not found because none of the following families were found: CMU Sans Serif\n",
      "findfont: Generic family 'sans-serif' not found because none of the following families were found: CMU Sans Serif\n",
      "findfont: Generic family 'sans-serif' not found because none of the following families were found: CMU Sans Serif\n",
      "findfont: Generic family 'sans-serif' not found because none of the following families were found: CMU Sans Serif\n",
      "findfont: Generic family 'sans-serif' not found because none of the following families were found: CMU Sans Serif\n",
      "findfont: Generic family 'sans-serif' not found because none of the following families were found: CMU Sans Serif\n",
      "findfont: Generic family 'sans-serif' not found because none of the following families were found: CMU Sans Serif\n",
      "findfont: Generic family 'sans-serif' not found because none of the following families were found: CMU Sans Serif\n",
      "findfont: Generic family 'sans-serif' not found because none of the following families were found: CMU Sans Serif\n",
      "findfont: Generic family 'sans-serif' not found because none of the following families were found: CMU Sans Serif\n",
      "findfont: Generic family 'sans-serif' not found because none of the following families were found: CMU Sans Serif\n",
      "findfont: Generic family 'sans-serif' not found because none of the following families were found: CMU Sans Serif\n",
      "findfont: Generic family 'sans-serif' not found because none of the following families were found: CMU Sans Serif\n",
      "findfont: Generic family 'sans-serif' not found because none of the following families were found: CMU Sans Serif\n",
      "findfont: Generic family 'sans-serif' not found because none of the following families were found: CMU Sans Serif\n",
      "findfont: Generic family 'sans-serif' not found because none of the following families were found: CMU Sans Serif\n",
      "findfont: Generic family 'sans-serif' not found because none of the following families were found: CMU Sans Serif\n",
      "findfont: Generic family 'sans-serif' not found because none of the following families were found: CMU Sans Serif\n",
      "findfont: Generic family 'sans-serif' not found because none of the following families were found: CMU Sans Serif\n",
      "findfont: Generic family 'sans-serif' not found because none of the following families were found: CMU Sans Serif\n",
      "findfont: Generic family 'sans-serif' not found because none of the following families were found: CMU Sans Serif\n",
      "findfont: Generic family 'sans-serif' not found because none of the following families were found: CMU Sans Serif\n",
      "findfont: Generic family 'sans-serif' not found because none of the following families were found: CMU Sans Serif\n",
      "findfont: Generic family 'sans-serif' not found because none of the following families were found: CMU Sans Serif\n",
      "findfont: Generic family 'sans-serif' not found because none of the following families were found: CMU Sans Serif\n",
      "findfont: Generic family 'sans-serif' not found because none of the following families were found: CMU Sans Serif\n",
      "findfont: Generic family 'sans-serif' not found because none of the following families were found: CMU Sans Serif\n",
      "findfont: Generic family 'sans-serif' not found because none of the following families were found: CMU Sans Serif\n",
      "findfont: Generic family 'sans-serif' not found because none of the following families were found: CMU Sans Serif\n",
      "findfont: Generic family 'sans-serif' not found because none of the following families were found: CMU Sans Serif\n",
      "findfont: Generic family 'sans-serif' not found because none of the following families were found: CMU Sans Serif\n",
      "findfont: Generic family 'sans-serif' not found because none of the following families were found: CMU Sans Serif\n",
      "findfont: Generic family 'sans-serif' not found because none of the following families were found: CMU Sans Serif\n",
      "findfont: Generic family 'sans-serif' not found because none of the following families were found: CMU Sans Serif\n",
      "findfont: Generic family 'sans-serif' not found because none of the following families were found: CMU Sans Serif\n",
      "findfont: Generic family 'sans-serif' not found because none of the following families were found: CMU Sans Serif\n",
      "findfont: Generic family 'sans-serif' not found because none of the following families were found: CMU Sans Serif\n",
      "findfont: Generic family 'sans-serif' not found because none of the following families were found: CMU Sans Serif\n",
      "findfont: Generic family 'sans-serif' not found because none of the following families were found: CMU Sans Serif\n",
      "findfont: Generic family 'sans-serif' not found because none of the following families were found: CMU Sans Serif\n",
      "findfont: Generic family 'sans-serif' not found because none of the following families were found: CMU Sans Serif\n",
      "findfont: Generic family 'sans-serif' not found because none of the following families were found: CMU Sans Serif\n",
      "findfont: Generic family 'sans-serif' not found because none of the following families were found: CMU Sans Serif\n",
      "findfont: Generic family 'sans-serif' not found because none of the following families were found: CMU Sans Serif\n",
      "findfont: Generic family 'sans-serif' not found because none of the following families were found: CMU Sans Serif\n",
      "findfont: Generic family 'sans-serif' not found because none of the following families were found: CMU Sans Serif\n",
      "findfont: Generic family 'sans-serif' not found because none of the following families were found: CMU Sans Serif\n",
      "findfont: Generic family 'sans-serif' not found because none of the following families were found: CMU Sans Serif\n",
      "findfont: Generic family 'sans-serif' not found because none of the following families were found: CMU Sans Serif\n",
      "findfont: Generic family 'sans-serif' not found because none of the following families were found: CMU Sans Serif\n",
      "findfont: Generic family 'sans-serif' not found because none of the following families were found: CMU Sans Serif\n",
      "findfont: Generic family 'sans-serif' not found because none of the following families were found: CMU Sans Serif\n",
      "findfont: Generic family 'sans-serif' not found because none of the following families were found: CMU Sans Serif\n",
      "findfont: Generic family 'sans-serif' not found because none of the following families were found: CMU Sans Serif\n",
      "findfont: Generic family 'sans-serif' not found because none of the following families were found: CMU Sans Serif\n",
      "findfont: Generic family 'sans-serif' not found because none of the following families were found: CMU Sans Serif\n",
      "findfont: Generic family 'sans-serif' not found because none of the following families were found: CMU Sans Serif\n",
      "findfont: Generic family 'sans-serif' not found because none of the following families were found: CMU Sans Serif\n",
      "findfont: Generic family 'sans-serif' not found because none of the following families were found: CMU Sans Serif\n",
      "findfont: Generic family 'sans-serif' not found because none of the following families were found: CMU Sans Serif\n",
      "findfont: Generic family 'sans-serif' not found because none of the following families were found: CMU Sans Serif\n",
      "findfont: Generic family 'sans-serif' not found because none of the following families were found: CMU Sans Serif\n",
      "findfont: Generic family 'sans-serif' not found because none of the following families were found: CMU Sans Serif\n",
      "findfont: Generic family 'sans-serif' not found because none of the following families were found: CMU Sans Serif\n",
      "findfont: Generic family 'sans-serif' not found because none of the following families were found: CMU Sans Serif\n",
      "findfont: Generic family 'sans-serif' not found because none of the following families were found: CMU Sans Serif\n",
      "findfont: Generic family 'sans-serif' not found because none of the following families were found: CMU Sans Serif\n",
      "findfont: Generic family 'sans-serif' not found because none of the following families were found: CMU Sans Serif\n",
      "findfont: Generic family 'sans-serif' not found because none of the following families were found: CMU Sans Serif\n",
      "findfont: Generic family 'sans-serif' not found because none of the following families were found: CMU Sans Serif\n",
      "findfont: Generic family 'sans-serif' not found because none of the following families were found: CMU Sans Serif\n",
      "findfont: Generic family 'sans-serif' not found because none of the following families were found: CMU Sans Serif\n",
      "findfont: Generic family 'sans-serif' not found because none of the following families were found: CMU Sans Serif\n",
      "findfont: Generic family 'sans-serif' not found because none of the following families were found: CMU Sans Serif\n",
      "findfont: Generic family 'sans-serif' not found because none of the following families were found: CMU Sans Serif\n",
      "findfont: Generic family 'sans-serif' not found because none of the following families were found: CMU Sans Serif\n",
      "findfont: Generic family 'sans-serif' not found because none of the following families were found: CMU Sans Serif\n",
      "findfont: Generic family 'sans-serif' not found because none of the following families were found: CMU Sans Serif\n",
      "findfont: Generic family 'sans-serif' not found because none of the following families were found: CMU Sans Serif\n",
      "findfont: Generic family 'sans-serif' not found because none of the following families were found: CMU Sans Serif\n",
      "findfont: Generic family 'sans-serif' not found because none of the following families were found: CMU Sans Serif\n",
      "findfont: Generic family 'sans-serif' not found because none of the following families were found: CMU Sans Serif\n",
      "findfont: Generic family 'sans-serif' not found because none of the following families were found: CMU Sans Serif\n",
      "findfont: Generic family 'sans-serif' not found because none of the following families were found: CMU Sans Serif\n",
      "findfont: Generic family 'sans-serif' not found because none of the following families were found: CMU Sans Serif\n",
      "findfont: Generic family 'sans-serif' not found because none of the following families were found: CMU Sans Serif\n",
      "findfont: Generic family 'sans-serif' not found because none of the following families were found: CMU Sans Serif\n",
      "findfont: Generic family 'sans-serif' not found because none of the following families were found: CMU Sans Serif\n",
      "findfont: Generic family 'sans-serif' not found because none of the following families were found: CMU Sans Serif\n",
      "findfont: Generic family 'sans-serif' not found because none of the following families were found: CMU Sans Serif\n",
      "findfont: Generic family 'sans-serif' not found because none of the following families were found: CMU Sans Serif\n",
      "findfont: Generic family 'sans-serif' not found because none of the following families were found: CMU Sans Serif\n",
      "findfont: Generic family 'sans-serif' not found because none of the following families were found: CMU Sans Serif\n",
      "findfont: Generic family 'sans-serif' not found because none of the following families were found: CMU Sans Serif\n",
      "findfont: Generic family 'sans-serif' not found because none of the following families were found: CMU Sans Serif\n",
      "findfont: Generic family 'sans-serif' not found because none of the following families were found: CMU Sans Serif\n",
      "findfont: Generic family 'sans-serif' not found because none of the following families were found: CMU Sans Serif\n",
      "findfont: Generic family 'sans-serif' not found because none of the following families were found: CMU Sans Serif\n",
      "findfont: Generic family 'sans-serif' not found because none of the following families were found: CMU Sans Serif\n",
      "findfont: Generic family 'sans-serif' not found because none of the following families were found: CMU Sans Serif\n",
      "findfont: Generic family 'sans-serif' not found because none of the following families were found: CMU Sans Serif\n",
      "findfont: Generic family 'sans-serif' not found because none of the following families were found: CMU Sans Serif\n",
      "findfont: Generic family 'sans-serif' not found because none of the following families were found: CMU Sans Serif\n",
      "findfont: Generic family 'sans-serif' not found because none of the following families were found: CMU Sans Serif\n",
      "findfont: Generic family 'sans-serif' not found because none of the following families were found: CMU Sans Serif\n",
      "findfont: Generic family 'sans-serif' not found because none of the following families were found: CMU Sans Serif\n",
      "findfont: Generic family 'sans-serif' not found because none of the following families were found: CMU Sans Serif\n",
      "findfont: Generic family 'sans-serif' not found because none of the following families were found: CMU Sans Serif\n",
      "findfont: Generic family 'sans-serif' not found because none of the following families were found: CMU Sans Serif\n",
      "findfont: Generic family 'sans-serif' not found because none of the following families were found: CMU Sans Serif\n",
      "findfont: Generic family 'sans-serif' not found because none of the following families were found: CMU Sans Serif\n",
      "findfont: Generic family 'sans-serif' not found because none of the following families were found: CMU Sans Serif\n",
      "findfont: Generic family 'sans-serif' not found because none of the following families were found: CMU Sans Serif\n",
      "findfont: Generic family 'sans-serif' not found because none of the following families were found: CMU Sans Serif\n",
      "findfont: Generic family 'sans-serif' not found because none of the following families were found: CMU Sans Serif\n",
      "findfont: Generic family 'sans-serif' not found because none of the following families were found: CMU Sans Serif\n",
      "findfont: Generic family 'sans-serif' not found because none of the following families were found: CMU Sans Serif\n",
      "findfont: Generic family 'sans-serif' not found because none of the following families were found: CMU Sans Serif\n",
      "findfont: Generic family 'sans-serif' not found because none of the following families were found: CMU Sans Serif\n",
      "findfont: Generic family 'sans-serif' not found because none of the following families were found: CMU Sans Serif\n",
      "findfont: Generic family 'sans-serif' not found because none of the following families were found: CMU Sans Serif\n",
      "findfont: Generic family 'sans-serif' not found because none of the following families were found: CMU Sans Serif\n",
      "findfont: Generic family 'sans-serif' not found because none of the following families were found: CMU Sans Serif\n",
      "findfont: Generic family 'sans-serif' not found because none of the following families were found: CMU Sans Serif\n",
      "findfont: Generic family 'sans-serif' not found because none of the following families were found: CMU Sans Serif\n",
      "findfont: Generic family 'sans-serif' not found because none of the following families were found: CMU Sans Serif\n",
      "findfont: Generic family 'sans-serif' not found because none of the following families were found: CMU Sans Serif\n",
      "findfont: Generic family 'sans-serif' not found because none of the following families were found: CMU Sans Serif\n",
      "findfont: Generic family 'sans-serif' not found because none of the following families were found: CMU Sans Serif\n",
      "findfont: Generic family 'sans-serif' not found because none of the following families were found: CMU Sans Serif\n",
      "findfont: Generic family 'sans-serif' not found because none of the following families were found: CMU Sans Serif\n",
      "findfont: Generic family 'sans-serif' not found because none of the following families were found: CMU Sans Serif\n",
      "findfont: Generic family 'sans-serif' not found because none of the following families were found: CMU Sans Serif\n",
      "findfont: Generic family 'sans-serif' not found because none of the following families were found: CMU Sans Serif\n",
      "findfont: Generic family 'sans-serif' not found because none of the following families were found: CMU Sans Serif\n",
      "findfont: Generic family 'sans-serif' not found because none of the following families were found: CMU Sans Serif\n",
      "findfont: Generic family 'sans-serif' not found because none of the following families were found: CMU Sans Serif\n",
      "findfont: Generic family 'sans-serif' not found because none of the following families were found: CMU Sans Serif\n",
      "findfont: Generic family 'sans-serif' not found because none of the following families were found: CMU Sans Serif\n",
      "findfont: Generic family 'sans-serif' not found because none of the following families were found: CMU Sans Serif\n",
      "findfont: Generic family 'sans-serif' not found because none of the following families were found: CMU Sans Serif\n",
      "findfont: Generic family 'sans-serif' not found because none of the following families were found: CMU Sans Serif\n",
      "findfont: Generic family 'sans-serif' not found because none of the following families were found: CMU Sans Serif\n",
      "findfont: Generic family 'sans-serif' not found because none of the following families were found: CMU Sans Serif\n",
      "findfont: Generic family 'sans-serif' not found because none of the following families were found: CMU Sans Serif\n",
      "findfont: Generic family 'sans-serif' not found because none of the following families were found: CMU Sans Serif\n",
      "findfont: Generic family 'sans-serif' not found because none of the following families were found: CMU Sans Serif\n",
      "findfont: Generic family 'sans-serif' not found because none of the following families were found: CMU Sans Serif\n",
      "findfont: Generic family 'sans-serif' not found because none of the following families were found: CMU Sans Serif\n",
      "findfont: Generic family 'sans-serif' not found because none of the following families were found: CMU Sans Serif\n",
      "findfont: Generic family 'sans-serif' not found because none of the following families were found: CMU Sans Serif\n",
      "findfont: Generic family 'sans-serif' not found because none of the following families were found: CMU Sans Serif\n",
      "findfont: Generic family 'sans-serif' not found because none of the following families were found: CMU Sans Serif\n",
      "findfont: Generic family 'sans-serif' not found because none of the following families were found: CMU Sans Serif\n",
      "findfont: Generic family 'sans-serif' not found because none of the following families were found: CMU Sans Serif\n",
      "findfont: Generic family 'sans-serif' not found because none of the following families were found: CMU Sans Serif\n",
      "findfont: Generic family 'sans-serif' not found because none of the following families were found: CMU Sans Serif\n",
      "findfont: Generic family 'sans-serif' not found because none of the following families were found: CMU Sans Serif\n",
      "findfont: Generic family 'sans-serif' not found because none of the following families were found: CMU Sans Serif\n",
      "findfont: Generic family 'sans-serif' not found because none of the following families were found: CMU Sans Serif\n",
      "findfont: Generic family 'sans-serif' not found because none of the following families were found: CMU Sans Serif\n",
      "findfont: Generic family 'sans-serif' not found because none of the following families were found: CMU Sans Serif\n",
      "findfont: Generic family 'sans-serif' not found because none of the following families were found: CMU Sans Serif\n",
      "findfont: Generic family 'sans-serif' not found because none of the following families were found: CMU Sans Serif\n",
      "findfont: Generic family 'sans-serif' not found because none of the following families were found: CMU Sans Serif\n",
      "findfont: Generic family 'sans-serif' not found because none of the following families were found: CMU Sans Serif\n",
      "findfont: Generic family 'sans-serif' not found because none of the following families were found: CMU Sans Serif\n",
      "findfont: Generic family 'sans-serif' not found because none of the following families were found: CMU Sans Serif\n",
      "findfont: Generic family 'sans-serif' not found because none of the following families were found: CMU Sans Serif\n",
      "findfont: Generic family 'sans-serif' not found because none of the following families were found: CMU Sans Serif\n",
      "findfont: Generic family 'sans-serif' not found because none of the following families were found: CMU Sans Serif\n",
      "findfont: Generic family 'sans-serif' not found because none of the following families were found: CMU Sans Serif\n",
      "findfont: Generic family 'sans-serif' not found because none of the following families were found: CMU Sans Serif\n",
      "findfont: Generic family 'sans-serif' not found because none of the following families were found: CMU Sans Serif\n",
      "findfont: Generic family 'sans-serif' not found because none of the following families were found: CMU Sans Serif\n",
      "findfont: Generic family 'sans-serif' not found because none of the following families were found: CMU Sans Serif\n",
      "findfont: Generic family 'sans-serif' not found because none of the following families were found: CMU Sans Serif\n",
      "findfont: Generic family 'sans-serif' not found because none of the following families were found: CMU Sans Serif\n",
      "findfont: Generic family 'sans-serif' not found because none of the following families were found: CMU Sans Serif\n",
      "findfont: Generic family 'sans-serif' not found because none of the following families were found: CMU Sans Serif\n",
      "findfont: Generic family 'sans-serif' not found because none of the following families were found: CMU Sans Serif\n",
      "findfont: Generic family 'sans-serif' not found because none of the following families were found: CMU Sans Serif\n",
      "findfont: Generic family 'sans-serif' not found because none of the following families were found: CMU Sans Serif\n",
      "findfont: Generic family 'sans-serif' not found because none of the following families were found: CMU Sans Serif\n",
      "findfont: Generic family 'sans-serif' not found because none of the following families were found: CMU Sans Serif\n",
      "findfont: Generic family 'sans-serif' not found because none of the following families were found: CMU Sans Serif\n",
      "findfont: Generic family 'sans-serif' not found because none of the following families were found: CMU Sans Serif\n",
      "findfont: Generic family 'sans-serif' not found because none of the following families were found: CMU Sans Serif\n",
      "findfont: Generic family 'sans-serif' not found because none of the following families were found: CMU Sans Serif\n",
      "findfont: Generic family 'sans-serif' not found because none of the following families were found: CMU Sans Serif\n",
      "findfont: Generic family 'sans-serif' not found because none of the following families were found: CMU Sans Serif\n",
      "findfont: Generic family 'sans-serif' not found because none of the following families were found: CMU Sans Serif\n",
      "findfont: Generic family 'sans-serif' not found because none of the following families were found: CMU Sans Serif\n",
      "findfont: Generic family 'sans-serif' not found because none of the following families were found: CMU Sans Serif\n",
      "findfont: Generic family 'sans-serif' not found because none of the following families were found: CMU Sans Serif\n",
      "findfont: Generic family 'sans-serif' not found because none of the following families were found: CMU Sans Serif\n",
      "findfont: Generic family 'sans-serif' not found because none of the following families were found: CMU Sans Serif\n",
      "findfont: Generic family 'sans-serif' not found because none of the following families were found: CMU Sans Serif\n",
      "findfont: Generic family 'sans-serif' not found because none of the following families were found: CMU Sans Serif\n",
      "findfont: Generic family 'sans-serif' not found because none of the following families were found: CMU Sans Serif\n",
      "findfont: Generic family 'sans-serif' not found because none of the following families were found: CMU Sans Serif\n",
      "findfont: Generic family 'sans-serif' not found because none of the following families were found: CMU Sans Serif\n",
      "findfont: Generic family 'sans-serif' not found because none of the following families were found: CMU Sans Serif\n",
      "findfont: Generic family 'sans-serif' not found because none of the following families were found: CMU Sans Serif\n",
      "findfont: Generic family 'sans-serif' not found because none of the following families were found: CMU Sans Serif\n",
      "findfont: Generic family 'sans-serif' not found because none of the following families were found: CMU Sans Serif\n",
      "findfont: Generic family 'sans-serif' not found because none of the following families were found: CMU Sans Serif\n",
      "findfont: Generic family 'sans-serif' not found because none of the following families were found: CMU Sans Serif\n",
      "findfont: Generic family 'sans-serif' not found because none of the following families were found: CMU Sans Serif\n",
      "findfont: Generic family 'sans-serif' not found because none of the following families were found: CMU Sans Serif\n",
      "findfont: Generic family 'sans-serif' not found because none of the following families were found: CMU Sans Serif\n",
      "findfont: Generic family 'sans-serif' not found because none of the following families were found: CMU Sans Serif\n",
      "findfont: Generic family 'sans-serif' not found because none of the following families were found: CMU Sans Serif\n",
      "findfont: Generic family 'sans-serif' not found because none of the following families were found: CMU Sans Serif\n",
      "findfont: Generic family 'sans-serif' not found because none of the following families were found: CMU Sans Serif\n",
      "findfont: Generic family 'sans-serif' not found because none of the following families were found: CMU Sans Serif\n",
      "findfont: Generic family 'sans-serif' not found because none of the following families were found: CMU Sans Serif\n",
      "findfont: Generic family 'sans-serif' not found because none of the following families were found: CMU Sans Serif\n",
      "findfont: Generic family 'sans-serif' not found because none of the following families were found: CMU Sans Serif\n",
      "findfont: Generic family 'sans-serif' not found because none of the following families were found: CMU Sans Serif\n",
      "findfont: Generic family 'sans-serif' not found because none of the following families were found: CMU Sans Serif\n",
      "findfont: Generic family 'sans-serif' not found because none of the following families were found: CMU Sans Serif\n",
      "findfont: Generic family 'sans-serif' not found because none of the following families were found: CMU Sans Serif\n",
      "findfont: Generic family 'sans-serif' not found because none of the following families were found: CMU Sans Serif\n",
      "findfont: Generic family 'sans-serif' not found because none of the following families were found: CMU Sans Serif\n",
      "findfont: Generic family 'sans-serif' not found because none of the following families were found: CMU Sans Serif\n",
      "findfont: Generic family 'sans-serif' not found because none of the following families were found: CMU Sans Serif\n",
      "findfont: Generic family 'sans-serif' not found because none of the following families were found: CMU Sans Serif\n",
      "findfont: Generic family 'sans-serif' not found because none of the following families were found: CMU Sans Serif\n",
      "findfont: Generic family 'sans-serif' not found because none of the following families were found: CMU Sans Serif\n",
      "findfont: Generic family 'sans-serif' not found because none of the following families were found: CMU Sans Serif\n",
      "findfont: Generic family 'sans-serif' not found because none of the following families were found: CMU Sans Serif\n",
      "findfont: Generic family 'sans-serif' not found because none of the following families were found: CMU Sans Serif\n",
      "findfont: Generic family 'sans-serif' not found because none of the following families were found: CMU Sans Serif\n",
      "findfont: Generic family 'sans-serif' not found because none of the following families were found: CMU Sans Serif\n",
      "findfont: Generic family 'sans-serif' not found because none of the following families were found: CMU Sans Serif\n",
      "findfont: Generic family 'sans-serif' not found because none of the following families were found: CMU Sans Serif\n",
      "findfont: Generic family 'sans-serif' not found because none of the following families were found: CMU Sans Serif\n",
      "findfont: Generic family 'sans-serif' not found because none of the following families were found: CMU Sans Serif\n",
      "findfont: Generic family 'sans-serif' not found because none of the following families were found: CMU Sans Serif\n",
      "findfont: Generic family 'sans-serif' not found because none of the following families were found: CMU Sans Serif\n",
      "findfont: Generic family 'sans-serif' not found because none of the following families were found: CMU Sans Serif\n",
      "findfont: Generic family 'sans-serif' not found because none of the following families were found: CMU Sans Serif\n",
      "findfont: Generic family 'sans-serif' not found because none of the following families were found: CMU Sans Serif\n",
      "findfont: Generic family 'sans-serif' not found because none of the following families were found: CMU Sans Serif\n",
      "findfont: Generic family 'sans-serif' not found because none of the following families were found: CMU Sans Serif\n",
      "findfont: Generic family 'sans-serif' not found because none of the following families were found: CMU Sans Serif\n",
      "findfont: Generic family 'sans-serif' not found because none of the following families were found: CMU Sans Serif\n",
      "findfont: Generic family 'sans-serif' not found because none of the following families were found: CMU Sans Serif\n",
      "findfont: Generic family 'sans-serif' not found because none of the following families were found: CMU Sans Serif\n",
      "findfont: Generic family 'sans-serif' not found because none of the following families were found: CMU Sans Serif\n",
      "findfont: Generic family 'sans-serif' not found because none of the following families were found: CMU Sans Serif\n",
      "findfont: Generic family 'sans-serif' not found because none of the following families were found: CMU Sans Serif\n",
      "findfont: Generic family 'sans-serif' not found because none of the following families were found: CMU Sans Serif\n",
      "findfont: Generic family 'sans-serif' not found because none of the following families were found: CMU Sans Serif\n",
      "findfont: Generic family 'sans-serif' not found because none of the following families were found: CMU Sans Serif\n",
      "findfont: Generic family 'sans-serif' not found because none of the following families were found: CMU Sans Serif\n",
      "findfont: Generic family 'sans-serif' not found because none of the following families were found: CMU Sans Serif\n",
      "findfont: Generic family 'sans-serif' not found because none of the following families were found: CMU Sans Serif\n",
      "findfont: Generic family 'sans-serif' not found because none of the following families were found: CMU Sans Serif\n",
      "findfont: Generic family 'sans-serif' not found because none of the following families were found: CMU Sans Serif\n",
      "findfont: Generic family 'sans-serif' not found because none of the following families were found: CMU Sans Serif\n",
      "findfont: Generic family 'sans-serif' not found because none of the following families were found: CMU Sans Serif\n",
      "findfont: Generic family 'sans-serif' not found because none of the following families were found: CMU Sans Serif\n",
      "findfont: Generic family 'sans-serif' not found because none of the following families were found: CMU Sans Serif\n",
      "findfont: Generic family 'sans-serif' not found because none of the following families were found: CMU Sans Serif\n",
      "findfont: Generic family 'sans-serif' not found because none of the following families were found: CMU Sans Serif\n",
      "findfont: Generic family 'sans-serif' not found because none of the following families were found: CMU Sans Serif\n",
      "findfont: Generic family 'sans-serif' not found because none of the following families were found: CMU Sans Serif\n",
      "findfont: Generic family 'sans-serif' not found because none of the following families were found: CMU Sans Serif\n",
      "findfont: Generic family 'sans-serif' not found because none of the following families were found: CMU Sans Serif\n",
      "findfont: Generic family 'sans-serif' not found because none of the following families were found: CMU Sans Serif\n",
      "findfont: Generic family 'sans-serif' not found because none of the following families were found: CMU Sans Serif\n"
     ]
    },
    {
     "data": {
      "image/png": "[encoded data removed]",
      "text/plain": [
       "<Figure size 640x480 with 1 Axes>"
      ]
     },
     "metadata": {},
     "output_type": "display_data"
    }
   ],
   "source": [
    "from whisperweranalysis.plotting.line import plot_lines\n",
    "x_ticks = [0, 1000, 2500, 5000, 10000, 25000, 50000, 100000]\n",
    "x_tick_labels = ['0', '1k', '2.5k', '5k', '10k', '25k', '50k', '100k']\n",
    "y_ticks = [5, 10, 25, 50, 100]\n",
    "y_tick_labels = ['5', '10', '25', '50', '100']\n",
    "plot_colors = ['#d62728', '#0047AB','#9467bd', '#2ca02c', '#8b0000'] #, '#d62728', '#0047AB', '#2ca02c', ]\n",
    "line_format = ['-', '-', '-', '-', ':'] # '--', '--', '--']\n",
    "aspect_ratio = (2, 1)\n",
    "output_filename = 'asr_wer.pdf'\n",
    "plot_log_x = True\n",
    "plot_log_y = True\n",
    "xlim = (0, 100000)\n",
    "\n",
    "plot_lines([x], y_values, \n",
    "           x_label='Number of updates',\n",
    "           y_label='ASR WER (%)', \n",
    "           legend_label=legend_labels,\n",
    "           line_format=line_format,\n",
    "           plot_colors=plot_colors,\n",
    "           aspect_ratio=aspect_ratio,\n",
    "           x_ticks=x_ticks,\n",
    "           x_tick_labels=x_tick_labels,\n",
    "           y_ticks=y_ticks,\n",
    "           y_tick_labels=y_tick_labels,\n",
    "           file_name=output_filename,\n",
    "           plot_log_x=plot_log_x,\n",
    "           plot_log_y=plot_log_y,\n",
    "           xlim=xlim,\n",
    "           \n",
    ")"
   ]
  },
  {
   "cell_type": "code",
   "execution_count": 237,
   "metadata": {},
   "outputs": [],
   "source": [
    "# from whisperweranalysis.plotting.line import plot_lines\n",
    "# x_ticks = [0, 1000, 2500, 5000, 8000, 10000]\n",
    "# x_tick_labels = ['0', '1k', '2.5k', '5k', '8k', '10k']\n",
    "# y_ticks = [5, 10, 25, 50, 100]\n",
    "# y_tick_labels = ['5', '10', '25', '50', '100']\n",
    "# plot_colors = ['#d62728', '#0047AB', '#2ca02c', '#8b0000'] #, '#d62728', '#0047AB', '#2ca02c', ]\n",
    "# line_format = ['-', '-', '-', ':'] # '--', '--', '--']\n",
    "# aspect_ratio = (2, 1)\n",
    "# output_filename = 'asr_wer.pdf'\n",
    "# plot_log_x = True\n",
    "# plot_log_y = True\n",
    "# xlim = (0, 100000)\n",
    "\n",
    "# plot_lines([x_500], y_values_500, \n",
    "#            x_label='Number of updates',\n",
    "#            y_label='ASR WER (%)', \n",
    "#            legend_label=legend_labels_500,\n",
    "#            line_format=line_format,\n",
    "#            plot_colors=plot_colors,\n",
    "#            aspect_ratio=aspect_ratio,\n",
    "#            x_ticks=x_ticks,\n",
    "#            x_tick_labels=x_tick_labels,\n",
    "#            y_ticks=y_ticks,\n",
    "#            y_tick_labels=y_tick_labels,\n",
    "#            file_name=output_filename,\n",
    "#            plot_log_x=plot_log_x,\n",
    "#            plot_log_y=plot_log_y,\n",
    "#            xlim=xlim,\n",
    "           \n",
    "# )"
   ]
  },
  {
   "cell_type": "code",
   "execution_count": null,
   "metadata": {},
   "outputs": [],
   "source": []
  },
  {
   "cell_type": "code",
   "execution_count": null,
   "metadata": {},
   "outputs": [],
   "source": []
  }
 ],
 "metadata": {
  "kernelspec": {
   "display_name": "Python 3.9.13 ('whisper')",
   "language": "python",
   "name": "python3"
  },
  "language_info": {
   "codemirror_mode": {
    "name": "ipython",
    "version": 3
   },
   "file_extension": ".py",
   "mimetype": "text/x-python",
   "name": "python",
   "nbconvert_exporter": "python",
   "pygments_lexer": "ipython3",
   "version": "3.9.13"
  },
  "orig_nbformat": 4,
  "vscode": {
   "interpreter": {
    "hash": "5345d537206f398b8fc5eb7643a812daa51a248d7da41ce7a80c38f8bb268669"
   }
  }
 },
 "nbformat": 4,
 "nbformat_minor": 2
}
