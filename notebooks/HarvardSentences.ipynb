{
 "cells": [
  {
   "cell_type": "code",
   "execution_count": 58,
   "metadata": {},
   "outputs": [],
   "source": [
    "from whisperweranalysis.structure import HvdSet\n",
    "from whisperweranalysis.groundtruth import hvd_sentences\n",
    "from whisperweranalysis.utilities import get_statistics_of_wer, get_all_values\n",
    "import matplotlib.pyplot as plt\n",
    "import seaborn as sns\n",
    "import pandas as pd"
   ]
  },
  {
   "cell_type": "code",
   "execution_count": 59,
   "metadata": {},
   "outputs": [
    {
     "name": "stdout",
     "output_type": "stream",
     "text": [
      "The autoreload extension is already loaded. To reload it, use:\n",
      "  %reload_ext autoreload\n"
     ]
    }
   ],
   "source": [
    "%load_ext autoreload\n",
    "%autoreload 2"
   ]
  },
  {
   "cell_type": "code",
   "execution_count": 60,
   "metadata": {},
   "outputs": [],
   "source": [
    "hvd_set1 = HvdSet(1, hvd_sentences)"
   ]
  },
  {
   "cell_type": "code",
   "execution_count": 61,
   "metadata": {},
   "outputs": [
    {
     "name": "stderr",
     "output_type": "stream",
     "text": [
      "                                      \r"
     ]
    }
   ],
   "source": [
    "hvd_set1.compute_wer('/home/shivam/Projects/analysis-scripts/WhisperWERAnalysis/whisperweranalysis/transcription')"
   ]
  },
  {
   "cell_type": "code",
   "execution_count": 62,
   "metadata": {},
   "outputs": [
    {
     "name": "stderr",
     "output_type": "stream",
     "text": [
      "                                      \r"
     ]
    }
   ],
   "source": [
    "from whisperweranalysis.structure import MultipleSets\n",
    "hvd_sets = MultipleSets('/home/shivam/Projects/analysis-scripts/WhisperWERAnalysis/whisperweranalysis/transcription')"
   ]
  },
  {
   "cell_type": "code",
   "execution_count": 63,
   "metadata": {},
   "outputs": [
    {
     "data": {
      "text/plain": [
       "HvdSet(72, 711, 720)"
      ]
     },
     "execution_count": 63,
     "metadata": {},
     "output_type": "execute_result"
    }
   ],
   "source": [
    "hvd_sets[0]"
   ]
  },
  {
   "cell_type": "code",
   "execution_count": 64,
   "metadata": {},
   "outputs": [],
   "source": [
    "sets = [x[0] for x in hvd_sets.get_all_models_wer()['Glow'][:10]]"
   ]
  },
  {
   "cell_type": "code",
   "execution_count": 65,
   "metadata": {},
   "outputs": [],
   "source": [
    "glow_adv = [hvd_sets[x] for x in sets]"
   ]
  },
  {
   "cell_type": "code",
   "execution_count": 66,
   "metadata": {},
   "outputs": [
    {
     "data": {
      "text/plain": [
       "[HvdSet(5, 41, 50),\n",
       " HvdSet(25, 241, 250),\n",
       " HvdSet(26, 251, 260),\n",
       " HvdSet(31, 301, 310),\n",
       " HvdSet(39, 381, 390),\n",
       " HvdSet(50, 491, 500),\n",
       " HvdSet(51, 501, 510),\n",
       " HvdSet(53, 521, 530),\n",
       " HvdSet(55, 541, 550),\n",
       " HvdSet(67, 661, 670)]"
      ]
     },
     "execution_count": 66,
     "metadata": {},
     "output_type": "execute_result"
    }
   ],
   "source": [
    "glow_adv"
   ]
  },
  {
   "cell_type": "code",
   "execution_count": 67,
   "metadata": {},
   "outputs": [
    {
     "data": {
      "text/plain": [
       "(HvdSet(67, 661, 670),\n",
       " {'NH2': ['Hang tinsel from both branches.',\n",
       "   'Cap the jar with a tight brass cover.',\n",
       "   'The poor boy missed the boat again.',\n",
       "   'Be sure to set that lamp firmly in the hole.',\n",
       "   'pick a card and slip it under the pack.',\n",
       "   'Around Matt will cover the dull spot.',\n",
       "   'The first part of the plan needs changing.',\n",
       "   'A good book informs of what we ought to know.',\n",
       "   'The mail comes in three batches per day.',\n",
       "   'You cannot brew tea in a cold pot.'],\n",
       "  'NeuralFHMM_NS_150k': ['hang tinsel from both branches.',\n",
       "   'Cap the jar with a tight brass cover.',\n",
       "   'The poor boy missed the boat again.',\n",
       "   'Be sure to set that lamp firmly in the hole.',\n",
       "   'Pick a card and slip it under the pack.',\n",
       "   'A round mat will cover the dull spot.',\n",
       "   'the first part of the plan needs changing.',\n",
       "   'a good book informs of what we ought to know.',\n",
       "   'The mail comes in three batches per day.',\n",
       "   'You cannot brew tea in a cold pot.'],\n",
       "  'NeuralFHMM_ND_150k': ['hang tinsel from both branches.',\n",
       "   'Cap the jar with a tight brass cover.',\n",
       "   'The poor boy missed the boat again.',\n",
       "   'Be sure to set that lamp firmly in the hole.',\n",
       "   'Pick a card and slip it under the pack.',\n",
       "   'A round mat will cover the dull spot.',\n",
       "   'The first part of the plan needs changing.',\n",
       "   'A good book informs of what we ought to know.',\n",
       "   'The mail comes in three batches per day.',\n",
       "   'You cannot brew tea in a cold pot.'],\n",
       "  'GlowOur': ['hand tinsel from both branches.',\n",
       "   'Cap the jar with a tight brass cover.',\n",
       "   'The poor boy missed the boat again.',\n",
       "   'Be sure to set that line firmly in the hole.',\n",
       "   'Take a card and slip it under the pack.',\n",
       "   'Round Meph will cover the dull spot.',\n",
       "   'the first part of the plan needs changing.',\n",
       "   'A codebook informs of what we ought to know.',\n",
       "   'The mail comes in three batches per day.',\n",
       "   'You cannot brew tea in a cold pot.'],\n",
       "  'NeuralFHMM_NoDropout': ['Hang tinsel from both branches.',\n",
       "   'Cap the jar with a tight brass cover.',\n",
       "   'The poor boy missed the boat again.',\n",
       "   'Be sure to set that lamp firmly in the hole.',\n",
       "   'pick up card and slip it under the pack.',\n",
       "   \"A round mat will cover the doll's spot.\",\n",
       "   'The first part of the plan needs changing.',\n",
       "   'a good book informs of what we ought to know.',\n",
       "   'The mail comes in three batches per day.',\n",
       "   'You cannot brew tea in a cold pot.'],\n",
       "  'Tacotron2': ['Hank tinsel from both branches.',\n",
       "   'Cap the jar with a tight brass cover.',\n",
       "   'The poor boy missed the boat again.',\n",
       "   'Be sure to set that lamp firmly in the hole.',\n",
       "   'Pick a card and slip it under the pack.',\n",
       "   'A round mat will cover the dull spot.',\n",
       "   'the first part of the plan needs changing.',\n",
       "   'a good book informs of what we ought to know.',\n",
       "   'The mail comes in three batches per day.',\n",
       "   'You cannot brew tea in a cold pot.'],\n",
       "  'NeuralFHMM': ['and tinsel from both branches.',\n",
       "   'Cap the jar with a tight brass cover.',\n",
       "   'The poor boy missed the boat again.',\n",
       "   'be sure to set that lamp firmly in the hole.',\n",
       "   'Pick a card and slip it under the pack.',\n",
       "   'A round mat will cover the dull spot.',\n",
       "   'The first part of the plan needs changing.',\n",
       "   'good book informs of what we ought to know.',\n",
       "   'The mail comes in three batches per day.',\n",
       "   'you cannot brew tea in a cold pot.'],\n",
       "  'Glow1': ['hand tinsel from both branches.',\n",
       "   'Tap the jar with a tight brass cover.',\n",
       "   'The poor boy missed the boat again.',\n",
       "   'Be sure to set that lamp firmly in the hole.',\n",
       "   'Take a card and slip it under the pack.',\n",
       "   'All right, Matt will cover the Dell spot.',\n",
       "   'The first part of the plan needs changing.',\n",
       "   'of Ludboken forms of what we ought to know.',\n",
       "   'The mail comes in three bashes per day.',\n",
       "   'You cannot brew tea in a cold tub.'],\n",
       "  'NeuralFHMM_NoSampling': ['Hang tinsel from both branches.',\n",
       "   'Cap the jar with a tight brass cover.',\n",
       "   'The poor boy missed the boat again.',\n",
       "   'be sure to set that lamp firmly in the hole.',\n",
       "   'Pick a card and slip it under the pack.',\n",
       "   'A round mat will cover the dull spot.',\n",
       "   'The first part of the plan needs changing.',\n",
       "   'A good book informs of what we ought to know.',\n",
       "   'The mail comes in three batches per day.',\n",
       "   'You cannot brew tea in a cold pot.'],\n",
       "  'Glow': ['hang tinsel from both branches.',\n",
       "   'Cap the jar with a tight brass cover.',\n",
       "   'The poor boy missed the boat again.',\n",
       "   'Be sure to set that lamp firmly in the hole.',\n",
       "   'Pick a card and slip it under the pack.',\n",
       "   'A round mat will cover the dull spot.',\n",
       "   'the first part of the plan needs changing.',\n",
       "   'A good book informs of what we ought to know.',\n",
       "   'The mail comes in three batches per day.',\n",
       "   'You cannot brew tea in a cold pot.'],\n",
       "  'Tacotron2Our': ['hang tinsel from both branches.',\n",
       "   'Cat the jar with a tight brass cover.',\n",
       "   'The poor boy missed the boat again.',\n",
       "   'be sure to set that lamp firmly in the hole.',\n",
       "   'Kick the card and slip it under the pack.',\n",
       "   'Our round mat will cover the dull spot.',\n",
       "   'the first part of the plan needs changing.',\n",
       "   'A good book informs of what we ought to know.',\n",
       "   'The mail comes in three batches per day.',\n",
       "   'You cannot brew tea in a cold pot.'],\n",
       "  'NeuralFHMM100k': ['Hang tinsel from both branches.',\n",
       "   'Cap the jar with a tight brass cover.',\n",
       "   'The poor boy missed the boat again.',\n",
       "   'be sure to set that lamp firmly in the hole.',\n",
       "   'Take a card and slip it under the pack.',\n",
       "   'A round mat will cover the dull spot.',\n",
       "   'The first part of the plan needs changing.',\n",
       "   'A good book informs of what we ought to know.',\n",
       "   'The mail comes in three batches per day.',\n",
       "   'You cannot brew tea in a cold pot.']})"
      ]
     },
     "execution_count": 67,
     "metadata": {},
     "output_type": "execute_result"
    }
   ],
   "source": [
    "glow_adv[9], glow_adv[9].transcriptions"
   ]
  },
  {
   "cell_type": "code",
   "execution_count": 68,
   "metadata": {},
   "outputs": [],
   "source": [
    "from whisperweranalysis.utilities import get_all_values\n",
    "\n",
    "\n",
    "systems_glow_adv = get_all_values([hvd_sets[x] for x in sets])"
   ]
  },
  {
   "cell_type": "code",
   "execution_count": 69,
   "metadata": {},
   "outputs": [
    {
     "name": "stderr",
     "output_type": "stream",
     "text": [
      "/home/shivam/Projects/analysis-scripts/WhisperWERAnalysis/.venv/lib/python3.8/site-packages/seaborn/categorical.py:470: FutureWarning: iteritems is deprecated and will be removed in a future version. Use .items instead.\n",
      "  plot_data = [np.asarray(s, float) for k, s in iter_data]\n"
     ]
    },
    {
     "data": {
      "image/png": "[encoded data removed]",
      "text/plain": [
       "<Figure size 1500x1000 with 1 Axes>"
      ]
     },
     "metadata": {},
     "output_type": "display_data"
    }
   ],
   "source": [
    "\n",
    "\n",
    "df = pd.DataFrame.from_dict(systems_glow_adv)\n",
    "\n",
    "fig, ax = plt.subplots(figsize=(15, 10))\n",
    "ax.set_title('WER for top 10 glow tts sets')\n",
    "sns.boxplot(data=df, ax=ax)\n",
    "plt.show()"
   ]
  },
  {
   "cell_type": "code",
   "execution_count": 70,
   "metadata": {},
   "outputs": [],
   "source": [
    "top_10 = hvd_sets.get_top_n(10)"
   ]
  },
  {
   "cell_type": "code",
   "execution_count": null,
   "metadata": {},
   "outputs": [],
   "source": []
  },
  {
   "cell_type": "code",
   "execution_count": 71,
   "metadata": {},
   "outputs": [
    {
     "data": {
      "text/plain": [
       "[HvdSet(34, 331, 340),\n",
       " HvdSet(39, 381, 390),\n",
       " HvdSet(47, 461, 470),\n",
       " HvdSet(49, 481, 490),\n",
       " HvdSet(50, 491, 500),\n",
       " HvdSet(51, 501, 510),\n",
       " HvdSet(63, 621, 630),\n",
       " HvdSet(66, 651, 660),\n",
       " HvdSet(71, 701, 710),\n",
       " HvdSet(72, 711, 720)]"
      ]
     },
     "execution_count": 71,
     "metadata": {},
     "output_type": "execute_result"
    }
   ],
   "source": [
    "top_10"
   ]
  },
  {
   "cell_type": "code",
   "execution_count": 72,
   "metadata": {},
   "outputs": [
    {
     "data": {
      "text/plain": [
       "(HvdSet(50, 491, 500),\n",
       " {'NH2': ['a man in a blue sweater sat at the desk.',\n",
       "   'of Saurav food eaten by horse and men.',\n",
       "   'Their eyelids droop for want of sleep.',\n",
       "   'A sip of tea revives his tired friend.',\n",
       "   'There are many ways to do these things.',\n",
       "   'Tuck the sheet under the edge of the mat.',\n",
       "   'a force equal to that would move the earth.',\n",
       "   'We like to see clear weather.',\n",
       "   'The work of the tailor is seen on each side.',\n",
       "   'Take a chance and win a China doll.'],\n",
       "  'NeuralFHMM_NS_150k': ['A man in a blue sweater sat at the desk.',\n",
       "   'Oats are a food eaten by horse and man.',\n",
       "   'Their eyelids droop for want of sleep.',\n",
       "   'A sip of tea revives his tired friend.',\n",
       "   'There are many ways to do these things.',\n",
       "   'Tuck the sheet under the edge of the mat.',\n",
       "   'a force equal to that would move the earth.',\n",
       "   'We like to see clear weather.',\n",
       "   'The work of the tailor is seen on each side.',\n",
       "   'Take a chance and win a China doll.'],\n",
       "  'NeuralFHMM_ND_150k': ['A man in a blue sweater sat at the desk.',\n",
       "   'Oats are a food eaten by horse and man.',\n",
       "   'Their eyelids droop for want of sleep.',\n",
       "   'A sip of tea revives his tired friend.',\n",
       "   'There are many ways to do these things.',\n",
       "   'Tuck the sheet under the edge of the mat.',\n",
       "   'A force equal to that would move the earth.',\n",
       "   'We like to see clear whether',\n",
       "   'The work of the tailor is seen on each side.',\n",
       "   'Take a chance and win a China doll.'],\n",
       "  'GlowOur': ['A man in a blue sweater sat at the desk.',\n",
       "   'both serve food eaten by horse and man.',\n",
       "   'Their eyelids droop for want of sleep.',\n",
       "   'A sip of tea revives his tired friend.',\n",
       "   'There are many ways to do these things.',\n",
       "   'Tuck the sheet under the edge of the mat.',\n",
       "   'a force equal to that would move the earth.',\n",
       "   'We like to seek clear weather.',\n",
       "   'The work of the tailored is seen on each side.',\n",
       "   'Take a chance and win a giant doll.'],\n",
       "  'NeuralFHMM_NoDropout': ['A man in a blue sweater sat at the desk.',\n",
       "   'Oats are a food eaten by horse and man.',\n",
       "   'Their eyelids droop for want of sleep.',\n",
       "   'A sip of tea revives his tired friend.',\n",
       "   'There are many ways to do these things.',\n",
       "   'Tuck the sheet under the edge of the mat.',\n",
       "   'A force equal to that would move the Earth.',\n",
       "   'We like to see clear weather.',\n",
       "   'The work of the tailor is seen on each side.',\n",
       "   'Take a chance and win a China doll.'],\n",
       "  'Tacotron2': ['A man in a blue sweater sat at the desk.',\n",
       "   'Oats are a food eaten by horse and man.',\n",
       "   'Their eyelids droop for want of sleep.',\n",
       "   'A sip of tea revives his tired friend.',\n",
       "   'There are many ways to do these things.',\n",
       "   'Tuck the sheet under the edge of the mat.',\n",
       "   'A force equal to that would move the Earth.',\n",
       "   'We like to see clear weather.',\n",
       "   'The work of the tailor is seen on each side.',\n",
       "   'Take a chance and win a China doll.'],\n",
       "  'NeuralFHMM': ['A man in a blue sweater sat at the desk.',\n",
       "   'Oats are a food eaten by horse and man.',\n",
       "   'Their eyelids droop for want of sleep.',\n",
       "   'A sip of tea revives his tired friend.',\n",
       "   'There are many ways to do these things.',\n",
       "   'Tuck the sheet under the edge of the mat.',\n",
       "   'A force equal to that would move the earth.',\n",
       "   'We like to see clear weather.',\n",
       "   'The work of the tailor is seen on each side.',\n",
       "   'Take a chance and win a China doll.'],\n",
       "  'Glow1': ['a man in a blue sweater sat at the desk.',\n",
       "   \"or it's far food eaten by a horse and men.\",\n",
       "   'their eyelids droop for warmth of sleep.',\n",
       "   'A sip of tea revives his tired friend.',\n",
       "   'There are many ways to do these things.',\n",
       "   'Tuck the sheet under the edge of the mat.',\n",
       "   'a force equal to that would move the earth.',\n",
       "   'We like to see clear weather.',\n",
       "   'The work of the tailor is seen on each side.',\n",
       "   'Take a chance and win it brand all.'],\n",
       "  'NeuralFHMM_NoSampling': ['A man in a blue sweater sat at the desk.',\n",
       "   'Oats are a food eaten by horse and man.',\n",
       "   'Their eyelids droop for want of sleep.',\n",
       "   'A sip of tea revives his tired friend.',\n",
       "   'There are many ways to do these things.',\n",
       "   'Tuck the sheet under the edge of the mat.',\n",
       "   'A force equal to that would move the Earth.',\n",
       "   'We like to see clear weather.',\n",
       "   'The work of the tailor is seen on each side.',\n",
       "   'Take a chance and win a China doll.'],\n",
       "  'Glow': ['A man in a blue sweater sat at the desk.',\n",
       "   'Oats are a food eaten by horse and man.',\n",
       "   'Their eyelids droop for want of sleep.',\n",
       "   'A sip of tea revives his tired friend.',\n",
       "   'There are many ways to do these things.',\n",
       "   'Tuck the sheet under the edge of the mat.',\n",
       "   'a force equal to that would move the Earth.',\n",
       "   'We like to see clear weather.',\n",
       "   'The work of the tailor is seen on each side.',\n",
       "   'Take a chance and win a China doll.'],\n",
       "  'Tacotron2Our': ['A man in a blue sweater sat at the desk.',\n",
       "   'Lots are of food eaten by horse and man.',\n",
       "   'Their eyelids drooped for want of sleep.',\n",
       "   'A sip of tea revives his tired friend.',\n",
       "   'There are many ways to do these things.',\n",
       "   'Tuck the sheet under the edge of the mat.',\n",
       "   'A force equal to that would move the Earth.',\n",
       "   'We like to see clear weather.',\n",
       "   'The work of the tailor is seen on each side.',\n",
       "   'Take a chance and win a China doll.'],\n",
       "  'NeuralFHMM100k': ['A man in a blue sweater sat at the desk.',\n",
       "   'Oats are a food eaten by horse and man.',\n",
       "   'Their eyelids droop for want of sleep.',\n",
       "   'A sip of tea revives his tired friend.',\n",
       "   'There are many ways to do these things.',\n",
       "   'Tuck the sheet under the edge of the mat.',\n",
       "   'A force equal to that would move the earth.',\n",
       "   'We like to see clear weather.',\n",
       "   'the work of the tailor seen on each side.',\n",
       "   'Take a chance and win a China doll.']})"
      ]
     },
     "execution_count": 72,
     "metadata": {},
     "output_type": "execute_result"
    }
   ],
   "source": [
    "top_10[4], top_10[4].transcriptions"
   ]
  },
  {
   "cell_type": "code",
   "execution_count": 73,
   "metadata": {},
   "outputs": [
    {
     "data": {
      "text/plain": [
       "({'NH2': 5.732202532726272,\n",
       "  'NeuralFHMM_NS_150k': 3.234996782115126,\n",
       "  'NeuralFHMM_ND_150k': 4.312041533115923,\n",
       "  'GlowOur': 11.572721721339118,\n",
       "  'NeuralFHMM_NoDropout': 3.077164322760187,\n",
       "  'Tacotron2': 2.1838669295304816,\n",
       "  'NeuralFHMM': 3.651411874362311,\n",
       "  'Glow1': 9.747917656302901,\n",
       "  'NeuralFHMM_NoSampling': 2.21044557496172,\n",
       "  'Glow': 2.775639031486259,\n",
       "  'Tacotron2Our': 6.360939798900698,\n",
       "  'NeuralFHMM100k': 3.1270758821639393},\n",
       " {'NH2': 3.1291143771582135,\n",
       "  'NeuralFHMM_NS_150k': 2.417446492970459,\n",
       "  'NeuralFHMM_ND_150k': 2.843611738011418,\n",
       "  'GlowOur': 4.382714138472633,\n",
       "  'NeuralFHMM_NoDropout': 2.2665125871859613,\n",
       "  'Tacotron2': 2.101733245429217,\n",
       "  'NeuralFHMM': 2.566491022365719,\n",
       "  'Glow1': 4.155369188907029,\n",
       "  'NeuralFHMM_NoSampling': 1.8439383673575858,\n",
       "  'Glow': 2.2100981225706153,\n",
       "  'Tacotron2Our': 3.143415080361446,\n",
       "  'NeuralFHMM100k': 2.6930398165634304})"
      ]
     },
     "execution_count": 73,
     "metadata": {},
     "output_type": "execute_result"
    }
   ],
   "source": [
    "get_statistics_of_wer(hvd_sets)"
   ]
  },
  {
   "cell_type": "code",
   "execution_count": 77,
   "metadata": {},
   "outputs": [
    {
     "name": "stderr",
     "output_type": "stream",
     "text": [
      "/home/shivam/Projects/analysis-scripts/WhisperWERAnalysis/.venv/lib/python3.8/site-packages/seaborn/categorical.py:470: FutureWarning: iteritems is deprecated and will be removed in a future version. Use .items instead.\n",
      "  plot_data = [np.asarray(s, float) for k, s in iter_data]\n"
     ]
    },
    {
     "data": {
      "image/png": "[encoded data removed]",
      "text/plain": [
       "<Figure size 2000x1000 with 1 Axes>"
      ]
     },
     "metadata": {},
     "output_type": "display_data"
    },
    {
     "name": "stderr",
     "output_type": "stream",
     "text": [
      "/home/shivam/Projects/analysis-scripts/WhisperWERAnalysis/.venv/lib/python3.8/site-packages/seaborn/categorical.py:470: FutureWarning: iteritems is deprecated and will be removed in a future version. Use .items instead.\n",
      "  plot_data = [np.asarray(s, float) for k, s in iter_data]\n"
     ]
    },
    {
     "data": {
      "image/png": "[encoded data removed]",
      "text/plain": [
       "<Figure size 1600x1000 with 1 Axes>"
      ]
     },
     "metadata": {},
     "output_type": "display_data"
    }
   ],
   "source": [
    "all_wer = get_all_values(hvd_sets)\n",
    "df = pd.DataFrame.from_dict(all_wer)\n",
    "\n",
    "fig, ax = plt.subplots(figsize=(20, 10))\n",
    "ax.set_title('WER for all models all utterances')\n",
    "sns.boxplot(data=df, ax=ax)\n",
    "plt.show()\n",
    "\n",
    "\n",
    "\n",
    "\n",
    "top_10_wer = get_all_values(top_10)\n",
    "df = pd.DataFrame.from_dict(top_10_wer)\n",
    "\n",
    "fig, ax = plt.subplots(figsize=(16, 10))\n",
    "ax.set_title('WER for top 10 sets')\n",
    "sns.boxplot(data=df, ax=ax)\n",
    "plt.show()"
   ]
  },
  {
   "cell_type": "code",
   "execution_count": 75,
   "metadata": {},
   "outputs": [
    {
     "data": {
      "text/plain": [
       "({'NH2': 5.732202532726272,\n",
       "  'NeuralFHMM_NS_150k': 3.234996782115126,\n",
       "  'NeuralFHMM_ND_150k': 4.312041533115923,\n",
       "  'GlowOur': 11.572721721339118,\n",
       "  'NeuralFHMM_NoDropout': 3.077164322760187,\n",
       "  'Tacotron2': 2.1838669295304816,\n",
       "  'NeuralFHMM': 3.651411874362311,\n",
       "  'Glow1': 9.747917656302901,\n",
       "  'NeuralFHMM_NoSampling': 2.21044557496172,\n",
       "  'Glow': 2.775639031486259,\n",
       "  'Tacotron2Our': 6.360939798900698,\n",
       "  'NeuralFHMM100k': 3.1270758821639393},\n",
       " {'NH2': 3.1291143771582135,\n",
       "  'NeuralFHMM_NS_150k': 2.417446492970459,\n",
       "  'NeuralFHMM_ND_150k': 2.843611738011418,\n",
       "  'GlowOur': 4.382714138472633,\n",
       "  'NeuralFHMM_NoDropout': 2.2665125871859613,\n",
       "  'Tacotron2': 2.101733245429217,\n",
       "  'NeuralFHMM': 2.566491022365719,\n",
       "  'Glow1': 4.155369188907029,\n",
       "  'NeuralFHMM_NoSampling': 1.8439383673575858,\n",
       "  'Glow': 2.2100981225706153,\n",
       "  'Tacotron2Our': 3.143415080361446,\n",
       "  'NeuralFHMM100k': 2.6930398165634304})"
      ]
     },
     "execution_count": 75,
     "metadata": {},
     "output_type": "execute_result"
    }
   ],
   "source": [
    "get_statistics_of_wer(hvd_sets)"
   ]
  },
  {
   "cell_type": "code",
   "execution_count": 76,
   "metadata": {},
   "outputs": [
    {
     "data": {
      "text/plain": [
       "{'NH2': 'He sent the figs, but kept the ripe cherries.',\n",
       " 'NeuralFHMM_NS_150k': 'He sent the figs, but kept the ripe cherries.',\n",
       " 'NeuralFHMM_ND_150k': 'He sent the figs, but kept the ripe cherries.',\n",
       " 'GlowOur': 'He sent the fakes but kept the rot cherries.',\n",
       " 'NeuralFHMM_NoDropout': 'He sent the figs but kept the ripe cherries.',\n",
       " 'Tacotron2': 'He sent the figs, but kept the ripe cherries.',\n",
       " 'NeuralFHMM': 'He sent the figs, but kept the ripe cherries.',\n",
       " 'Glow1': 'He sent the fates, but kept the ripe cherries.',\n",
       " 'NeuralFHMM_NoSampling': 'He sent the figs but kept the ripe cherries.',\n",
       " 'Glow': 'He sent the fakes, but kept the right cherries.',\n",
       " 'Tacotron2Our': 'He sent the figs, but kept the ripe cherries.',\n",
       " 'NeuralFHMM100k': 'He sent the figs, but kept the ripe cherries.'}"
      ]
     },
     "execution_count": 76,
     "metadata": {},
     "output_type": "execute_result"
    }
   ],
   "source": [
    "{key: value[3] for key, value in top_10[2].transcriptions.items()}"
   ]
  },
  {
   "cell_type": "code",
   "execution_count": null,
   "metadata": {},
   "outputs": [],
   "source": []
  },
  {
   "cell_type": "code",
   "execution_count": null,
   "metadata": {},
   "outputs": [],
   "source": []
  }
 ],
 "metadata": {
  "kernelspec": {
   "display_name": "Python 3.8.8 ('.venv': poetry)",
   "language": "python",
   "name": "python3"
  },
  "language_info": {
   "codemirror_mode": {
    "name": "ipython",
    "version": 3
   },
   "file_extension": ".py",
   "mimetype": "text/x-python",
   "name": "python",
   "nbconvert_exporter": "python",
   "pygments_lexer": "ipython3",
   "version": "3.8.8"
  },
  "orig_nbformat": 4,
  "vscode": {
   "interpreter": {
    "hash": "663f8b94d84b05b04805c5e84edfa11dbd177fe68d21f1ae4c0e209f3b64fb5b"
   }
  }
 },
 "nbformat": 4,
 "nbformat_minor": 2
}
