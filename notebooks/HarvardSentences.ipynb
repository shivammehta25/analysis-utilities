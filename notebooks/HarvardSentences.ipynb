{
 "cells": [
  {
   "cell_type": "code",
   "execution_count": 25,
   "metadata": {},
   "outputs": [],
   "source": [
    "from whisperweranalysis.structure import HvdSet\n",
    "from whisperweranalysis.groundtruth import hvd_sentences\n",
    "from whisperweranalysis.utilities import get_statistics_of_wer, get_all_values\n",
    "import matplotlib.pyplot as plt\n",
    "import seaborn as sns\n",
    "import pandas as pd"
   ]
  },
  {
   "cell_type": "code",
   "execution_count": 26,
   "metadata": {},
   "outputs": [
    {
     "name": "stdout",
     "output_type": "stream",
     "text": [
      "The autoreload extension is already loaded. To reload it, use:\n",
      "  %reload_ext autoreload\n"
     ]
    }
   ],
   "source": [
    "%load_ext autoreload\n",
    "%autoreload 2"
   ]
  },
  {
   "cell_type": "code",
   "execution_count": 40,
   "metadata": {},
   "outputs": [
    {
     "data": {
      "application/vnd.jupyter.widget-view+json": {
       "model_id": "6dbfb9b6a0ef40608e55c03874b39c11",
       "version_major": 2,
       "version_minor": 0
      },
      "text/plain": [
       "  0%|          | 0/8 [00:00<?, ?it/s]"
      ]
     },
     "metadata": {},
     "output_type": "display_data"
    },
    {
     "data": {
      "application/vnd.jupyter.widget-view+json": {
       "model_id": "cb642159ee7145b8b1171c8e9606e7cc",
       "version_major": 2,
       "version_minor": 0
      },
      "text/plain": [
       "  0%|          | 0/8 [00:00<?, ?it/s]"
      ]
     },
     "metadata": {},
     "output_type": "display_data"
    },
    {
     "data": {
      "application/vnd.jupyter.widget-view+json": {
       "model_id": "e2bea50cb8f441d0a0a90858b7d35c85",
       "version_major": 2,
       "version_minor": 0
      },
      "text/plain": [
       "  0%|          | 0/8 [00:00<?, ?it/s]"
      ]
     },
     "metadata": {},
     "output_type": "display_data"
    },
    {
     "ename": "ValueError",
     "evalue": "number of ground truth inputs (10) and hypothesis inputs (7) must match.",
     "output_type": "error",
     "traceback": [
      "\u001b[0;31m---------------------------------------------------------------------------\u001b[0m",
      "\u001b[0;31mValueError\u001b[0m                                Traceback (most recent call last)",
      "Cell \u001b[0;32mIn [40], line 2\u001b[0m\n\u001b[1;32m      1\u001b[0m \u001b[39mfrom\u001b[39;00m \u001b[39mwhisperweranalysis\u001b[39;00m\u001b[39m.\u001b[39;00m\u001b[39mstructure\u001b[39;00m \u001b[39mimport\u001b[39;00m MultipleSets\n\u001b[0;32m----> 2\u001b[0m hvd_sets \u001b[39m=\u001b[39m MultipleSets(\u001b[39m'\u001b[39;49m\u001b[39m/home/smehta/Projects/whisper-analysis-plots/whisperweranalysis/transcription\u001b[39;49m\u001b[39m'\u001b[39;49m)\n",
      "File \u001b[0;32m~/Projects/whisper-analysis-plots/whisperweranalysis/structure.py:17\u001b[0m, in \u001b[0;36mMultipleSets.__init__\u001b[0;34m(self, transcription_loc, start, end)\u001b[0m\n\u001b[1;32m     15\u001b[0m \u001b[39mfor\u001b[39;00m set_no \u001b[39min\u001b[39;00m \u001b[39mrange\u001b[39m(start, end):\n\u001b[1;32m     16\u001b[0m     hvd_set \u001b[39m=\u001b[39m HvdSet(set_no, hvd_sentences)\n\u001b[0;32m---> 17\u001b[0m     hvd_set\u001b[39m.\u001b[39;49mcompute_wer(transcription_loc)\n\u001b[1;32m     18\u001b[0m     \u001b[39mself\u001b[39m\u001b[39m.\u001b[39mharvard_sets\u001b[39m.\u001b[39mappend(hvd_set)\n",
      "File \u001b[0;32m~/Projects/whisper-analysis-plots/whisperweranalysis/structure.py:105\u001b[0m, in \u001b[0;36mHvdSet.compute_wer\u001b[0;34m(self, dir)\u001b[0m\n\u001b[1;32m    103\u001b[0m \u001b[39mself\u001b[39m\u001b[39m.\u001b[39mget_text(\u001b[39mdir\u001b[39m)\n\u001b[1;32m    104\u001b[0m \u001b[39mfor\u001b[39;00m model, text \u001b[39min\u001b[39;00m \u001b[39mself\u001b[39m\u001b[39m.\u001b[39mtranscriptions\u001b[39m.\u001b[39mitems():\n\u001b[0;32m--> 105\u001b[0m         \u001b[39mself\u001b[39m\u001b[39m.\u001b[39mwer[model] \u001b[39m=\u001b[39m compute(\u001b[39mself\u001b[39;49m\u001b[39m.\u001b[39;49mground_truth, text)\n\u001b[1;32m    106\u001b[0m \u001b[39mself\u001b[39m\u001b[39m.\u001b[39mwer \u001b[39m=\u001b[39m \u001b[39mdict\u001b[39m(\u001b[39mself\u001b[39m\u001b[39m.\u001b[39mwer)\n",
      "File \u001b[0;32m~/Projects/whisper-analysis-plots/whisperweranalysis/wer.py:26\u001b[0m, in \u001b[0;36mcompute\u001b[0;34m(reference, hypothesis)\u001b[0m\n\u001b[1;32m     15\u001b[0m \u001b[39mdef\u001b[39;00m \u001b[39mcompute\u001b[39m(reference, hypothesis):\n\u001b[1;32m     16\u001b[0m     \u001b[39m\"\"\"\u001b[39;00m\n\u001b[1;32m     17\u001b[0m \u001b[39m    Calculates the Word Error Rate (WER) between two lists of transcriptions\u001b[39;00m\n\u001b[1;32m     18\u001b[0m \n\u001b[0;32m   (...)\u001b[0m\n\u001b[1;32m     24\u001b[0m \u001b[39m        float: WER between transcriptions and references\u001b[39;00m\n\u001b[1;32m     25\u001b[0m \u001b[39m    \"\"\"\u001b[39;00m\n\u001b[0;32m---> 26\u001b[0m     \u001b[39mreturn\u001b[39;00m jiwer\u001b[39m.\u001b[39;49mwer(reference, hypothesis, truth_transform\u001b[39m=\u001b[39;49mnormalising_transformation,\n\u001b[1;32m     27\u001b[0m                    hypothesis_transform\u001b[39m=\u001b[39;49mnormalising_transformation) \u001b[39m*\u001b[39m \u001b[39m100\u001b[39m\n",
      "File \u001b[0;32m~/anaconda3/envs/whisper/lib/python3.9/site-packages/jiwer/measures.py:71\u001b[0m, in \u001b[0;36mwer\u001b[0;34m(truth, hypothesis, truth_transform, hypothesis_transform)\u001b[0m\n\u001b[1;32m     57\u001b[0m \u001b[39mdef\u001b[39;00m \u001b[39mwer\u001b[39m(\n\u001b[1;32m     58\u001b[0m     truth: Union[\u001b[39mstr\u001b[39m, List[\u001b[39mstr\u001b[39m]],\n\u001b[1;32m     59\u001b[0m     hypothesis: Union[\u001b[39mstr\u001b[39m, List[\u001b[39mstr\u001b[39m]],\n\u001b[1;32m     60\u001b[0m     truth_transform: Union[tr\u001b[39m.\u001b[39mCompose, tr\u001b[39m.\u001b[39mAbstractTransform] \u001b[39m=\u001b[39m wer_default,\n\u001b[1;32m     61\u001b[0m     hypothesis_transform: Union[tr\u001b[39m.\u001b[39mCompose, tr\u001b[39m.\u001b[39mAbstractTransform] \u001b[39m=\u001b[39m wer_default,\n\u001b[1;32m     62\u001b[0m ) \u001b[39m-\u001b[39m\u001b[39m>\u001b[39m \u001b[39mfloat\u001b[39m:\n\u001b[1;32m     63\u001b[0m     \u001b[39m\"\"\"\u001b[39;00m\n\u001b[1;32m     64\u001b[0m \u001b[39m    Calculate word error rate (WER) between a set of ground-truth sentences and\u001b[39;00m\n\u001b[1;32m     65\u001b[0m \u001b[39m    a set of hypothesis sentences.\u001b[39;00m\n\u001b[0;32m   (...)\u001b[0m\n\u001b[1;32m     69\u001b[0m \u001b[39m    :return: WER as a floating point number\u001b[39;00m\n\u001b[1;32m     70\u001b[0m \u001b[39m    \"\"\"\u001b[39;00m\n\u001b[0;32m---> 71\u001b[0m     measures \u001b[39m=\u001b[39m compute_measures(\n\u001b[1;32m     72\u001b[0m         truth, hypothesis, truth_transform, hypothesis_transform\n\u001b[1;32m     73\u001b[0m     )\n\u001b[1;32m     74\u001b[0m     \u001b[39mreturn\u001b[39;00m measures[\u001b[39m\"\u001b[39m\u001b[39mwer\u001b[39m\u001b[39m\"\u001b[39m]\n",
      "File \u001b[0;32m~/anaconda3/envs/whisper/lib/python3.9/site-packages/jiwer/measures.py:182\u001b[0m, in \u001b[0;36mcompute_measures\u001b[0;34m(truth, hypothesis, truth_transform, hypothesis_transform)\u001b[0m\n\u001b[1;32m    179\u001b[0m     \u001b[39mraise\u001b[39;00m \u001b[39mValueError\u001b[39;00m(\u001b[39m\"\u001b[39m\u001b[39mone or more groundtruths are empty strings\u001b[39m\u001b[39m\"\u001b[39m)\n\u001b[1;32m    181\u001b[0m \u001b[39m# Preprocess truth and hypothesis\u001b[39;00m\n\u001b[0;32m--> 182\u001b[0m truth, hypothesis \u001b[39m=\u001b[39m _preprocess(\n\u001b[1;32m    183\u001b[0m     truth, hypothesis, truth_transform, hypothesis_transform\n\u001b[1;32m    184\u001b[0m )\n\u001b[1;32m    186\u001b[0m \u001b[39m# keep track of total hits, substitutions, deletions and insertions\u001b[39;00m\n\u001b[1;32m    187\u001b[0m \u001b[39m# across all input sentences\u001b[39;00m\n\u001b[1;32m    188\u001b[0m H, S, D, I \u001b[39m=\u001b[39m \u001b[39m0\u001b[39m, \u001b[39m0\u001b[39m, \u001b[39m0\u001b[39m, \u001b[39m0\u001b[39m\n",
      "File \u001b[0;32m~/anaconda3/envs/whisper/lib/python3.9/site-packages/jiwer/measures.py:300\u001b[0m, in \u001b[0;36m_preprocess\u001b[0;34m(truth, hypothesis, truth_transform, hypothesis_transform)\u001b[0m\n\u001b[1;32m    297\u001b[0m \u001b[39m# raise an error if the ground truth is empty or the output\u001b[39;00m\n\u001b[1;32m    298\u001b[0m \u001b[39m# is not a list of list of strings\u001b[39;00m\n\u001b[1;32m    299\u001b[0m \u001b[39mif\u001b[39;00m \u001b[39mlen\u001b[39m(transformed_truth) \u001b[39m!=\u001b[39m \u001b[39mlen\u001b[39m(transformed_hypothesis):\n\u001b[0;32m--> 300\u001b[0m     \u001b[39mraise\u001b[39;00m \u001b[39mValueError\u001b[39;00m(\n\u001b[1;32m    301\u001b[0m         \u001b[39m\"\u001b[39m\u001b[39mnumber of ground truth inputs (\u001b[39m\u001b[39m{}\u001b[39;00m\u001b[39m) and hypothesis inputs (\u001b[39m\u001b[39m{}\u001b[39;00m\u001b[39m) must match.\u001b[39m\u001b[39m\"\u001b[39m\u001b[39m.\u001b[39mformat(\n\u001b[1;32m    302\u001b[0m             \u001b[39mlen\u001b[39m(transformed_truth), \u001b[39mlen\u001b[39m(transformed_hypothesis)\n\u001b[1;32m    303\u001b[0m         )\n\u001b[1;32m    304\u001b[0m     )\n\u001b[1;32m    305\u001b[0m \u001b[39mif\u001b[39;00m \u001b[39mnot\u001b[39;00m _is_list_of_list_of_strings(transformed_truth, require_non_empty_lists\u001b[39m=\u001b[39m\u001b[39mTrue\u001b[39;00m):\n\u001b[1;32m    306\u001b[0m     \u001b[39mraise\u001b[39;00m \u001b[39mValueError\u001b[39;00m(\n\u001b[1;32m    307\u001b[0m         \u001b[39m\"\u001b[39m\u001b[39mtruth should be a list of list of strings after transform which are non-empty\u001b[39m\u001b[39m\"\u001b[39m\n\u001b[1;32m    308\u001b[0m     )\n",
      "\u001b[0;31mValueError\u001b[0m: number of ground truth inputs (10) and hypothesis inputs (7) must match."
     ]
    }
   ],
   "source": [
    "from whisperweranalysis.structure import MultipleSets\n",
    "hvd_sets = MultipleSets('/home/smehta/Projects/whisper-analysis-plots/whisperweranalysis/transcription')"
   ]
  },
  {
   "cell_type": "code",
   "execution_count": 14,
   "metadata": {},
   "outputs": [
    {
     "data": {
      "text/plain": [
       "HvdSet(72, 711, 720)"
      ]
     },
     "execution_count": 14,
     "metadata": {},
     "output_type": "execute_result"
    }
   ],
   "source": [
    "hvd_sets[0]"
   ]
  },
  {
   "cell_type": "code",
   "execution_count": 64,
   "metadata": {},
   "outputs": [],
   "source": [
    "sets = [x[0] for x in hvd_sets.get_all_models_wer()['Glow'][:10]]"
   ]
  },
  {
   "cell_type": "code",
   "execution_count": 65,
   "metadata": {},
   "outputs": [],
   "source": [
    "glow_adv = [hvd_sets[x] for x in sets]"
   ]
  },
  {
   "cell_type": "code",
   "execution_count": 66,
   "metadata": {},
   "outputs": [
    {
     "data": {
      "text/plain": [
       "[HvdSet(5, 41, 50),\n",
       " HvdSet(25, 241, 250),\n",
       " HvdSet(26, 251, 260),\n",
       " HvdSet(31, 301, 310),\n",
       " HvdSet(39, 381, 390),\n",
       " HvdSet(50, 491, 500),\n",
       " HvdSet(51, 501, 510),\n",
       " HvdSet(53, 521, 530),\n",
       " HvdSet(55, 541, 550),\n",
       " HvdSet(67, 661, 670)]"
      ]
     },
     "execution_count": 66,
     "metadata": {},
     "output_type": "execute_result"
    }
   ],
   "source": [
    "glow_adv"
   ]
  },
  {
   "cell_type": "code",
   "execution_count": 67,
   "metadata": {},
   "outputs": [
    {
     "data": {
      "text/plain": [
       "(HvdSet(67, 661, 670),\n",
       " {'NH2': ['Hang tinsel from both branches.',\n",
       "   'Cap the jar with a tight brass cover.',\n",
       "   'The poor boy missed the boat again.',\n",
       "   'Be sure to set that lamp firmly in the hole.',\n",
       "   'pick a card and slip it under the pack.',\n",
       "   'Around Matt will cover the dull spot.',\n",
       "   'The first part of the plan needs changing.',\n",
       "   'A good book informs of what we ought to know.',\n",
       "   'The mail comes in three batches per day.',\n",
       "   'You cannot brew tea in a cold pot.'],\n",
       "  'NeuralFHMM_NS_150k': ['hang tinsel from both branches.',\n",
       "   'Cap the jar with a tight brass cover.',\n",
       "   'The poor boy missed the boat again.',\n",
       "   'Be sure to set that lamp firmly in the hole.',\n",
       "   'Pick a card and slip it under the pack.',\n",
       "   'A round mat will cover the dull spot.',\n",
       "   'the first part of the plan needs changing.',\n",
       "   'a good book informs of what we ought to know.',\n",
       "   'The mail comes in three batches per day.',\n",
       "   'You cannot brew tea in a cold pot.'],\n",
       "  'NeuralFHMM_ND_150k': ['hang tinsel from both branches.',\n",
       "   'Cap the jar with a tight brass cover.',\n",
       "   'The poor boy missed the boat again.',\n",
       "   'Be sure to set that lamp firmly in the hole.',\n",
       "   'Pick a card and slip it under the pack.',\n",
       "   'A round mat will cover the dull spot.',\n",
       "   'The first part of the plan needs changing.',\n",
       "   'A good book informs of what we ought to know.',\n",
       "   'The mail comes in three batches per day.',\n",
       "   'You cannot brew tea in a cold pot.'],\n",
       "  'GlowOur': ['hand tinsel from both branches.',\n",
       "   'Cap the jar with a tight brass cover.',\n",
       "   'The poor boy missed the boat again.',\n",
       "   'Be sure to set that line firmly in the hole.',\n",
       "   'Take a card and slip it under the pack.',\n",
       "   'Round Meph will cover the dull spot.',\n",
       "   'the first part of the plan needs changing.',\n",
       "   'A codebook informs of what we ought to know.',\n",
       "   'The mail comes in three batches per day.',\n",
       "   'You cannot brew tea in a cold pot.'],\n",
       "  'NeuralFHMM_NoDropout': ['Hang tinsel from both branches.',\n",
       "   'Cap the jar with a tight brass cover.',\n",
       "   'The poor boy missed the boat again.',\n",
       "   'Be sure to set that lamp firmly in the hole.',\n",
       "   'pick up card and slip it under the pack.',\n",
       "   \"A round mat will cover the doll's spot.\",\n",
       "   'The first part of the plan needs changing.',\n",
       "   'a good book informs of what we ought to know.',\n",
       "   'The mail comes in three batches per day.',\n",
       "   'You cannot brew tea in a cold pot.'],\n",
       "  'Tacotron2': ['Hank tinsel from both branches.',\n",
       "   'Cap the jar with a tight brass cover.',\n",
       "   'The poor boy missed the boat again.',\n",
       "   'Be sure to set that lamp firmly in the hole.',\n",
       "   'Pick a card and slip it under the pack.',\n",
       "   'A round mat will cover the dull spot.',\n",
       "   'the first part of the plan needs changing.',\n",
       "   'a good book informs of what we ought to know.',\n",
       "   'The mail comes in three batches per day.',\n",
       "   'You cannot brew tea in a cold pot.'],\n",
       "  'NeuralFHMM': ['and tinsel from both branches.',\n",
       "   'Cap the jar with a tight brass cover.',\n",
       "   'The poor boy missed the boat again.',\n",
       "   'be sure to set that lamp firmly in the hole.',\n",
       "   'Pick a card and slip it under the pack.',\n",
       "   'A round mat will cover the dull spot.',\n",
       "   'The first part of the plan needs changing.',\n",
       "   'good book informs of what we ought to know.',\n",
       "   'The mail comes in three batches per day.',\n",
       "   'you cannot brew tea in a cold pot.'],\n",
       "  'Glow1': ['hand tinsel from both branches.',\n",
       "   'Tap the jar with a tight brass cover.',\n",
       "   'The poor boy missed the boat again.',\n",
       "   'Be sure to set that lamp firmly in the hole.',\n",
       "   'Take a card and slip it under the pack.',\n",
       "   'All right, Matt will cover the Dell spot.',\n",
       "   'The first part of the plan needs changing.',\n",
       "   'of Ludboken forms of what we ought to know.',\n",
       "   'The mail comes in three bashes per day.',\n",
       "   'You cannot brew tea in a cold tub.'],\n",
       "  'NeuralFHMM_NoSampling': ['Hang tinsel from both branches.',\n",
       "   'Cap the jar with a tight brass cover.',\n",
       "   'The poor boy missed the boat again.',\n",
       "   'be sure to set that lamp firmly in the hole.',\n",
       "   'Pick a card and slip it under the pack.',\n",
       "   'A round mat will cover the dull spot.',\n",
       "   'The first part of the plan needs changing.',\n",
       "   'A good book informs of what we ought to know.',\n",
       "   'The mail comes in three batches per day.',\n",
       "   'You cannot brew tea in a cold pot.'],\n",
       "  'Glow': ['hang tinsel from both branches.',\n",
       "   'Cap the jar with a tight brass cover.',\n",
       "   'The poor boy missed the boat again.',\n",
       "   'Be sure to set that lamp firmly in the hole.',\n",
       "   'Pick a card and slip it under the pack.',\n",
       "   'A round mat will cover the dull spot.',\n",
       "   'the first part of the plan needs changing.',\n",
       "   'A good book informs of what we ought to know.',\n",
       "   'The mail comes in three batches per day.',\n",
       "   'You cannot brew tea in a cold pot.'],\n",
       "  'Tacotron2Our': ['hang tinsel from both branches.',\n",
       "   'Cat the jar with a tight brass cover.',\n",
       "   'The poor boy missed the boat again.',\n",
       "   'be sure to set that lamp firmly in the hole.',\n",
       "   'Kick the card and slip it under the pack.',\n",
       "   'Our round mat will cover the dull spot.',\n",
       "   'the first part of the plan needs changing.',\n",
       "   'A good book informs of what we ought to know.',\n",
       "   'The mail comes in three batches per day.',\n",
       "   'You cannot brew tea in a cold pot.'],\n",
       "  'NeuralFHMM100k': ['Hang tinsel from both branches.',\n",
       "   'Cap the jar with a tight brass cover.',\n",
       "   'The poor boy missed the boat again.',\n",
       "   'be sure to set that lamp firmly in the hole.',\n",
       "   'Take a card and slip it under the pack.',\n",
       "   'A round mat will cover the dull spot.',\n",
       "   'The first part of the plan needs changing.',\n",
       "   'A good book informs of what we ought to know.',\n",
       "   'The mail comes in three batches per day.',\n",
       "   'You cannot brew tea in a cold pot.']})"
      ]
     },
     "execution_count": 67,
     "metadata": {},
     "output_type": "execute_result"
    }
   ],
   "source": [
    "glow_adv[9], glow_adv[9].transcriptions"
   ]
  },
  {
   "cell_type": "code",
   "execution_count": 15,
   "metadata": {},
   "outputs": [
    {
     "ename": "NameError",
     "evalue": "name 'sets' is not defined",
     "output_type": "error",
     "traceback": [
      "\u001b[0;31m---------------------------------------------------------------------------\u001b[0m",
      "\u001b[0;31mNameError\u001b[0m                                 Traceback (most recent call last)",
      "Cell \u001b[0;32mIn [15], line 4\u001b[0m\n\u001b[1;32m      1\u001b[0m \u001b[39mfrom\u001b[39;00m \u001b[39mwhisperweranalysis\u001b[39;00m\u001b[39m.\u001b[39;00m\u001b[39mutilities\u001b[39;00m \u001b[39mimport\u001b[39;00m get_all_values\n\u001b[0;32m----> 4\u001b[0m systems_glow_adv \u001b[39m=\u001b[39m get_all_values([hvd_sets[x] \u001b[39mfor\u001b[39;00m x \u001b[39min\u001b[39;00m sets])\n",
      "\u001b[0;31mNameError\u001b[0m: name 'sets' is not defined"
     ]
    }
   ],
   "source": [
    "from whisperweranalysis.utilities import get_all_values\n",
    "\n",
    "\n",
    "systems_glow_adv = get_all_values([hvd_sets[x] for x in sets])"
   ]
  },
  {
   "cell_type": "code",
   "execution_count": 69,
   "metadata": {},
   "outputs": [
    {
     "name": "stderr",
     "output_type": "stream",
     "text": [
      "/home/shivam/Projects/analysis-scripts/WhisperWERAnalysis/.venv/lib/python3.8/site-packages/seaborn/categorical.py:470: FutureWarning: iteritems is deprecated and will be removed in a future version. Use .items instead.\n",
      "  plot_data = [np.asarray(s, float) for k, s in iter_data]\n"
     ]
    },
    {
     "data": {
      "image/png": "[encoded data removed]",
      "text/plain": [
       "<Figure size 1500x1000 with 1 Axes>"
      ]
     },
     "metadata": {},
     "output_type": "display_data"
    }
   ],
   "source": [
    "\n",
    "\n",
    "df = pd.DataFrame.from_dict(systems_glow_adv)\n",
    "\n",
    "fig, ax = plt.subplots(figsize=(15, 10))\n",
    "ax.set_title('WER for top 10 glow tts sets')\n",
    "sns.boxplot(data=df, ax=ax)\n",
    "plt.show()"
   ]
  },
  {
   "cell_type": "code",
   "execution_count": 70,
   "metadata": {},
   "outputs": [],
   "source": [
    "top_10 = hvd_sets.get_top_n(10)"
   ]
  },
  {
   "cell_type": "code",
   "execution_count": null,
   "metadata": {},
   "outputs": [],
   "source": []
  },
  {
   "cell_type": "code",
   "execution_count": 71,
   "metadata": {},
   "outputs": [
    {
     "data": {
      "text/plain": [
       "[HvdSet(34, 331, 340),\n",
       " HvdSet(39, 381, 390),\n",
       " HvdSet(47, 461, 470),\n",
       " HvdSet(49, 481, 490),\n",
       " HvdSet(50, 491, 500),\n",
       " HvdSet(51, 501, 510),\n",
       " HvdSet(63, 621, 630),\n",
       " HvdSet(66, 651, 660),\n",
       " HvdSet(71, 701, 710),\n",
       " HvdSet(72, 711, 720)]"
      ]
     },
     "execution_count": 71,
     "metadata": {},
     "output_type": "execute_result"
    }
   ],
   "source": [
    "top_10"
   ]
  },
  {
   "cell_type": "code",
   "execution_count": 72,
   "metadata": {},
   "outputs": [
    {
     "data": {
      "text/plain": [
       "(HvdSet(50, 491, 500),\n",
       " {'NH2': ['a man in a blue sweater sat at the desk.',\n",
       "   'of Saurav food eaten by horse and men.',\n",
       "   'Their eyelids droop for want of sleep.',\n",
       "   'A sip of tea revives his tired friend.',\n",
       "   'There are many ways to do these things.',\n",
       "   'Tuck the sheet under the edge of the mat.',\n",
       "   'a force equal to that would move the earth.',\n",
       "   'We like to see clear weather.',\n",
       "   'The work of the tailor is seen on each side.',\n",
       "   'Take a chance and win a China doll.'],\n",
       "  'NeuralFHMM_NS_150k': ['A man in a blue sweater sat at the desk.',\n",
       "   'Oats are a food eaten by horse and man.',\n",
       "   'Their eyelids droop for want of sleep.',\n",
       "   'A sip of tea revives his tired friend.',\n",
       "   'There are many ways to do these things.',\n",
       "   'Tuck the sheet under the edge of the mat.',\n",
       "   'a force equal to that would move the earth.',\n",
       "   'We like to see clear weather.',\n",
       "   'The work of the tailor is seen on each side.',\n",
       "   'Take a chance and win a China doll.'],\n",
       "  'NeuralFHMM_ND_150k': ['A man in a blue sweater sat at the desk.',\n",
       "   'Oats are a food eaten by horse and man.',\n",
       "   'Their eyelids droop for want of sleep.',\n",
       "   'A sip of tea revives his tired friend.',\n",
       "   'There are many ways to do these things.',\n",
       "   'Tuck the sheet under the edge of the mat.',\n",
       "   'A force equal to that would move the earth.',\n",
       "   'We like to see clear whether',\n",
       "   'The work of the tailor is seen on each side.',\n",
       "   'Take a chance and win a China doll.'],\n",
       "  'GlowOur': ['A man in a blue sweater sat at the desk.',\n",
       "   'both serve food eaten by horse and man.',\n",
       "   'Their eyelids droop for want of sleep.',\n",
       "   'A sip of tea revives his tired friend.',\n",
       "   'There are many ways to do these things.',\n",
       "   'Tuck the sheet under the edge of the mat.',\n",
       "   'a force equal to that would move the earth.',\n",
       "   'We like to seek clear weather.',\n",
       "   'The work of the tailored is seen on each side.',\n",
       "   'Take a chance and win a giant doll.'],\n",
       "  'NeuralFHMM_NoDropout': ['A man in a blue sweater sat at the desk.',\n",
       "   'Oats are a food eaten by horse and man.',\n",
       "   'Their eyelids droop for want of sleep.',\n",
       "   'A sip of tea revives his tired friend.',\n",
       "   'There are many ways to do these things.',\n",
       "   'Tuck the sheet under the edge of the mat.',\n",
       "   'A force equal to that would move the Earth.',\n",
       "   'We like to see clear weather.',\n",
       "   'The work of the tailor is seen on each side.',\n",
       "   'Take a chance and win a China doll.'],\n",
       "  'Tacotron2': ['A man in a blue sweater sat at the desk.',\n",
       "   'Oats are a food eaten by horse and man.',\n",
       "   'Their eyelids droop for want of sleep.',\n",
       "   'A sip of tea revives his tired friend.',\n",
       "   'There are many ways to do these things.',\n",
       "   'Tuck the sheet under the edge of the mat.',\n",
       "   'A force equal to that would move the Earth.',\n",
       "   'We like to see clear weather.',\n",
       "   'The work of the tailor is seen on each side.',\n",
       "   'Take a chance and win a China doll.'],\n",
       "  'NeuralFHMM': ['A man in a blue sweater sat at the desk.',\n",
       "   'Oats are a food eaten by horse and man.',\n",
       "   'Their eyelids droop for want of sleep.',\n",
       "   'A sip of tea revives his tired friend.',\n",
       "   'There are many ways to do these things.',\n",
       "   'Tuck the sheet under the edge of the mat.',\n",
       "   'A force equal to that would move the earth.',\n",
       "   'We like to see clear weather.',\n",
       "   'The work of the tailor is seen on each side.',\n",
       "   'Take a chance and win a China doll.'],\n",
       "  'Glow1': ['a man in a blue sweater sat at the desk.',\n",
       "   \"or it's far food eaten by a horse and men.\",\n",
       "   'their eyelids droop for warmth of sleep.',\n",
       "   'A sip of tea revives his tired friend.',\n",
       "   'There are many ways to do these things.',\n",
       "   'Tuck the sheet under the edge of the mat.',\n",
       "   'a force equal to that would move the earth.',\n",
       "   'We like to see clear weather.',\n",
       "   'The work of the tailor is seen on each side.',\n",
       "   'Take a chance and win it brand all.'],\n",
       "  'NeuralFHMM_NoSampling': ['A man in a blue sweater sat at the desk.',\n",
       "   'Oats are a food eaten by horse and man.',\n",
       "   'Their eyelids droop for want of sleep.',\n",
       "   'A sip of tea revives his tired friend.',\n",
       "   'There are many ways to do these things.',\n",
       "   'Tuck the sheet under the edge of the mat.',\n",
       "   'A force equal to that would move the Earth.',\n",
       "   'We like to see clear weather.',\n",
       "   'The work of the tailor is seen on each side.',\n",
       "   'Take a chance and win a China doll.'],\n",
       "  'Glow': ['A man in a blue sweater sat at the desk.',\n",
       "   'Oats are a food eaten by horse and man.',\n",
       "   'Their eyelids droop for want of sleep.',\n",
       "   'A sip of tea revives his tired friend.',\n",
       "   'There are many ways to do these things.',\n",
       "   'Tuck the sheet under the edge of the mat.',\n",
       "   'a force equal to that would move the Earth.',\n",
       "   'We like to see clear weather.',\n",
       "   'The work of the tailor is seen on each side.',\n",
       "   'Take a chance and win a China doll.'],\n",
       "  'Tacotron2Our': ['A man in a blue sweater sat at the desk.',\n",
       "   'Lots are of food eaten by horse and man.',\n",
       "   'Their eyelids drooped for want of sleep.',\n",
       "   'A sip of tea revives his tired friend.',\n",
       "   'There are many ways to do these things.',\n",
       "   'Tuck the sheet under the edge of the mat.',\n",
       "   'A force equal to that would move the Earth.',\n",
       "   'We like to see clear weather.',\n",
       "   'The work of the tailor is seen on each side.',\n",
       "   'Take a chance and win a China doll.'],\n",
       "  'NeuralFHMM100k': ['A man in a blue sweater sat at the desk.',\n",
       "   'Oats are a food eaten by horse and man.',\n",
       "   'Their eyelids droop for want of sleep.',\n",
       "   'A sip of tea revives his tired friend.',\n",
       "   'There are many ways to do these things.',\n",
       "   'Tuck the sheet under the edge of the mat.',\n",
       "   'A force equal to that would move the earth.',\n",
       "   'We like to see clear weather.',\n",
       "   'the work of the tailor seen on each side.',\n",
       "   'Take a chance and win a China doll.']})"
      ]
     },
     "execution_count": 72,
     "metadata": {},
     "output_type": "execute_result"
    }
   ],
   "source": [
    "top_10[4], top_10[4].transcriptions"
   ]
  },
  {
   "cell_type": "code",
   "execution_count": 73,
   "metadata": {},
   "outputs": [
    {
     "data": {
      "text/plain": [
       "({'NH2': 5.732202532726272,\n",
       "  'NeuralFHMM_NS_150k': 3.234996782115126,\n",
       "  'NeuralFHMM_ND_150k': 4.312041533115923,\n",
       "  'GlowOur': 11.572721721339118,\n",
       "  'NeuralFHMM_NoDropout': 3.077164322760187,\n",
       "  'Tacotron2': 2.1838669295304816,\n",
       "  'NeuralFHMM': 3.651411874362311,\n",
       "  'Glow1': 9.747917656302901,\n",
       "  'NeuralFHMM_NoSampling': 2.21044557496172,\n",
       "  'Glow': 2.775639031486259,\n",
       "  'Tacotron2Our': 6.360939798900698,\n",
       "  'NeuralFHMM100k': 3.1270758821639393},\n",
       " {'NH2': 3.1291143771582135,\n",
       "  'NeuralFHMM_NS_150k': 2.417446492970459,\n",
       "  'NeuralFHMM_ND_150k': 2.843611738011418,\n",
       "  'GlowOur': 4.382714138472633,\n",
       "  'NeuralFHMM_NoDropout': 2.2665125871859613,\n",
       "  'Tacotron2': 2.101733245429217,\n",
       "  'NeuralFHMM': 2.566491022365719,\n",
       "  'Glow1': 4.155369188907029,\n",
       "  'NeuralFHMM_NoSampling': 1.8439383673575858,\n",
       "  'Glow': 2.2100981225706153,\n",
       "  'Tacotron2Our': 3.143415080361446,\n",
       "  'NeuralFHMM100k': 2.6930398165634304})"
      ]
     },
     "execution_count": 73,
     "metadata": {},
     "output_type": "execute_result"
    }
   ],
   "source": [
    "get_statistics_of_wer(hvd_sets)"
   ]
  },
  {
   "cell_type": "code",
   "execution_count": 17,
   "metadata": {},
   "outputs": [
    {
     "name": "stderr",
     "output_type": "stream",
     "text": [
      "/home/smehta/anaconda3/envs/whisper/lib/python3.9/site-packages/seaborn/categorical.py:470: FutureWarning: iteritems is deprecated and will be removed in a future version. Use .items instead.\n",
      "  plot_data = [np.asarray(s, float) for k, s in iter_data]\n"
     ]
    },
    {
     "data": {
      "image/png": "[encoded data removed]",
      "text/plain": [
       "<Figure size 2000x1000 with 1 Axes>"
      ]
     },
     "metadata": {},
     "output_type": "display_data"
    }
   ],
   "source": [
    "all_wer = get_all_values(hvd_sets)\n",
    "df = pd.DataFrame.from_dict(all_wer)\n",
    "\n",
    "fig, ax = plt.subplots(figsize=(20, 10))\n",
    "ax.set_title('WER for all models all utterances')\n",
    "sns.boxplot(data=df, ax=ax)\n",
    "plt.show()\n",
    "\n",
    "\n",
    "\n",
    "\n",
    "# top_10_wer = get_all_values(top_10)\n",
    "# df = pd.DataFrame.from_dict(top_10_wer)\n",
    "\n",
    "# fig, ax = plt.subplots(figsize=(16, 10))\n",
    "# ax.set_title('WER for top 10 sets')\n",
    "# sns.boxplot(data=df, ax=ax)\n",
    "# plt.show()"
   ]
  },
  {
   "cell_type": "code",
   "execution_count": 18,
   "metadata": {},
   "outputs": [
    {
     "data": {
      "text/plain": [
       "({'Tacotron2': 6.3605411567144285,\n",
       "  'OverFlow': 2.9044787733859305,\n",
       "  'vits': 7.036830307108329,\n",
       "  'NH2': 5.963835652170534,\n",
       "  'OverFlow_NoDropout': 2.92349196485815,\n",
       "  'Glow': 3.966165072855171,\n",
       "  'OverFlow_NoSample': 2.298129019634867},\n",
       " {'Tacotron2': 3.6216645622426924,\n",
       "  'OverFlow': 2.0607807360433394,\n",
       "  'vits': 3.166543645544089,\n",
       "  'NH2': 2.894176646617541,\n",
       "  'OverFlow_NoDropout': 2.8536203492595775,\n",
       "  'Glow': 2.8964612208342544,\n",
       "  'OverFlow_NoSample': 2.4086797172982597})"
      ]
     },
     "execution_count": 18,
     "metadata": {},
     "output_type": "execute_result"
    }
   ],
   "source": [
    "get_statistics_of_wer(hvd_sets)"
   ]
  },
  {
   "cell_type": "code",
   "execution_count": 76,
   "metadata": {},
   "outputs": [
    {
     "data": {
      "text/plain": [
       "{'NH2': 'He sent the figs, but kept the ripe cherries.',\n",
       " 'NeuralFHMM_NS_150k': 'He sent the figs, but kept the ripe cherries.',\n",
       " 'NeuralFHMM_ND_150k': 'He sent the figs, but kept the ripe cherries.',\n",
       " 'GlowOur': 'He sent the fakes but kept the rot cherries.',\n",
       " 'NeuralFHMM_NoDropout': 'He sent the figs but kept the ripe cherries.',\n",
       " 'Tacotron2': 'He sent the figs, but kept the ripe cherries.',\n",
       " 'NeuralFHMM': 'He sent the figs, but kept the ripe cherries.',\n",
       " 'Glow1': 'He sent the fates, but kept the ripe cherries.',\n",
       " 'NeuralFHMM_NoSampling': 'He sent the figs but kept the ripe cherries.',\n",
       " 'Glow': 'He sent the fakes, but kept the right cherries.',\n",
       " 'Tacotron2Our': 'He sent the figs, but kept the ripe cherries.',\n",
       " 'NeuralFHMM100k': 'He sent the figs, but kept the ripe cherries.'}"
      ]
     },
     "execution_count": 76,
     "metadata": {},
     "output_type": "execute_result"
    }
   ],
   "source": [
    "{key: value[3] for key, value in top_10[2].transcriptions.items()}"
   ]
  },
  {
   "cell_type": "code",
   "execution_count": null,
   "metadata": {},
   "outputs": [],
   "source": []
  },
  {
   "cell_type": "code",
   "execution_count": null,
   "metadata": {},
   "outputs": [],
   "source": []
  }
 ],
 "metadata": {
  "kernelspec": {
   "display_name": "whisper",
   "language": "python",
   "name": "python3"
  },
  "language_info": {
   "codemirror_mode": {
    "name": "ipython",
    "version": 3
   },
   "file_extension": ".py",
   "mimetype": "text/x-python",
   "name": "python",
   "nbconvert_exporter": "python",
   "pygments_lexer": "ipython3",
   "version": "3.9.13"
  },
  "orig_nbformat": 4,
  "vscode": {
   "interpreter": {
    "hash": "5345d537206f398b8fc5eb7643a812daa51a248d7da41ce7a80c38f8bb268669"
   }
  }
 },
 "nbformat": 4,
 "nbformat_minor": 2
}
